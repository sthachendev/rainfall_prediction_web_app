{
 "cells": [
  {
   "cell_type": "markdown",
   "id": "3b828302",
   "metadata": {},
   "source": [
    "### Data Exploration and Discovery"
   ]
  },
  {
   "cell_type": "code",
   "execution_count": 1,
   "id": "c7020abd",
   "metadata": {},
   "outputs": [],
   "source": [
    "import pandas as pd"
   ]
  },
  {
   "cell_type": "code",
   "execution_count": 2,
   "id": "87491b31",
   "metadata": {
    "scrolled": true
   },
   "outputs": [
    {
     "data": {
      "text/html": [
       "<div>\n",
       "<style scoped>\n",
       "    .dataframe tbody tr th:only-of-type {\n",
       "        vertical-align: middle;\n",
       "    }\n",
       "\n",
       "    .dataframe tbody tr th {\n",
       "        vertical-align: top;\n",
       "    }\n",
       "\n",
       "    .dataframe thead th {\n",
       "        text-align: right;\n",
       "    }\n",
       "</style>\n",
       "<table border=\"1\" class=\"dataframe\">\n",
       "  <thead>\n",
       "    <tr style=\"text-align: right;\">\n",
       "      <th></th>\n",
       "      <th>location</th>\n",
       "      <th>Year</th>\n",
       "      <th>Month</th>\n",
       "      <th>Tmax</th>\n",
       "      <th>Tmin</th>\n",
       "      <th>RH</th>\n",
       "      <th>Wind_Speed</th>\n",
       "      <th>Rainfall</th>\n",
       "    </tr>\n",
       "  </thead>\n",
       "  <tbody>\n",
       "    <tr>\n",
       "      <th>0</th>\n",
       "      <td>Paro</td>\n",
       "      <td>2000</td>\n",
       "      <td>1</td>\n",
       "      <td>9.5</td>\n",
       "      <td>-0.4</td>\n",
       "      <td>65.0</td>\n",
       "      <td>0.26</td>\n",
       "      <td>0.0</td>\n",
       "    </tr>\n",
       "    <tr>\n",
       "      <th>1</th>\n",
       "      <td>Paro</td>\n",
       "      <td>2000</td>\n",
       "      <td>2</td>\n",
       "      <td>10.6</td>\n",
       "      <td>2.0</td>\n",
       "      <td>65.0</td>\n",
       "      <td>0.52</td>\n",
       "      <td>0.0</td>\n",
       "    </tr>\n",
       "    <tr>\n",
       "      <th>2</th>\n",
       "      <td>Paro</td>\n",
       "      <td>2000</td>\n",
       "      <td>3</td>\n",
       "      <td>14.5</td>\n",
       "      <td>4.0</td>\n",
       "      <td>69.0</td>\n",
       "      <td>0.52</td>\n",
       "      <td>11.0</td>\n",
       "    </tr>\n",
       "    <tr>\n",
       "      <th>3</th>\n",
       "      <td>Paro</td>\n",
       "      <td>2000</td>\n",
       "      <td>4</td>\n",
       "      <td>19.6</td>\n",
       "      <td>8.7</td>\n",
       "      <td>77.0</td>\n",
       "      <td>0.42</td>\n",
       "      <td>23.4</td>\n",
       "    </tr>\n",
       "    <tr>\n",
       "      <th>4</th>\n",
       "      <td>Paro</td>\n",
       "      <td>2000</td>\n",
       "      <td>5</td>\n",
       "      <td>22.5</td>\n",
       "      <td>10.2</td>\n",
       "      <td>77.0</td>\n",
       "      <td>0.24</td>\n",
       "      <td>98.4</td>\n",
       "    </tr>\n",
       "  </tbody>\n",
       "</table>\n",
       "</div>"
      ],
      "text/plain": [
       "  location  Year  Month  Tmax  Tmin    RH  Wind_Speed  Rainfall\n",
       "0     Paro  2000      1   9.5  -0.4  65.0        0.26       0.0\n",
       "1     Paro  2000      2  10.6   2.0  65.0        0.52       0.0\n",
       "2     Paro  2000      3  14.5   4.0  69.0        0.52      11.0\n",
       "3     Paro  2000      4  19.6   8.7  77.0        0.42      23.4\n",
       "4     Paro  2000      5  22.5  10.2  77.0        0.24      98.4"
      ]
     },
     "execution_count": 2,
     "metadata": {},
     "output_type": "execute_result"
    }
   ],
   "source": [
    "df = pd.read_csv('rainfall.csv')\n",
    "df.head()"
   ]
  },
  {
   "cell_type": "code",
   "execution_count": 3,
   "id": "08a4adb9",
   "metadata": {},
   "outputs": [
    {
     "data": {
      "text/html": [
       "<div>\n",
       "<style scoped>\n",
       "    .dataframe tbody tr th:only-of-type {\n",
       "        vertical-align: middle;\n",
       "    }\n",
       "\n",
       "    .dataframe tbody tr th {\n",
       "        vertical-align: top;\n",
       "    }\n",
       "\n",
       "    .dataframe thead th {\n",
       "        text-align: right;\n",
       "    }\n",
       "</style>\n",
       "<table border=\"1\" class=\"dataframe\">\n",
       "  <thead>\n",
       "    <tr style=\"text-align: right;\">\n",
       "      <th></th>\n",
       "      <th>location</th>\n",
       "      <th>Year</th>\n",
       "      <th>Month</th>\n",
       "      <th>Tmax</th>\n",
       "      <th>Tmin</th>\n",
       "      <th>RH</th>\n",
       "      <th>Wind_Speed</th>\n",
       "      <th>Rainfall</th>\n",
       "    </tr>\n",
       "  </thead>\n",
       "  <tbody>\n",
       "    <tr>\n",
       "      <th>2634</th>\n",
       "      <td>Tashiyangtse</td>\n",
       "      <td>2021</td>\n",
       "      <td>8</td>\n",
       "      <td>25.306452</td>\n",
       "      <td>19.322581</td>\n",
       "      <td>86.129032</td>\n",
       "      <td>0.283226</td>\n",
       "      <td>192.3</td>\n",
       "    </tr>\n",
       "    <tr>\n",
       "      <th>2635</th>\n",
       "      <td>Tashiyangtse</td>\n",
       "      <td>2021</td>\n",
       "      <td>9</td>\n",
       "      <td>27.500000</td>\n",
       "      <td>16.816667</td>\n",
       "      <td>78.966667</td>\n",
       "      <td>0.283000</td>\n",
       "      <td>139.8</td>\n",
       "    </tr>\n",
       "    <tr>\n",
       "      <th>2636</th>\n",
       "      <td>Tashiyangtse</td>\n",
       "      <td>2021</td>\n",
       "      <td>10</td>\n",
       "      <td>24.951613</td>\n",
       "      <td>12.790323</td>\n",
       "      <td>78.838710</td>\n",
       "      <td>0.286129</td>\n",
       "      <td>94.6</td>\n",
       "    </tr>\n",
       "    <tr>\n",
       "      <th>2637</th>\n",
       "      <td>Tashiyangtse</td>\n",
       "      <td>2021</td>\n",
       "      <td>11</td>\n",
       "      <td>20.050000</td>\n",
       "      <td>6.266667</td>\n",
       "      <td>75.666667</td>\n",
       "      <td>0.328333</td>\n",
       "      <td>9.0</td>\n",
       "    </tr>\n",
       "    <tr>\n",
       "      <th>2638</th>\n",
       "      <td>Tashiyangtse</td>\n",
       "      <td>2021</td>\n",
       "      <td>12</td>\n",
       "      <td>16.854839</td>\n",
       "      <td>1.935484</td>\n",
       "      <td>74.483871</td>\n",
       "      <td>0.321290</td>\n",
       "      <td>21.0</td>\n",
       "    </tr>\n",
       "  </tbody>\n",
       "</table>\n",
       "</div>"
      ],
      "text/plain": [
       "          location  Year  Month       Tmax       Tmin         RH  Wind_Speed  \\\n",
       "2634  Tashiyangtse  2021      8  25.306452  19.322581  86.129032    0.283226   \n",
       "2635  Tashiyangtse  2021      9  27.500000  16.816667  78.966667    0.283000   \n",
       "2636  Tashiyangtse  2021     10  24.951613  12.790323  78.838710    0.286129   \n",
       "2637  Tashiyangtse  2021     11  20.050000   6.266667  75.666667    0.328333   \n",
       "2638  Tashiyangtse  2021     12  16.854839   1.935484  74.483871    0.321290   \n",
       "\n",
       "      Rainfall  \n",
       "2634     192.3  \n",
       "2635     139.8  \n",
       "2636      94.6  \n",
       "2637       9.0  \n",
       "2638      21.0  "
      ]
     },
     "execution_count": 3,
     "metadata": {},
     "output_type": "execute_result"
    }
   ],
   "source": [
    "df.tail()"
   ]
  },
  {
   "cell_type": "code",
   "execution_count": 4,
   "id": "cac53cf8",
   "metadata": {},
   "outputs": [
    {
     "data": {
      "text/plain": [
       "(2639, 8)"
      ]
     },
     "execution_count": 4,
     "metadata": {},
     "output_type": "execute_result"
    }
   ],
   "source": [
    "df.shape"
   ]
  },
  {
   "cell_type": "code",
   "execution_count": 5,
   "id": "8cdd4057",
   "metadata": {},
   "outputs": [
    {
     "data": {
      "text/plain": [
       "Index(['location', 'Year', 'Month', 'Tmax', 'Tmin', 'RH', 'Wind_Speed',\n",
       "       'Rainfall'],\n",
       "      dtype='object')"
      ]
     },
     "execution_count": 5,
     "metadata": {},
     "output_type": "execute_result"
    }
   ],
   "source": [
    "df.columns"
   ]
  },
  {
   "cell_type": "code",
   "execution_count": 6,
   "id": "2522c803",
   "metadata": {},
   "outputs": [
    {
     "data": {
      "text/plain": [
       "location       object\n",
       "Year            int64\n",
       "Month           int64\n",
       "Tmax          float64\n",
       "Tmin          float64\n",
       "RH            float64\n",
       "Wind_Speed    float64\n",
       "Rainfall      float64\n",
       "dtype: object"
      ]
     },
     "execution_count": 6,
     "metadata": {},
     "output_type": "execute_result"
    }
   ],
   "source": [
    "df.dtypes"
   ]
  },
  {
   "cell_type": "code",
   "execution_count": 7,
   "id": "26a3882f",
   "metadata": {},
   "outputs": [
    {
     "data": {
      "text/html": [
       "<div>\n",
       "<style scoped>\n",
       "    .dataframe tbody tr th:only-of-type {\n",
       "        vertical-align: middle;\n",
       "    }\n",
       "\n",
       "    .dataframe tbody tr th {\n",
       "        vertical-align: top;\n",
       "    }\n",
       "\n",
       "    .dataframe thead th {\n",
       "        text-align: right;\n",
       "    }\n",
       "</style>\n",
       "<table border=\"1\" class=\"dataframe\">\n",
       "  <thead>\n",
       "    <tr style=\"text-align: right;\">\n",
       "      <th></th>\n",
       "      <th>Year</th>\n",
       "      <th>Month</th>\n",
       "      <th>Tmax</th>\n",
       "      <th>Tmin</th>\n",
       "      <th>RH</th>\n",
       "      <th>Wind_Speed</th>\n",
       "      <th>Rainfall</th>\n",
       "    </tr>\n",
       "  </thead>\n",
       "  <tbody>\n",
       "    <tr>\n",
       "      <th>count</th>\n",
       "      <td>2639.000000</td>\n",
       "      <td>2639.000000</td>\n",
       "      <td>2638.000000</td>\n",
       "      <td>2638.000000</td>\n",
       "      <td>2637.000000</td>\n",
       "      <td>2632.000000</td>\n",
       "      <td>2638.000000</td>\n",
       "    </tr>\n",
       "    <tr>\n",
       "      <th>mean</th>\n",
       "      <td>2010.498295</td>\n",
       "      <td>6.498674</td>\n",
       "      <td>21.468284</td>\n",
       "      <td>10.279984</td>\n",
       "      <td>72.616870</td>\n",
       "      <td>0.824214</td>\n",
       "      <td>99.919894</td>\n",
       "    </tr>\n",
       "    <tr>\n",
       "      <th>std</th>\n",
       "      <td>6.346088</td>\n",
       "      <td>3.453457</td>\n",
       "      <td>5.040461</td>\n",
       "      <td>7.010512</td>\n",
       "      <td>9.919349</td>\n",
       "      <td>0.427144</td>\n",
       "      <td>160.770207</td>\n",
       "    </tr>\n",
       "    <tr>\n",
       "      <th>min</th>\n",
       "      <td>2000.000000</td>\n",
       "      <td>1.000000</td>\n",
       "      <td>7.300000</td>\n",
       "      <td>-70.774194</td>\n",
       "      <td>36.000000</td>\n",
       "      <td>0.003226</td>\n",
       "      <td>0.000000</td>\n",
       "    </tr>\n",
       "    <tr>\n",
       "      <th>25%</th>\n",
       "      <td>2005.000000</td>\n",
       "      <td>3.500000</td>\n",
       "      <td>17.900000</td>\n",
       "      <td>5.596774</td>\n",
       "      <td>66.225806</td>\n",
       "      <td>0.525572</td>\n",
       "      <td>7.900000</td>\n",
       "    </tr>\n",
       "    <tr>\n",
       "      <th>50%</th>\n",
       "      <td>2010.000000</td>\n",
       "      <td>6.000000</td>\n",
       "      <td>21.967742</td>\n",
       "      <td>11.303226</td>\n",
       "      <td>73.000000</td>\n",
       "      <td>0.793333</td>\n",
       "      <td>51.000000</td>\n",
       "    </tr>\n",
       "    <tr>\n",
       "      <th>75%</th>\n",
       "      <td>2016.000000</td>\n",
       "      <td>9.500000</td>\n",
       "      <td>25.100000</td>\n",
       "      <td>15.642204</td>\n",
       "      <td>79.741935</td>\n",
       "      <td>1.090000</td>\n",
       "      <td>129.900000</td>\n",
       "    </tr>\n",
       "    <tr>\n",
       "      <th>max</th>\n",
       "      <td>2021.000000</td>\n",
       "      <td>12.000000</td>\n",
       "      <td>34.354839</td>\n",
       "      <td>24.033333</td>\n",
       "      <td>98.967742</td>\n",
       "      <td>4.470000</td>\n",
       "      <td>2125.900000</td>\n",
       "    </tr>\n",
       "  </tbody>\n",
       "</table>\n",
       "</div>"
      ],
      "text/plain": [
       "              Year        Month         Tmax         Tmin           RH  \\\n",
       "count  2639.000000  2639.000000  2638.000000  2638.000000  2637.000000   \n",
       "mean   2010.498295     6.498674    21.468284    10.279984    72.616870   \n",
       "std       6.346088     3.453457     5.040461     7.010512     9.919349   \n",
       "min    2000.000000     1.000000     7.300000   -70.774194    36.000000   \n",
       "25%    2005.000000     3.500000    17.900000     5.596774    66.225806   \n",
       "50%    2010.000000     6.000000    21.967742    11.303226    73.000000   \n",
       "75%    2016.000000     9.500000    25.100000    15.642204    79.741935   \n",
       "max    2021.000000    12.000000    34.354839    24.033333    98.967742   \n",
       "\n",
       "        Wind_Speed     Rainfall  \n",
       "count  2632.000000  2638.000000  \n",
       "mean      0.824214    99.919894  \n",
       "std       0.427144   160.770207  \n",
       "min       0.003226     0.000000  \n",
       "25%       0.525572     7.900000  \n",
       "50%       0.793333    51.000000  \n",
       "75%       1.090000   129.900000  \n",
       "max       4.470000  2125.900000  "
      ]
     },
     "execution_count": 7,
     "metadata": {},
     "output_type": "execute_result"
    }
   ],
   "source": [
    "df.describe()"
   ]
  },
  {
   "cell_type": "markdown",
   "id": "32148e4e",
   "metadata": {},
   "source": [
    "### Handle Missing Value"
   ]
  },
  {
   "cell_type": "code",
   "execution_count": 8,
   "id": "02ee45da",
   "metadata": {},
   "outputs": [
    {
     "data": {
      "text/plain": [
       "location      0\n",
       "Year          0\n",
       "Month         0\n",
       "Tmax          1\n",
       "Tmin          1\n",
       "RH            2\n",
       "Wind_Speed    7\n",
       "Rainfall      1\n",
       "dtype: int64"
      ]
     },
     "execution_count": 8,
     "metadata": {},
     "output_type": "execute_result"
    }
   ],
   "source": [
    "df.isnull().sum()"
   ]
  },
  {
   "cell_type": "code",
   "execution_count": 9,
   "id": "ef32cc6a",
   "metadata": {},
   "outputs": [
    {
     "data": {
      "text/plain": [
       "location      0\n",
       "Year          0\n",
       "Month         0\n",
       "Tmax          0\n",
       "Tmin          0\n",
       "RH            0\n",
       "Wind_Speed    0\n",
       "Rainfall      0\n",
       "dtype: int64"
      ]
     },
     "execution_count": 9,
     "metadata": {},
     "output_type": "execute_result"
    }
   ],
   "source": [
    "df = df.dropna()\n",
    "df.isnull().sum()"
   ]
  },
  {
   "cell_type": "markdown",
   "id": "e7cadc96",
   "metadata": {},
   "source": [
    "#### Label encoding location "
   ]
  },
  {
   "cell_type": "code",
   "execution_count": 10,
   "id": "78060ab6",
   "metadata": {},
   "outputs": [
    {
     "data": {
      "text/plain": [
       "Paro            264\n",
       "simkotha        264\n",
       "Haa             264\n",
       "Kanglung        264\n",
       "Mongar          264\n",
       "Chamkhar        263\n",
       "Deothang        263\n",
       "Punakha         262\n",
       "Pemagatshel     261\n",
       "Tashiyangtse    261\n",
       "Name: location, dtype: int64"
      ]
     },
     "execution_count": 10,
     "metadata": {},
     "output_type": "execute_result"
    }
   ],
   "source": [
    "df['location'].value_counts()"
   ]
  },
  {
   "cell_type": "code",
   "execution_count": 11,
   "id": "c93fdac9",
   "metadata": {},
   "outputs": [
    {
     "data": {
      "text/html": [
       "<div>\n",
       "<style scoped>\n",
       "    .dataframe tbody tr th:only-of-type {\n",
       "        vertical-align: middle;\n",
       "    }\n",
       "\n",
       "    .dataframe tbody tr th {\n",
       "        vertical-align: top;\n",
       "    }\n",
       "\n",
       "    .dataframe thead th {\n",
       "        text-align: right;\n",
       "    }\n",
       "</style>\n",
       "<table border=\"1\" class=\"dataframe\">\n",
       "  <thead>\n",
       "    <tr style=\"text-align: right;\">\n",
       "      <th></th>\n",
       "      <th>location</th>\n",
       "      <th>Year</th>\n",
       "      <th>Month</th>\n",
       "      <th>Tmax</th>\n",
       "      <th>Tmin</th>\n",
       "      <th>RH</th>\n",
       "      <th>Wind_Speed</th>\n",
       "      <th>Rainfall</th>\n",
       "    </tr>\n",
       "  </thead>\n",
       "  <tbody>\n",
       "    <tr>\n",
       "      <th>0</th>\n",
       "      <td>5</td>\n",
       "      <td>2000</td>\n",
       "      <td>1</td>\n",
       "      <td>9.5</td>\n",
       "      <td>-0.4</td>\n",
       "      <td>65.0</td>\n",
       "      <td>0.26</td>\n",
       "      <td>0.0</td>\n",
       "    </tr>\n",
       "    <tr>\n",
       "      <th>1</th>\n",
       "      <td>5</td>\n",
       "      <td>2000</td>\n",
       "      <td>2</td>\n",
       "      <td>10.6</td>\n",
       "      <td>2.0</td>\n",
       "      <td>65.0</td>\n",
       "      <td>0.52</td>\n",
       "      <td>0.0</td>\n",
       "    </tr>\n",
       "    <tr>\n",
       "      <th>2</th>\n",
       "      <td>5</td>\n",
       "      <td>2000</td>\n",
       "      <td>3</td>\n",
       "      <td>14.5</td>\n",
       "      <td>4.0</td>\n",
       "      <td>69.0</td>\n",
       "      <td>0.52</td>\n",
       "      <td>11.0</td>\n",
       "    </tr>\n",
       "    <tr>\n",
       "      <th>3</th>\n",
       "      <td>5</td>\n",
       "      <td>2000</td>\n",
       "      <td>4</td>\n",
       "      <td>19.6</td>\n",
       "      <td>8.7</td>\n",
       "      <td>77.0</td>\n",
       "      <td>0.42</td>\n",
       "      <td>23.4</td>\n",
       "    </tr>\n",
       "    <tr>\n",
       "      <th>4</th>\n",
       "      <td>5</td>\n",
       "      <td>2000</td>\n",
       "      <td>5</td>\n",
       "      <td>22.5</td>\n",
       "      <td>10.2</td>\n",
       "      <td>77.0</td>\n",
       "      <td>0.24</td>\n",
       "      <td>98.4</td>\n",
       "    </tr>\n",
       "  </tbody>\n",
       "</table>\n",
       "</div>"
      ],
      "text/plain": [
       "   location  Year  Month  Tmax  Tmin    RH  Wind_Speed  Rainfall\n",
       "0         5  2000      1   9.5  -0.4  65.0        0.26       0.0\n",
       "1         5  2000      2  10.6   2.0  65.0        0.52       0.0\n",
       "2         5  2000      3  14.5   4.0  69.0        0.52      11.0\n",
       "3         5  2000      4  19.6   8.7  77.0        0.42      23.4\n",
       "4         5  2000      5  22.5  10.2  77.0        0.24      98.4"
      ]
     },
     "execution_count": 11,
     "metadata": {},
     "output_type": "execute_result"
    }
   ],
   "source": [
    "from sklearn import preprocessing \n",
    "\n",
    "label_encoder = preprocessing.LabelEncoder()\n",
    "df['location'] = label_encoder.fit_transform(df['location'])\n",
    "df.head()"
   ]
  },
  {
   "cell_type": "code",
   "execution_count": 12,
   "id": "c0a1ab8d",
   "metadata": {},
   "outputs": [
    {
     "data": {
      "text/plain": [
       "array([5, 6, 7, 9, 0, 1, 2, 3, 4, 8])"
      ]
     },
     "execution_count": 12,
     "metadata": {},
     "output_type": "execute_result"
    }
   ],
   "source": [
    "df.location.unique()"
   ]
  },
  {
   "cell_type": "markdown",
   "id": "f279ed9b",
   "metadata": {},
   "source": [
    "### Visualization"
   ]
  },
  {
   "cell_type": "code",
   "execution_count": 13,
   "id": "3149966e",
   "metadata": {},
   "outputs": [],
   "source": [
    "import matplotlib.pyplot as plt"
   ]
  },
  {
   "cell_type": "code",
   "execution_count": 14,
   "id": "98f95020",
   "metadata": {},
   "outputs": [
    {
     "data": {
      "image/png": "[encoded data removed]",
      "text/plain": [
       "<Figure size 432x288 with 1 Axes>"
      ]
     },
     "metadata": {
      "needs_background": "light"
     },
     "output_type": "display_data"
    }
   ],
   "source": [
    "x = df.Tmax\n",
    "y = df.Rainfall\n",
    "plt.scatter(x,y)\n",
    "plt.xlabel('Tmax (c)')\n",
    "plt.ylabel('Rainfall (ml)')\n",
    "plt.show()"
   ]
  },
  {
   "cell_type": "code",
   "execution_count": 15,
   "id": "feaa2d47",
   "metadata": {},
   "outputs": [
    {
     "data": {
      "image/png": "[encoded data removed]",
      "text/plain": [
       "<Figure size 432x288 with 1 Axes>"
      ]
     },
     "metadata": {
      "needs_background": "light"
     },
     "output_type": "display_data"
    }
   ],
   "source": [
    "x = df.Tmin\n",
    "y = df.Rainfall\n",
    "plt.scatter(x,y)\n",
    "plt.xlabel('Tmin (c)')\n",
    "plt.ylabel('Rainfall (ml)')\n",
    "plt.show()"
   ]
  },
  {
   "cell_type": "code",
   "execution_count": 16,
   "id": "13a3450b",
   "metadata": {},
   "outputs": [
    {
     "data": {
      "image/png": "[encoded data removed]",
      "text/plain": [
       "<Figure size 432x288 with 1 Axes>"
      ]
     },
     "metadata": {
      "needs_background": "light"
     },
     "output_type": "display_data"
    }
   ],
   "source": [
    "x = df.RH\n",
    "y = df.Rainfall\n",
    "plt.scatter(x,y)\n",
    "plt.xlabel('Relative Humidity (RH) (%)')\n",
    "plt.ylabel('Rainfall (ml)')\n",
    "plt.show()"
   ]
  },
  {
   "cell_type": "code",
   "execution_count": 17,
   "id": "7c55cd20",
   "metadata": {},
   "outputs": [
    {
     "ename": "KeyError",
     "evalue": "'Wind Speed'",
     "output_type": "error",
     "traceback": [
      "\u001b[1;31m---------------------------------------------------------------------------\u001b[0m",
      "\u001b[1;31mKeyError\u001b[0m                                  Traceback (most recent call last)",
      "\u001b[1;32m~\\anaconda3\\lib\\site-packages\\pandas\\core\\indexes\\base.py\u001b[0m in \u001b[0;36mget_loc\u001b[1;34m(self, key, method, tolerance)\u001b[0m\n\u001b[0;32m   3360\u001b[0m             \u001b[1;32mtry\u001b[0m\u001b[1;33m:\u001b[0m\u001b[1;33m\u001b[0m\u001b[1;33m\u001b[0m\u001b[0m\n\u001b[1;32m-> 3361\u001b[1;33m                 \u001b[1;32mreturn\u001b[0m \u001b[0mself\u001b[0m\u001b[1;33m.\u001b[0m\u001b[0m_engine\u001b[0m\u001b[1;33m.\u001b[0m\u001b[0mget_loc\u001b[0m\u001b[1;33m(\u001b[0m\u001b[0mcasted_key\u001b[0m\u001b[1;33m)\u001b[0m\u001b[1;33m\u001b[0m\u001b[1;33m\u001b[0m\u001b[0m\n\u001b[0m\u001b[0;32m   3362\u001b[0m             \u001b[1;32mexcept\u001b[0m \u001b[0mKeyError\u001b[0m \u001b[1;32mas\u001b[0m \u001b[0merr\u001b[0m\u001b[1;33m:\u001b[0m\u001b[1;33m\u001b[0m\u001b[1;33m\u001b[0m\u001b[0m\n",
      "\u001b[1;32m~\\anaconda3\\lib\\site-packages\\pandas\\_libs\\index.pyx\u001b[0m in \u001b[0;36mpandas._libs.index.IndexEngine.get_loc\u001b[1;34m()\u001b[0m\n",
      "\u001b[1;32m~\\anaconda3\\lib\\site-packages\\pandas\\_libs\\index.pyx\u001b[0m in \u001b[0;36mpandas._libs.index.IndexEngine.get_loc\u001b[1;34m()\u001b[0m\n",
      "\u001b[1;32mpandas\\_libs\\hashtable_class_helper.pxi\u001b[0m in \u001b[0;36mpandas._libs.hashtable.PyObjectHashTable.get_item\u001b[1;34m()\u001b[0m\n",
      "\u001b[1;32mpandas\\_libs\\hashtable_class_helper.pxi\u001b[0m in \u001b[0;36mpandas._libs.hashtable.PyObjectHashTable.get_item\u001b[1;34m()\u001b[0m\n",
      "\u001b[1;31mKeyError\u001b[0m: 'Wind Speed'",
      "\nThe above exception was the direct cause of the following exception:\n",
      "\u001b[1;31mKeyError\u001b[0m                                  Traceback (most recent call last)",
      "\u001b[1;32mC:\\Users\\THACHE~1\\AppData\\Local\\Temp/ipykernel_8020/3683470552.py\u001b[0m in \u001b[0;36m<module>\u001b[1;34m\u001b[0m\n\u001b[1;32m----> 1\u001b[1;33m \u001b[0mx\u001b[0m \u001b[1;33m=\u001b[0m \u001b[0mdf\u001b[0m\u001b[1;33m[\u001b[0m\u001b[1;34m'Wind Speed'\u001b[0m\u001b[1;33m]\u001b[0m\u001b[1;33m\u001b[0m\u001b[1;33m\u001b[0m\u001b[0m\n\u001b[0m\u001b[0;32m      2\u001b[0m \u001b[0my\u001b[0m \u001b[1;33m=\u001b[0m \u001b[0mdf\u001b[0m\u001b[1;33m.\u001b[0m\u001b[0mRainfall\u001b[0m\u001b[1;33m\u001b[0m\u001b[1;33m\u001b[0m\u001b[0m\n\u001b[0;32m      3\u001b[0m \u001b[0mplt\u001b[0m\u001b[1;33m.\u001b[0m\u001b[0mscatter\u001b[0m\u001b[1;33m(\u001b[0m\u001b[0mx\u001b[0m\u001b[1;33m,\u001b[0m\u001b[0my\u001b[0m\u001b[1;33m)\u001b[0m\u001b[1;33m\u001b[0m\u001b[1;33m\u001b[0m\u001b[0m\n\u001b[0;32m      4\u001b[0m \u001b[0mplt\u001b[0m\u001b[1;33m.\u001b[0m\u001b[0mxlabel\u001b[0m\u001b[1;33m(\u001b[0m\u001b[1;34m'Wind speed (m/s)'\u001b[0m\u001b[1;33m)\u001b[0m\u001b[1;33m\u001b[0m\u001b[1;33m\u001b[0m\u001b[0m\n\u001b[0;32m      5\u001b[0m \u001b[0mplt\u001b[0m\u001b[1;33m.\u001b[0m\u001b[0mylabel\u001b[0m\u001b[1;33m(\u001b[0m\u001b[1;34m'Rainfall (ml)'\u001b[0m\u001b[1;33m)\u001b[0m\u001b[1;33m\u001b[0m\u001b[1;33m\u001b[0m\u001b[0m\n",
      "\u001b[1;32m~\\anaconda3\\lib\\site-packages\\pandas\\core\\frame.py\u001b[0m in \u001b[0;36m__getitem__\u001b[1;34m(self, key)\u001b[0m\n\u001b[0;32m   3456\u001b[0m             \u001b[1;32mif\u001b[0m \u001b[0mself\u001b[0m\u001b[1;33m.\u001b[0m\u001b[0mcolumns\u001b[0m\u001b[1;33m.\u001b[0m\u001b[0mnlevels\u001b[0m \u001b[1;33m>\u001b[0m \u001b[1;36m1\u001b[0m\u001b[1;33m:\u001b[0m\u001b[1;33m\u001b[0m\u001b[1;33m\u001b[0m\u001b[0m\n\u001b[0;32m   3457\u001b[0m                 \u001b[1;32mreturn\u001b[0m \u001b[0mself\u001b[0m\u001b[1;33m.\u001b[0m\u001b[0m_getitem_multilevel\u001b[0m\u001b[1;33m(\u001b[0m\u001b[0mkey\u001b[0m\u001b[1;33m)\u001b[0m\u001b[1;33m\u001b[0m\u001b[1;33m\u001b[0m\u001b[0m\n\u001b[1;32m-> 3458\u001b[1;33m             \u001b[0mindexer\u001b[0m \u001b[1;33m=\u001b[0m \u001b[0mself\u001b[0m\u001b[1;33m.\u001b[0m\u001b[0mcolumns\u001b[0m\u001b[1;33m.\u001b[0m\u001b[0mget_loc\u001b[0m\u001b[1;33m(\u001b[0m\u001b[0mkey\u001b[0m\u001b[1;33m)\u001b[0m\u001b[1;33m\u001b[0m\u001b[1;33m\u001b[0m\u001b[0m\n\u001b[0m\u001b[0;32m   3459\u001b[0m             \u001b[1;32mif\u001b[0m \u001b[0mis_integer\u001b[0m\u001b[1;33m(\u001b[0m\u001b[0mindexer\u001b[0m\u001b[1;33m)\u001b[0m\u001b[1;33m:\u001b[0m\u001b[1;33m\u001b[0m\u001b[1;33m\u001b[0m\u001b[0m\n\u001b[0;32m   3460\u001b[0m                 \u001b[0mindexer\u001b[0m \u001b[1;33m=\u001b[0m \u001b[1;33m[\u001b[0m\u001b[0mindexer\u001b[0m\u001b[1;33m]\u001b[0m\u001b[1;33m\u001b[0m\u001b[1;33m\u001b[0m\u001b[0m\n",
      "\u001b[1;32m~\\anaconda3\\lib\\site-packages\\pandas\\core\\indexes\\base.py\u001b[0m in \u001b[0;36mget_loc\u001b[1;34m(self, key, method, tolerance)\u001b[0m\n\u001b[0;32m   3361\u001b[0m                 \u001b[1;32mreturn\u001b[0m \u001b[0mself\u001b[0m\u001b[1;33m.\u001b[0m\u001b[0m_engine\u001b[0m\u001b[1;33m.\u001b[0m\u001b[0mget_loc\u001b[0m\u001b[1;33m(\u001b[0m\u001b[0mcasted_key\u001b[0m\u001b[1;33m)\u001b[0m\u001b[1;33m\u001b[0m\u001b[1;33m\u001b[0m\u001b[0m\n\u001b[0;32m   3362\u001b[0m             \u001b[1;32mexcept\u001b[0m \u001b[0mKeyError\u001b[0m \u001b[1;32mas\u001b[0m \u001b[0merr\u001b[0m\u001b[1;33m:\u001b[0m\u001b[1;33m\u001b[0m\u001b[1;33m\u001b[0m\u001b[0m\n\u001b[1;32m-> 3363\u001b[1;33m                 \u001b[1;32mraise\u001b[0m \u001b[0mKeyError\u001b[0m\u001b[1;33m(\u001b[0m\u001b[0mkey\u001b[0m\u001b[1;33m)\u001b[0m \u001b[1;32mfrom\u001b[0m \u001b[0merr\u001b[0m\u001b[1;33m\u001b[0m\u001b[1;33m\u001b[0m\u001b[0m\n\u001b[0m\u001b[0;32m   3364\u001b[0m \u001b[1;33m\u001b[0m\u001b[0m\n\u001b[0;32m   3365\u001b[0m         \u001b[1;32mif\u001b[0m \u001b[0mis_scalar\u001b[0m\u001b[1;33m(\u001b[0m\u001b[0mkey\u001b[0m\u001b[1;33m)\u001b[0m \u001b[1;32mand\u001b[0m \u001b[0misna\u001b[0m\u001b[1;33m(\u001b[0m\u001b[0mkey\u001b[0m\u001b[1;33m)\u001b[0m \u001b[1;32mand\u001b[0m \u001b[1;32mnot\u001b[0m \u001b[0mself\u001b[0m\u001b[1;33m.\u001b[0m\u001b[0mhasnans\u001b[0m\u001b[1;33m:\u001b[0m\u001b[1;33m\u001b[0m\u001b[1;33m\u001b[0m\u001b[0m\n",
      "\u001b[1;31mKeyError\u001b[0m: 'Wind Speed'"
     ]
    }
   ],
   "source": [
    "x = df['Wind Speed']\n",
    "y = df.Rainfall\n",
    "plt.scatter(x,y)\n",
    "plt.xlabel('Wind speed (m/s)')\n",
    "plt.ylabel('Rainfall (ml)')\n",
    "plt.show()"
   ]
  },
  {
   "cell_type": "markdown",
   "id": "a1e4510c",
   "metadata": {},
   "source": [
    "### Removing Outliers"
   ]
  },
  {
   "cell_type": "code",
   "execution_count": null,
   "id": "105c8f71",
   "metadata": {},
   "outputs": [],
   "source": [
    "import seaborn as sns"
   ]
  },
  {
   "cell_type": "code",
   "execution_count": null,
   "id": "b88eac2b",
   "metadata": {},
   "outputs": [],
   "source": [
    "#finding outliers\n",
    "sns.boxplot(x=df.RH)\n",
    "plt.show()"
   ]
  },
  {
   "cell_type": "code",
   "execution_count": null,
   "id": "91203e54",
   "metadata": {},
   "outputs": [],
   "source": [
    "#removing outliers\n",
    "Q1 = df.RH.quantile(0.25)\n",
    "Q3 = df.RH.quantile(0.75)\n",
    "\n",
    "IQR = Q3 - Q1\n",
    "\n",
    "upperlimit = Q3 + (IQR * 1.5)\n",
    "lowerlimit = Q1 - (IQR * 1.5)\n",
    "\n",
    "df2=df[(df.RH> lowerlimit)  & (df.RH < upperlimit)]\n",
    "df2.shape"
   ]
  },
  {
   "cell_type": "code",
   "execution_count": null,
   "id": "71de006e",
   "metadata": {},
   "outputs": [],
   "source": [
    "#after removing outliers from RH\n",
    "sns.boxplot(x=df2.RH)\n",
    "plt.show()"
   ]
  },
  {
   "cell_type": "code",
   "execution_count": null,
   "id": "e6552dcf",
   "metadata": {},
   "outputs": [],
   "source": [
    "#finding outliers\n",
    "sns.boxplot(x=df2['Wind Speed'])\n",
    "plt.show()"
   ]
  },
  {
   "cell_type": "code",
   "execution_count": null,
   "id": "adde8c28",
   "metadata": {},
   "outputs": [],
   "source": [
    "#removing outliers\n",
    "Q1 = df2['Wind Speed'].quantile(0.25)\n",
    "Q3 = df2['Wind Speed'].quantile(0.75)\n",
    "\n",
    "IQR = Q3 - Q1\n",
    "\n",
    "upperlimit = Q3 + (IQR * 1.5)\n",
    "lowerlimit = Q1 - (IQR * 1.5)\n",
    "\n",
    "df3=df2[(df2['Wind Speed']> lowerlimit)  & (df2['Wind Speed'] < upperlimit)]\n",
    "df3.shape"
   ]
  },
  {
   "cell_type": "code",
   "execution_count": null,
   "id": "dac763ba",
   "metadata": {},
   "outputs": [],
   "source": [
    "#after removing outliers from Wind Speed\n",
    "sns.boxplot(x=df3['Wind Speed'])\n",
    "plt.show()"
   ]
  },
  {
   "cell_type": "markdown",
   "id": "c5d2782e",
   "metadata": {},
   "source": [
    "### Heatmap"
   ]
  },
  {
   "cell_type": "code",
   "execution_count": null,
   "id": "5e79d3ae",
   "metadata": {},
   "outputs": [],
   "source": [
    "df3.corr()"
   ]
  },
  {
   "cell_type": "code",
   "execution_count": null,
   "id": "8cdf9525",
   "metadata": {},
   "outputs": [],
   "source": [
    "sns.heatmap(df3.corr(), annot=True)"
   ]
  },
  {
   "cell_type": "markdown",
   "id": "c2129726",
   "metadata": {},
   "source": [
    "### Feature Engineering "
   ]
  },
  {
   "cell_type": "markdown",
   "id": "e26df298",
   "metadata": {},
   "source": [
    "#### Feature Scaling "
   ]
  },
  {
   "cell_type": "code",
   "execution_count": null,
   "id": "b1139880",
   "metadata": {},
   "outputs": [],
   "source": [
    "from sklearn.preprocessing import StandardScaler"
   ]
  },
  {
   "cell_type": "code",
   "execution_count": null,
   "id": "e5b7d0a3",
   "metadata": {},
   "outputs": [],
   "source": [
    "# sc = StandardScaler()\n",
    "# scaled_data = sc.fit_transform(df3)\n",
    "# df4 = pd.DataFrame(data=scaled_data,columns=df3.columns)\n",
    "# df4.head()\n",
    "df4=df3"
   ]
  },
  {
   "cell_type": "markdown",
   "id": "14197dea",
   "metadata": {},
   "source": [
    "### Model Training and Testing"
   ]
  },
  {
   "cell_type": "markdown",
   "id": "542c2517",
   "metadata": {},
   "source": [
    "#### Splitting Data "
   ]
  },
  {
   "cell_type": "code",
   "execution_count": null,
   "id": "583012d1",
   "metadata": {},
   "outputs": [],
   "source": [
    "from sklearn.model_selection import train_test_split"
   ]
  },
  {
   "cell_type": "code",
   "execution_count": null,
   "id": "b399842d",
   "metadata": {},
   "outputs": [],
   "source": [
    "x = df4[['location', 'Year', 'Month', 'Tmax', 'Tmin','RH', 'Wind Speed']]\n",
    "y = df4['Rainfall']"
   ]
  },
  {
   "cell_type": "code",
   "execution_count": null,
   "id": "3453e10f",
   "metadata": {},
   "outputs": [],
   "source": [
    "x_train, x_test, y_train, y_test = train_test_split(x, y, test_size = 0.2, random_state = 0)"
   ]
  },
  {
   "cell_type": "code",
   "execution_count": null,
   "id": "896ec886",
   "metadata": {},
   "outputs": [],
   "source": [
    "x_train.count()"
   ]
  },
  {
   "cell_type": "code",
   "execution_count": null,
   "id": "202e5f0f",
   "metadata": {},
   "outputs": [],
   "source": [
    "x_test.count()"
   ]
  },
  {
   "cell_type": "markdown",
   "id": "bbf48a74",
   "metadata": {},
   "source": [
    "### Random Forest Algorithm"
   ]
  },
  {
   "cell_type": "code",
   "execution_count": null,
   "id": "84b3b9df",
   "metadata": {},
   "outputs": [],
   "source": [
    "from sklearn.ensemble import RandomForestRegressor\n",
    "model_random = RandomForestRegressor(n_estimators=10)\n",
    "model_random.fit(x_train,y_train)"
   ]
  },
  {
   "cell_type": "code",
   "execution_count": null,
   "id": "0b9ac4f4",
   "metadata": {},
   "outputs": [],
   "source": [
    "r_pred = model_random.predict(x_train)\n",
    "r_pred"
   ]
  },
  {
   "cell_type": "markdown",
   "id": "4548afdd",
   "metadata": {},
   "source": [
    "### Model Evaluation (Random Forest Algorithm)"
   ]
  },
  {
   "cell_type": "code",
   "execution_count": null,
   "id": "b1a45e3f",
   "metadata": {},
   "outputs": [],
   "source": [
    "from sklearn.metrics import mean_absolute_error, r2_score, mean_squared_error\n",
    "import numpy as np"
   ]
  },
  {
   "cell_type": "code",
   "execution_count": null,
   "id": "486303b9",
   "metadata": {},
   "outputs": [],
   "source": [
    "y_train_predicted = model_random.predict(x_train)\n",
    "y_test_predicted = model_random.predict(x_test)\n",
    "\n",
    "print(\"Train set accuracy: \",r2_score(y_train,y_train_predicted))\n",
    "\n",
    "print(\"Test set accuracy : \",r2_score(y_test,y_test_predicted))\n",
    "\n",
    "print(\"MSE:\",mean_squared_error(y_test,y_test_predicted))\n",
    "\n",
    "print('root_mean_squared error: ',np.sqrt(mean_squared_error(y_test,y_test_predicted)))  "
   ]
  },
  {
   "cell_type": "code",
   "execution_count": null,
   "id": "dfb1fc94",
   "metadata": {},
   "outputs": [],
   "source": [
    "#actual vs predict\n",
    "# result = pd.concat([x_test['Rainfall'], pd.Series(y_test_predicted, index=x_test.index)], axis=1)\n",
    "# result.columns = ['Actual', 'Predict']\n",
    "# result.head(10)"
   ]
  },
  {
   "cell_type": "markdown",
   "id": "ab707416",
   "metadata": {},
   "source": [
    "### Decision Tree Algorithm"
   ]
  },
  {
   "cell_type": "code",
   "execution_count": null,
   "id": "5c45bcce",
   "metadata": {},
   "outputs": [],
   "source": [
    "from sklearn.tree import DecisionTreeRegressor\n",
    "model_decision = DecisionTreeRegressor(max_depth=5)\n",
    "model_decision.fit(x_train, y_train)"
   ]
  },
  {
   "cell_type": "code",
   "execution_count": null,
   "id": "01c3059e",
   "metadata": {},
   "outputs": [],
   "source": [
    "K_pred=model_decision.predict(x_test)"
   ]
  },
  {
   "cell_type": "code",
   "execution_count": null,
   "id": "3104cc55",
   "metadata": {},
   "outputs": [],
   "source": [
    "y_train_predicted = model_decision.predict(x_train)\n",
    "y_test_predicted = model_decision.predict(x_test)\n",
    "print(\"Train set accuracy: \",r2_score(y_train,y_train_predicted))\n",
    "print(\"Test set accuracy : \",r2_score(y_test,y_test_predicted))\n",
    "print(\"MSE:\",mean_squared_error(y_test,y_test_predicted))\n",
    "print('RMSE: ',np.sqrt(mean_squared_error(y_test,y_test_predicted))) "
   ]
  },
  {
   "cell_type": "markdown",
   "id": "38fc9cd0",
   "metadata": {},
   "source": [
    "### Model Evaluation (Decision Tree Algorithm)"
   ]
  },
  {
   "cell_type": "code",
   "execution_count": null,
   "id": "c8fed053",
   "metadata": {},
   "outputs": [],
   "source": [
    "y_train_predicted = model_decision.predict(x_train)\n",
    "y_test_predicted = model_decision.predict(x_test)\n",
    "print(\"Train set accuracy: \",r2_score(y_train,y_train_predicted))\n",
    "print(\"Test set accuracy : \",r2_score(y_test,y_test_predicted))\n",
    "print(\"MSE:\",mean_squared_error(y_test,y_test_predicted))\n",
    "print('RMSE: ',np.sqrt(mean_squared_error(y_test, y_test_predicted))) "
   ]
  },
  {
   "cell_type": "code",
   "execution_count": null,
   "id": "9ad9c152",
   "metadata": {},
   "outputs": [],
   "source": [
    "#actual vs predict\n",
    "result = pd.DataFrame({'Actual':y_test,'Predicted':K_pred})\n",
    "result.head(10)"
   ]
  },
  {
   "cell_type": "markdown",
   "id": "fbbfde00",
   "metadata": {},
   "source": [
    "### KNN Algorithm"
   ]
  },
  {
   "cell_type": "code",
   "execution_count": null,
   "id": "c5e3695a",
   "metadata": {},
   "outputs": [],
   "source": [
    "from sklearn.neighbors import KNeighborsRegressor"
   ]
  },
  {
   "cell_type": "code",
   "execution_count": null,
   "id": "ad4419d2",
   "metadata": {},
   "outputs": [],
   "source": [
    "model_KNNR = KNeighborsRegressor(10)\n",
    "model_KNNR.fit(x_train,y_train)"
   ]
  },
  {
   "cell_type": "code",
   "execution_count": null,
   "id": "bce53899",
   "metadata": {},
   "outputs": [],
   "source": [
    "K_pred = model_KNNR.predict(x_test)"
   ]
  },
  {
   "cell_type": "markdown",
   "id": "3514af05",
   "metadata": {},
   "source": [
    "### Model Evaluation (KNN Algorithm)"
   ]
  },
  {
   "cell_type": "code",
   "execution_count": null,
   "id": "37ec71cc",
   "metadata": {},
   "outputs": [],
   "source": [
    "y_train_predicted = model_KNNR.predict(x_train)\n",
    "y_test_predicted = model_KNNR.predict(x_test)\n",
    "\n",
    "print(\"Train set accuracy: \",r2_score(y_train,y_train_predicted))\n",
    "\n",
    "print(\"Test set accuracy : \",r2_score(y_test,y_test_predicted))\n",
    "\n",
    "print(\"MSE:\",mean_squared_error(y_test,y_test_predicted))\n",
    "\n",
    "print('RMSE: ',np.sqrt(mean_squared_error(y_test,y_test_predicted))) "
   ]
  },
  {
   "cell_type": "code",
   "execution_count": null,
   "id": "3f0ba36e",
   "metadata": {},
   "outputs": [],
   "source": [
    "#actual vs predict\n",
    "result = pd.DataFrame({'Actual':y_test,'Predicted':K_pred})\n",
    "result.head(10)"
   ]
  },
  {
   "cell_type": "markdown",
   "id": "7607ccf1",
   "metadata": {},
   "source": [
    "### Using  Pipeline"
   ]
  },
  {
   "cell_type": "code",
   "execution_count": null,
   "id": "205c5887",
   "metadata": {},
   "outputs": [],
   "source": [
    "x = df4.drop('Rainfall',axis=1)\n",
    "y = df4['Rainfall']"
   ]
  },
  {
   "cell_type": "code",
   "execution_count": null,
   "id": "b8770e18",
   "metadata": {},
   "outputs": [],
   "source": [
    "x_train, x_test, y_train, y_test = train_test_split(x, y , test_size = 0.20, shuffle=True, random_state=50)"
   ]
  },
  {
   "cell_type": "code",
   "execution_count": null,
   "id": "c6288a9e",
   "metadata": {},
   "outputs": [],
   "source": [
    "from sklearn.pipeline import Pipeline\n",
    "from sklearn.impute import SimpleImputer\n",
    "from sklearn.preprocessing import StandardScaler,OneHotEncoder"
   ]
  },
  {
   "cell_type": "code",
   "execution_count": null,
   "id": "c931c9ef",
   "metadata": {},
   "outputs": [],
   "source": [
    "numeric_col = x.select_dtypes(include=['int64','float64']).columns\n",
    "numeric_col"
   ]
  },
  {
   "cell_type": "code",
   "execution_count": null,
   "id": "c5e06601",
   "metadata": {},
   "outputs": [],
   "source": [
    "categorical_col = x.select_dtypes(include=['object']).columns\n",
    "categorical_col"
   ]
  },
  {
   "cell_type": "code",
   "execution_count": null,
   "id": "be7a1aad",
   "metadata": {},
   "outputs": [],
   "source": [
    "numeric_index = [x.columns.get_loc(col) for col in numeric_col]\n",
    "numeric_index"
   ]
  },
  {
   "cell_type": "code",
   "execution_count": null,
   "id": "e99ba661",
   "metadata": {},
   "outputs": [],
   "source": [
    "categorical_index = [x.columns.get_loc(col) for col in categorical_col]\n",
    "categorical_index"
   ]
  },
  {
   "cell_type": "code",
   "execution_count": null,
   "id": "21277b77",
   "metadata": {},
   "outputs": [],
   "source": [
    "#Building the Numeric Transformation Pipeline\n",
    "numeric_transformer = Pipeline(steps = [\n",
    "    ('imputer',SimpleImputer(strategy='mean')),\n",
    "    ('scaler',StandardScaler())\n",
    "] )"
   ]
  },
  {
   "cell_type": "code",
   "execution_count": null,
   "id": "49ec01ca",
   "metadata": {},
   "outputs": [],
   "source": [
    "#Building the Categorical Transformation Pipeline\n",
    "categorical_transformer = Pipeline(steps=[\n",
    "    ('imputer',SimpleImputer(strategy = 'most_frequent',fill_value='missing')),\n",
    "    ('le',OneHotEncoder(handle_unknown='ignore'))\n",
    "])"
   ]
  },
  {
   "cell_type": "code",
   "execution_count": null,
   "id": "022ff692",
   "metadata": {},
   "outputs": [],
   "source": [
    "from sklearn.compose import ColumnTransformer\n",
    "preprocessor = ColumnTransformer(\n",
    "    transformers = [('num',numeric_transformer,numeric_index),\n",
    "                ('label',categorical_transformer,categorical_index)]\n",
    ")"
   ]
  },
  {
   "cell_type": "code",
   "execution_count": null,
   "id": "1115176b",
   "metadata": {},
   "outputs": [],
   "source": [
    "from sklearn import svm\n",
    "model = svm.SVR(kernel='rbf',C=5000,gamma='scale')"
   ]
  },
  {
   "cell_type": "code",
   "execution_count": null,
   "id": "794da4ae",
   "metadata": {},
   "outputs": [],
   "source": [
    "#Assemble the individual blocks to form the main pipeline\n",
    "my_pipeline = Pipeline(steps=[\n",
    "    ('preprocessor', preprocessor),\n",
    "    ('model', model)\n",
    "])"
   ]
  },
  {
   "cell_type": "code",
   "execution_count": null,
   "id": "c2a7be90",
   "metadata": {},
   "outputs": [],
   "source": [
    "from sklearn import set_config\n",
    "set_config(display='diagram')\n",
    "my_pipeline.fit(x_train, y_train)"
   ]
  },
  {
   "cell_type": "code",
   "execution_count": null,
   "id": "68e1db8f",
   "metadata": {},
   "outputs": [],
   "source": [
    "# from joblib import load, dump\n",
    "# dump(my_pipeline,'model.joblib')"
   ]
  },
  {
   "cell_type": "code",
   "execution_count": null,
   "id": "2d427fc3",
   "metadata": {},
   "outputs": [],
   "source": [
    "my_pipeline.score(x_train,y_train)"
   ]
  },
  {
   "cell_type": "code",
   "execution_count": null,
   "id": "a09b94d1",
   "metadata": {},
   "outputs": [],
   "source": [
    "my_pipeline.score(x_test,y_test)"
   ]
  },
  {
   "cell_type": "code",
   "execution_count": null,
   "id": "b4a9d720",
   "metadata": {},
   "outputs": [],
   "source": [
    "y_pred = my_pipeline.predict(x_test)"
   ]
  },
  {
   "cell_type": "code",
   "execution_count": null,
   "id": "cf503053",
   "metadata": {},
   "outputs": [],
   "source": [
    "print(\"MSE:\", mean_squared_error(y_test,y_pred))\n",
    "\n",
    "print('RMSE: ', np.sqrt(mean_squared_error(y_test,y_pred)))                                                                                                                                          "
   ]
  },
  {
   "cell_type": "code",
   "execution_count": null,
   "id": "e0397250",
   "metadata": {},
   "outputs": [],
   "source": [
    "import pickle\n",
    "pickle.dump(my_pipeline, open('model.pkl', 'wb'))\n",
    "pickled_model = pickle.load(open('model.pkl', 'rb'))\n",
    "pickled_model.predict(x_test)"
   ]
  }
 ],
 "metadata": {
  "kernelspec": {
   "display_name": "Python 3.9.13 64-bit (microsoft store)",
   "language": "python",
   "name": "python3"
  },
  "language_info": {
   "codemirror_mode": {
    "name": "ipython",
    "version": 3
   },
   "file_extension": ".py",
   "mimetype": "text/x-python",
   "name": "python",
   "nbconvert_exporter": "python",
   "pygments_lexer": "ipython3",
   "version": "3.9.13"
  },
  "vscode": {
   "interpreter": {
    "hash": "e174d50920948a59d8328aff62777acc678189663d82d03b78d317c3cbdbbc88"
   }
  }
 },
 "nbformat": 4,
 "nbformat_minor": 5
}
