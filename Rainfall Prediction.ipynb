{
 "cells": [
  {
   "cell_type": "markdown",
   "id": "3b828302",
   "metadata": {},
   "source": [
    "### Data Exploration and Discovery"
   ]
  },
  {
   "cell_type": "code",
   "execution_count": 1,
   "id": "c7020abd",
   "metadata": {},
   "outputs": [],
   "source": [
    "import pandas as pd"
   ]
  },
  {
   "cell_type": "code",
   "execution_count": 2,
   "id": "87491b31",
   "metadata": {
    "scrolled": true
   },
   "outputs": [
    {
     "data": {
      "text/html": [
       "<div>\n",
       "<style scoped>\n",
       "    .dataframe tbody tr th:only-of-type {\n",
       "        vertical-align: middle;\n",
       "    }\n",
       "\n",
       "    .dataframe tbody tr th {\n",
       "        vertical-align: top;\n",
       "    }\n",
       "\n",
       "    .dataframe thead th {\n",
       "        text-align: right;\n",
       "    }\n",
       "</style>\n",
       "<table border=\"1\" class=\"dataframe\">\n",
       "  <thead>\n",
       "    <tr style=\"text-align: right;\">\n",
       "      <th></th>\n",
       "      <th>location</th>\n",
       "      <th>Year</th>\n",
       "      <th>Month</th>\n",
       "      <th>Tmax</th>\n",
       "      <th>Tmin</th>\n",
       "      <th>RH</th>\n",
       "      <th>Wind Speed</th>\n",
       "      <th>Rainfall</th>\n",
       "    </tr>\n",
       "  </thead>\n",
       "  <tbody>\n",
       "    <tr>\n",
       "      <th>0</th>\n",
       "      <td>Paro</td>\n",
       "      <td>2000</td>\n",
       "      <td>1</td>\n",
       "      <td>9.5</td>\n",
       "      <td>-0.4</td>\n",
       "      <td>65.0</td>\n",
       "      <td>0.26</td>\n",
       "      <td>0.0</td>\n",
       "    </tr>\n",
       "    <tr>\n",
       "      <th>1</th>\n",
       "      <td>Paro</td>\n",
       "      <td>2000</td>\n",
       "      <td>2</td>\n",
       "      <td>10.6</td>\n",
       "      <td>2.0</td>\n",
       "      <td>65.0</td>\n",
       "      <td>0.52</td>\n",
       "      <td>0.0</td>\n",
       "    </tr>\n",
       "    <tr>\n",
       "      <th>2</th>\n",
       "      <td>Paro</td>\n",
       "      <td>2000</td>\n",
       "      <td>3</td>\n",
       "      <td>14.5</td>\n",
       "      <td>4.0</td>\n",
       "      <td>69.0</td>\n",
       "      <td>0.52</td>\n",
       "      <td>11.0</td>\n",
       "    </tr>\n",
       "    <tr>\n",
       "      <th>3</th>\n",
       "      <td>Paro</td>\n",
       "      <td>2000</td>\n",
       "      <td>4</td>\n",
       "      <td>19.6</td>\n",
       "      <td>8.7</td>\n",
       "      <td>77.0</td>\n",
       "      <td>0.42</td>\n",
       "      <td>23.4</td>\n",
       "    </tr>\n",
       "    <tr>\n",
       "      <th>4</th>\n",
       "      <td>Paro</td>\n",
       "      <td>2000</td>\n",
       "      <td>5</td>\n",
       "      <td>22.5</td>\n",
       "      <td>10.2</td>\n",
       "      <td>77.0</td>\n",
       "      <td>0.24</td>\n",
       "      <td>98.4</td>\n",
       "    </tr>\n",
       "  </tbody>\n",
       "</table>\n",
       "</div>"
      ],
      "text/plain": [
       "  location  Year  Month  Tmax  Tmin    RH  Wind Speed  Rainfall\n",
       "0     Paro  2000      1   9.5  -0.4  65.0        0.26       0.0\n",
       "1     Paro  2000      2  10.6   2.0  65.0        0.52       0.0\n",
       "2     Paro  2000      3  14.5   4.0  69.0        0.52      11.0\n",
       "3     Paro  2000      4  19.6   8.7  77.0        0.42      23.4\n",
       "4     Paro  2000      5  22.5  10.2  77.0        0.24      98.4"
      ]
     },
     "execution_count": 2,
     "metadata": {},
     "output_type": "execute_result"
    }
   ],
   "source": [
    "df = pd.read_csv('Data/rainfall.csv')\n",
    "df.head()"
   ]
  },
  {
   "cell_type": "code",
   "execution_count": 3,
   "id": "08a4adb9",
   "metadata": {},
   "outputs": [
    {
     "data": {
      "text/html": [
       "<div>\n",
       "<style scoped>\n",
       "    .dataframe tbody tr th:only-of-type {\n",
       "        vertical-align: middle;\n",
       "    }\n",
       "\n",
       "    .dataframe tbody tr th {\n",
       "        vertical-align: top;\n",
       "    }\n",
       "\n",
       "    .dataframe thead th {\n",
       "        text-align: right;\n",
       "    }\n",
       "</style>\n",
       "<table border=\"1\" class=\"dataframe\">\n",
       "  <thead>\n",
       "    <tr style=\"text-align: right;\">\n",
       "      <th></th>\n",
       "      <th>location</th>\n",
       "      <th>Year</th>\n",
       "      <th>Month</th>\n",
       "      <th>Tmax</th>\n",
       "      <th>Tmin</th>\n",
       "      <th>RH</th>\n",
       "      <th>Wind Speed</th>\n",
       "      <th>Rainfall</th>\n",
       "    </tr>\n",
       "  </thead>\n",
       "  <tbody>\n",
       "    <tr>\n",
       "      <th>2634</th>\n",
       "      <td>Tashiyangtse</td>\n",
       "      <td>2021</td>\n",
       "      <td>8</td>\n",
       "      <td>25.306452</td>\n",
       "      <td>19.322581</td>\n",
       "      <td>86.129032</td>\n",
       "      <td>0.283226</td>\n",
       "      <td>192.3</td>\n",
       "    </tr>\n",
       "    <tr>\n",
       "      <th>2635</th>\n",
       "      <td>Tashiyangtse</td>\n",
       "      <td>2021</td>\n",
       "      <td>9</td>\n",
       "      <td>27.500000</td>\n",
       "      <td>16.816667</td>\n",
       "      <td>78.966667</td>\n",
       "      <td>0.283000</td>\n",
       "      <td>139.8</td>\n",
       "    </tr>\n",
       "    <tr>\n",
       "      <th>2636</th>\n",
       "      <td>Tashiyangtse</td>\n",
       "      <td>2021</td>\n",
       "      <td>10</td>\n",
       "      <td>24.951613</td>\n",
       "      <td>12.790323</td>\n",
       "      <td>78.838710</td>\n",
       "      <td>0.286129</td>\n",
       "      <td>94.6</td>\n",
       "    </tr>\n",
       "    <tr>\n",
       "      <th>2637</th>\n",
       "      <td>Tashiyangtse</td>\n",
       "      <td>2021</td>\n",
       "      <td>11</td>\n",
       "      <td>20.050000</td>\n",
       "      <td>6.266667</td>\n",
       "      <td>75.666667</td>\n",
       "      <td>0.328333</td>\n",
       "      <td>9.0</td>\n",
       "    </tr>\n",
       "    <tr>\n",
       "      <th>2638</th>\n",
       "      <td>Tashiyangtse</td>\n",
       "      <td>2021</td>\n",
       "      <td>12</td>\n",
       "      <td>16.854839</td>\n",
       "      <td>1.935484</td>\n",
       "      <td>74.483871</td>\n",
       "      <td>0.321290</td>\n",
       "      <td>21.0</td>\n",
       "    </tr>\n",
       "  </tbody>\n",
       "</table>\n",
       "</div>"
      ],
      "text/plain": [
       "          location  Year  Month       Tmax       Tmin         RH  Wind Speed  \\\n",
       "2634  Tashiyangtse  2021      8  25.306452  19.322581  86.129032    0.283226   \n",
       "2635  Tashiyangtse  2021      9  27.500000  16.816667  78.966667    0.283000   \n",
       "2636  Tashiyangtse  2021     10  24.951613  12.790323  78.838710    0.286129   \n",
       "2637  Tashiyangtse  2021     11  20.050000   6.266667  75.666667    0.328333   \n",
       "2638  Tashiyangtse  2021     12  16.854839   1.935484  74.483871    0.321290   \n",
       "\n",
       "      Rainfall  \n",
       "2634     192.3  \n",
       "2635     139.8  \n",
       "2636      94.6  \n",
       "2637       9.0  \n",
       "2638      21.0  "
      ]
     },
     "execution_count": 3,
     "metadata": {},
     "output_type": "execute_result"
    }
   ],
   "source": [
    "df.tail()"
   ]
  },
  {
   "cell_type": "code",
   "execution_count": 4,
   "id": "cac53cf8",
   "metadata": {},
   "outputs": [
    {
     "data": {
      "text/plain": [
       "(2639, 8)"
      ]
     },
     "execution_count": 4,
     "metadata": {},
     "output_type": "execute_result"
    }
   ],
   "source": [
    "df.shape"
   ]
  },
  {
   "cell_type": "code",
   "execution_count": 5,
   "id": "8cdd4057",
   "metadata": {},
   "outputs": [
    {
     "data": {
      "text/plain": [
       "Index(['location', 'Year', 'Month', 'Tmax', 'Tmin', 'RH', 'Wind Speed',\n",
       "       'Rainfall'],\n",
       "      dtype='object')"
      ]
     },
     "execution_count": 5,
     "metadata": {},
     "output_type": "execute_result"
    }
   ],
   "source": [
    "df.columns"
   ]
  },
  {
   "cell_type": "code",
   "execution_count": 6,
   "id": "2522c803",
   "metadata": {},
   "outputs": [
    {
     "data": {
      "text/plain": [
       "location       object\n",
       "Year            int64\n",
       "Month           int64\n",
       "Tmax          float64\n",
       "Tmin          float64\n",
       "RH            float64\n",
       "Wind Speed    float64\n",
       "Rainfall      float64\n",
       "dtype: object"
      ]
     },
     "execution_count": 6,
     "metadata": {},
     "output_type": "execute_result"
    }
   ],
   "source": [
    "df.dtypes"
   ]
  },
  {
   "cell_type": "code",
   "execution_count": 7,
   "id": "26a3882f",
   "metadata": {},
   "outputs": [
    {
     "data": {
      "text/html": [
       "<div>\n",
       "<style scoped>\n",
       "    .dataframe tbody tr th:only-of-type {\n",
       "        vertical-align: middle;\n",
       "    }\n",
       "\n",
       "    .dataframe tbody tr th {\n",
       "        vertical-align: top;\n",
       "    }\n",
       "\n",
       "    .dataframe thead th {\n",
       "        text-align: right;\n",
       "    }\n",
       "</style>\n",
       "<table border=\"1\" class=\"dataframe\">\n",
       "  <thead>\n",
       "    <tr style=\"text-align: right;\">\n",
       "      <th></th>\n",
       "      <th>Year</th>\n",
       "      <th>Month</th>\n",
       "      <th>Tmax</th>\n",
       "      <th>Tmin</th>\n",
       "      <th>RH</th>\n",
       "      <th>Wind Speed</th>\n",
       "      <th>Rainfall</th>\n",
       "    </tr>\n",
       "  </thead>\n",
       "  <tbody>\n",
       "    <tr>\n",
       "      <th>count</th>\n",
       "      <td>2639.000000</td>\n",
       "      <td>2639.000000</td>\n",
       "      <td>2638.000000</td>\n",
       "      <td>2638.000000</td>\n",
       "      <td>2637.000000</td>\n",
       "      <td>2632.000000</td>\n",
       "      <td>2638.000000</td>\n",
       "    </tr>\n",
       "    <tr>\n",
       "      <th>mean</th>\n",
       "      <td>2010.498295</td>\n",
       "      <td>6.498674</td>\n",
       "      <td>21.468284</td>\n",
       "      <td>10.279984</td>\n",
       "      <td>72.616870</td>\n",
       "      <td>0.824214</td>\n",
       "      <td>99.919894</td>\n",
       "    </tr>\n",
       "    <tr>\n",
       "      <th>std</th>\n",
       "      <td>6.346088</td>\n",
       "      <td>3.453457</td>\n",
       "      <td>5.040461</td>\n",
       "      <td>7.010512</td>\n",
       "      <td>9.919349</td>\n",
       "      <td>0.427144</td>\n",
       "      <td>160.770207</td>\n",
       "    </tr>\n",
       "    <tr>\n",
       "      <th>min</th>\n",
       "      <td>2000.000000</td>\n",
       "      <td>1.000000</td>\n",
       "      <td>7.300000</td>\n",
       "      <td>-70.774194</td>\n",
       "      <td>36.000000</td>\n",
       "      <td>0.003226</td>\n",
       "      <td>0.000000</td>\n",
       "    </tr>\n",
       "    <tr>\n",
       "      <th>25%</th>\n",
       "      <td>2005.000000</td>\n",
       "      <td>3.500000</td>\n",
       "      <td>17.900000</td>\n",
       "      <td>5.596774</td>\n",
       "      <td>66.225806</td>\n",
       "      <td>0.525572</td>\n",
       "      <td>7.900000</td>\n",
       "    </tr>\n",
       "    <tr>\n",
       "      <th>50%</th>\n",
       "      <td>2010.000000</td>\n",
       "      <td>6.000000</td>\n",
       "      <td>21.967742</td>\n",
       "      <td>11.303226</td>\n",
       "      <td>73.000000</td>\n",
       "      <td>0.793333</td>\n",
       "      <td>51.000000</td>\n",
       "    </tr>\n",
       "    <tr>\n",
       "      <th>75%</th>\n",
       "      <td>2016.000000</td>\n",
       "      <td>9.500000</td>\n",
       "      <td>25.100000</td>\n",
       "      <td>15.642204</td>\n",
       "      <td>79.741935</td>\n",
       "      <td>1.090000</td>\n",
       "      <td>129.900000</td>\n",
       "    </tr>\n",
       "    <tr>\n",
       "      <th>max</th>\n",
       "      <td>2021.000000</td>\n",
       "      <td>12.000000</td>\n",
       "      <td>34.354839</td>\n",
       "      <td>24.033333</td>\n",
       "      <td>98.967742</td>\n",
       "      <td>4.470000</td>\n",
       "      <td>2125.900000</td>\n",
       "    </tr>\n",
       "  </tbody>\n",
       "</table>\n",
       "</div>"
      ],
      "text/plain": [
       "              Year        Month         Tmax         Tmin           RH  \\\n",
       "count  2639.000000  2639.000000  2638.000000  2638.000000  2637.000000   \n",
       "mean   2010.498295     6.498674    21.468284    10.279984    72.616870   \n",
       "std       6.346088     3.453457     5.040461     7.010512     9.919349   \n",
       "min    2000.000000     1.000000     7.300000   -70.774194    36.000000   \n",
       "25%    2005.000000     3.500000    17.900000     5.596774    66.225806   \n",
       "50%    2010.000000     6.000000    21.967742    11.303226    73.000000   \n",
       "75%    2016.000000     9.500000    25.100000    15.642204    79.741935   \n",
       "max    2021.000000    12.000000    34.354839    24.033333    98.967742   \n",
       "\n",
       "        Wind Speed     Rainfall  \n",
       "count  2632.000000  2638.000000  \n",
       "mean      0.824214    99.919894  \n",
       "std       0.427144   160.770207  \n",
       "min       0.003226     0.000000  \n",
       "25%       0.525572     7.900000  \n",
       "50%       0.793333    51.000000  \n",
       "75%       1.090000   129.900000  \n",
       "max       4.470000  2125.900000  "
      ]
     },
     "execution_count": 7,
     "metadata": {},
     "output_type": "execute_result"
    }
   ],
   "source": [
    "df.describe()"
   ]
  },
  {
   "cell_type": "markdown",
   "id": "32148e4e",
   "metadata": {},
   "source": [
    "### Handle Missing Value"
   ]
  },
  {
   "cell_type": "code",
   "execution_count": 8,
   "id": "02ee45da",
   "metadata": {},
   "outputs": [
    {
     "data": {
      "text/plain": [
       "location      0\n",
       "Year          0\n",
       "Month         0\n",
       "Tmax          1\n",
       "Tmin          1\n",
       "RH            2\n",
       "Wind Speed    7\n",
       "Rainfall      1\n",
       "dtype: int64"
      ]
     },
     "execution_count": 8,
     "metadata": {},
     "output_type": "execute_result"
    }
   ],
   "source": [
    "df.isnull().sum()"
   ]
  },
  {
   "cell_type": "code",
   "execution_count": 9,
   "id": "ef32cc6a",
   "metadata": {},
   "outputs": [
    {
     "data": {
      "text/plain": [
       "location      0\n",
       "Year          0\n",
       "Month         0\n",
       "Tmax          0\n",
       "Tmin          0\n",
       "RH            0\n",
       "Wind Speed    0\n",
       "Rainfall      0\n",
       "dtype: int64"
      ]
     },
     "execution_count": 9,
     "metadata": {},
     "output_type": "execute_result"
    }
   ],
   "source": [
    "df = df.dropna()\n",
    "df.isnull().sum()"
   ]
  },
  {
   "cell_type": "markdown",
   "id": "e7cadc96",
   "metadata": {},
   "source": [
    "#### Label encoding location "
   ]
  },
  {
   "cell_type": "code",
   "execution_count": 10,
   "id": "78060ab6",
   "metadata": {},
   "outputs": [
    {
     "data": {
      "text/plain": [
       "Paro            264\n",
       "simkotha        264\n",
       "Haa             264\n",
       "Kanglung        264\n",
       "Mongar          264\n",
       "Chamkhar        263\n",
       "Deothang        263\n",
       "Punakha         262\n",
       "Pemagatshel     261\n",
       "Tashiyangtse    261\n",
       "Name: location, dtype: int64"
      ]
     },
     "execution_count": 10,
     "metadata": {},
     "output_type": "execute_result"
    }
   ],
   "source": [
    "df['location'].value_counts()"
   ]
  },
  {
   "cell_type": "code",
   "execution_count": 11,
   "id": "c93fdac9",
   "metadata": {},
   "outputs": [
    {
     "data": {
      "text/html": [
       "<div>\n",
       "<style scoped>\n",
       "    .dataframe tbody tr th:only-of-type {\n",
       "        vertical-align: middle;\n",
       "    }\n",
       "\n",
       "    .dataframe tbody tr th {\n",
       "        vertical-align: top;\n",
       "    }\n",
       "\n",
       "    .dataframe thead th {\n",
       "        text-align: right;\n",
       "    }\n",
       "</style>\n",
       "<table border=\"1\" class=\"dataframe\">\n",
       "  <thead>\n",
       "    <tr style=\"text-align: right;\">\n",
       "      <th></th>\n",
       "      <th>location</th>\n",
       "      <th>Year</th>\n",
       "      <th>Month</th>\n",
       "      <th>Tmax</th>\n",
       "      <th>Tmin</th>\n",
       "      <th>RH</th>\n",
       "      <th>Wind Speed</th>\n",
       "      <th>Rainfall</th>\n",
       "    </tr>\n",
       "  </thead>\n",
       "  <tbody>\n",
       "    <tr>\n",
       "      <th>0</th>\n",
       "      <td>5</td>\n",
       "      <td>2000</td>\n",
       "      <td>1</td>\n",
       "      <td>9.5</td>\n",
       "      <td>-0.4</td>\n",
       "      <td>65.0</td>\n",
       "      <td>0.26</td>\n",
       "      <td>0.0</td>\n",
       "    </tr>\n",
       "    <tr>\n",
       "      <th>1</th>\n",
       "      <td>5</td>\n",
       "      <td>2000</td>\n",
       "      <td>2</td>\n",
       "      <td>10.6</td>\n",
       "      <td>2.0</td>\n",
       "      <td>65.0</td>\n",
       "      <td>0.52</td>\n",
       "      <td>0.0</td>\n",
       "    </tr>\n",
       "    <tr>\n",
       "      <th>2</th>\n",
       "      <td>5</td>\n",
       "      <td>2000</td>\n",
       "      <td>3</td>\n",
       "      <td>14.5</td>\n",
       "      <td>4.0</td>\n",
       "      <td>69.0</td>\n",
       "      <td>0.52</td>\n",
       "      <td>11.0</td>\n",
       "    </tr>\n",
       "    <tr>\n",
       "      <th>3</th>\n",
       "      <td>5</td>\n",
       "      <td>2000</td>\n",
       "      <td>4</td>\n",
       "      <td>19.6</td>\n",
       "      <td>8.7</td>\n",
       "      <td>77.0</td>\n",
       "      <td>0.42</td>\n",
       "      <td>23.4</td>\n",
       "    </tr>\n",
       "    <tr>\n",
       "      <th>4</th>\n",
       "      <td>5</td>\n",
       "      <td>2000</td>\n",
       "      <td>5</td>\n",
       "      <td>22.5</td>\n",
       "      <td>10.2</td>\n",
       "      <td>77.0</td>\n",
       "      <td>0.24</td>\n",
       "      <td>98.4</td>\n",
       "    </tr>\n",
       "  </tbody>\n",
       "</table>\n",
       "</div>"
      ],
      "text/plain": [
       "   location  Year  Month  Tmax  Tmin    RH  Wind Speed  Rainfall\n",
       "0         5  2000      1   9.5  -0.4  65.0        0.26       0.0\n",
       "1         5  2000      2  10.6   2.0  65.0        0.52       0.0\n",
       "2         5  2000      3  14.5   4.0  69.0        0.52      11.0\n",
       "3         5  2000      4  19.6   8.7  77.0        0.42      23.4\n",
       "4         5  2000      5  22.5  10.2  77.0        0.24      98.4"
      ]
     },
     "execution_count": 11,
     "metadata": {},
     "output_type": "execute_result"
    }
   ],
   "source": [
    "from sklearn import preprocessing \n",
    "\n",
    "label_encoder = preprocessing.LabelEncoder()\n",
    "df['location'] = label_encoder.fit_transform(df['location'])\n",
    "df.head()"
   ]
  },
  {
   "cell_type": "code",
   "execution_count": 12,
   "id": "c0a1ab8d",
   "metadata": {},
   "outputs": [
    {
     "data": {
      "text/plain": [
       "array([5, 6, 7, 9, 0, 1, 2, 3, 4, 8])"
      ]
     },
     "execution_count": 12,
     "metadata": {},
     "output_type": "execute_result"
    }
   ],
   "source": [
    "df.location.unique()"
   ]
  },
  {
   "cell_type": "markdown",
   "id": "f279ed9b",
   "metadata": {},
   "source": [
    "### Visualization"
   ]
  },
  {
   "cell_type": "code",
   "execution_count": 13,
   "id": "3149966e",
   "metadata": {},
   "outputs": [],
   "source": [
    "import matplotlib.pyplot as plt"
   ]
  },
  {
   "cell_type": "code",
   "execution_count": 14,
   "id": "98f95020",
   "metadata": {},
   "outputs": [
    {
     "data": {
      "image/png": "[encoded data removed]",
      "text/plain": [
       "<Figure size 432x288 with 1 Axes>"
      ]
     },
     "metadata": {
      "needs_background": "light"
     },
     "output_type": "display_data"
    }
   ],
   "source": [
    "x = df.Tmax\n",
    "y = df.Rainfall\n",
    "plt.scatter(x,y)\n",
    "plt.xlabel('Tmax (c)')\n",
    "plt.ylabel('Rainfall (ml)')\n",
    "plt.show()"
   ]
  },
  {
   "cell_type": "code",
   "execution_count": 15,
   "id": "feaa2d47",
   "metadata": {},
   "outputs": [
    {
     "data": {
      "image/png": "[encoded data removed]",
      "text/plain": [
       "<Figure size 432x288 with 1 Axes>"
      ]
     },
     "metadata": {
      "needs_background": "light"
     },
     "output_type": "display_data"
    }
   ],
   "source": [
    "x = df.Tmin\n",
    "y = df.Rainfall\n",
    "plt.scatter(x,y)\n",
    "plt.xlabel('Tmin (c)')\n",
    "plt.ylabel('Rainfall (ml)')\n",
    "plt.show()"
   ]
  },
  {
   "cell_type": "code",
   "execution_count": 16,
   "id": "13a3450b",
   "metadata": {},
   "outputs": [
    {
     "data": {
      "image/png": "[encoded data removed]",
      "text/plain": [
       "<Figure size 432x288 with 1 Axes>"
      ]
     },
     "metadata": {
      "needs_background": "light"
     },
     "output_type": "display_data"
    }
   ],
   "source": [
    "x = df.RH\n",
    "y = df.Rainfall\n",
    "plt.scatter(x,y)\n",
    "plt.xlabel('Relative Humidity (RH) (%)')\n",
    "plt.ylabel('Rainfall (ml)')\n",
    "plt.show()"
   ]
  },
  {
   "cell_type": "code",
   "execution_count": 17,
   "id": "7c55cd20",
   "metadata": {},
   "outputs": [
    {
     "data": {
      "image/png": "[encoded data removed]",
      "text/plain": [
       "<Figure size 432x288 with 1 Axes>"
      ]
     },
     "metadata": {
      "needs_background": "light"
     },
     "output_type": "display_data"
    }
   ],
   "source": [
    "x = df['Wind Speed']\n",
    "y = df.Rainfall\n",
    "plt.scatter(x,y)\n",
    "plt.xlabel('Wind speed (m/s)')\n",
    "plt.ylabel('Rainfall (ml)')\n",
    "plt.show()"
   ]
  },
  {
   "cell_type": "markdown",
   "id": "a1e4510c",
   "metadata": {},
   "source": [
    "### Removing Outliers"
   ]
  },
  {
   "cell_type": "code",
   "execution_count": 18,
   "id": "105c8f71",
   "metadata": {},
   "outputs": [],
   "source": [
    "import seaborn as sns"
   ]
  },
  {
   "cell_type": "code",
   "execution_count": 19,
   "id": "b88eac2b",
   "metadata": {},
   "outputs": [
    {
     "data": {
      "image/png": "[encoded data removed]",
      "text/plain": [
       "<Figure size 432x288 with 1 Axes>"
      ]
     },
     "metadata": {
      "needs_background": "light"
     },
     "output_type": "display_data"
    }
   ],
   "source": [
    "#finding outliers\n",
    "sns.boxplot(x=df.RH)\n",
    "plt.show()"
   ]
  },
  {
   "cell_type": "code",
   "execution_count": 20,
   "id": "91203e54",
   "metadata": {},
   "outputs": [
    {
     "data": {
      "text/plain": [
       "(2612, 8)"
      ]
     },
     "execution_count": 20,
     "metadata": {},
     "output_type": "execute_result"
    }
   ],
   "source": [
    "#removing outliers\n",
    "Q1 = df.RH.quantile(0.25)\n",
    "Q3 = df.RH.quantile(0.75)\n",
    "\n",
    "IQR = Q3 - Q1\n",
    "\n",
    "upperlimit = Q3 + (IQR * 1.5)\n",
    "lowerlimit = Q1 - (IQR * 1.5)\n",
    "\n",
    "df2=df[(df.RH> lowerlimit)  & (df.RH < upperlimit)]\n",
    "df2.shape"
   ]
  },
  {
   "cell_type": "code",
   "execution_count": 21,
   "id": "71de006e",
   "metadata": {},
   "outputs": [
    {
     "data": {
      "image/png": "[encoded data removed]",
      "text/plain": [
       "<Figure size 432x288 with 1 Axes>"
      ]
     },
     "metadata": {
      "needs_background": "light"
     },
     "output_type": "display_data"
    }
   ],
   "source": [
    "#after removing outliers from RH\n",
    "sns.boxplot(x=df2.RH)\n",
    "plt.show()"
   ]
  },
  {
   "cell_type": "code",
   "execution_count": 22,
   "id": "e6552dcf",
   "metadata": {},
   "outputs": [
    {
     "data": {
      "image/png": "[encoded data removed]",
      "text/plain": [
       "<Figure size 432x288 with 1 Axes>"
      ]
     },
     "metadata": {
      "needs_background": "light"
     },
     "output_type": "display_data"
    }
   ],
   "source": [
    "#finding outliers\n",
    "sns.boxplot(x=df2['Wind Speed'])\n",
    "plt.show()"
   ]
  },
  {
   "cell_type": "code",
   "execution_count": 23,
   "id": "adde8c28",
   "metadata": {},
   "outputs": [
    {
     "data": {
      "text/plain": [
       "(2582, 8)"
      ]
     },
     "execution_count": 23,
     "metadata": {},
     "output_type": "execute_result"
    }
   ],
   "source": [
    "#removing outliers\n",
    "Q1 = df2['Wind Speed'].quantile(0.25)\n",
    "Q3 = df2['Wind Speed'].quantile(0.75)\n",
    "\n",
    "IQR = Q3 - Q1\n",
    "\n",
    "upperlimit = Q3 + (IQR * 1.5)\n",
    "lowerlimit = Q1 - (IQR * 1.5)\n",
    "\n",
    "df3=df2[(df2['Wind Speed']> lowerlimit)  & (df2['Wind Speed'] < upperlimit)]\n",
    "df3.shape"
   ]
  },
  {
   "cell_type": "code",
   "execution_count": 24,
   "id": "dac763ba",
   "metadata": {},
   "outputs": [
    {
     "data": {
      "image/png": "[encoded data removed]",
      "text/plain": [
       "<Figure size 432x288 with 1 Axes>"
      ]
     },
     "metadata": {
      "needs_background": "light"
     },
     "output_type": "display_data"
    }
   ],
   "source": [
    "#after removing outliers from Wind Speed\n",
    "sns.boxplot(x=df3['Wind Speed'])\n",
    "plt.show()"
   ]
  },
  {
   "cell_type": "markdown",
   "id": "c5d2782e",
   "metadata": {},
   "source": [
    "### Heatmap"
   ]
  },
  {
   "cell_type": "code",
   "execution_count": 25,
   "id": "5e79d3ae",
   "metadata": {},
   "outputs": [
    {
     "data": {
      "text/html": [
       "<div>\n",
       "<style scoped>\n",
       "    .dataframe tbody tr th:only-of-type {\n",
       "        vertical-align: middle;\n",
       "    }\n",
       "\n",
       "    .dataframe tbody tr th {\n",
       "        vertical-align: top;\n",
       "    }\n",
       "\n",
       "    .dataframe thead th {\n",
       "        text-align: right;\n",
       "    }\n",
       "</style>\n",
       "<table border=\"1\" class=\"dataframe\">\n",
       "  <thead>\n",
       "    <tr style=\"text-align: right;\">\n",
       "      <th></th>\n",
       "      <th>location</th>\n",
       "      <th>Year</th>\n",
       "      <th>Month</th>\n",
       "      <th>Tmax</th>\n",
       "      <th>Tmin</th>\n",
       "      <th>RH</th>\n",
       "      <th>Wind Speed</th>\n",
       "      <th>Rainfall</th>\n",
       "    </tr>\n",
       "  </thead>\n",
       "  <tbody>\n",
       "    <tr>\n",
       "      <th>location</th>\n",
       "      <td>1.000000</td>\n",
       "      <td>-0.008170</td>\n",
       "      <td>0.002848</td>\n",
       "      <td>0.174059</td>\n",
       "      <td>0.046888</td>\n",
       "      <td>-0.065953</td>\n",
       "      <td>-0.150936</td>\n",
       "      <td>-0.167469</td>\n",
       "    </tr>\n",
       "    <tr>\n",
       "      <th>Year</th>\n",
       "      <td>-0.008170</td>\n",
       "      <td>1.000000</td>\n",
       "      <td>-0.006612</td>\n",
       "      <td>0.067320</td>\n",
       "      <td>-0.033254</td>\n",
       "      <td>-0.152562</td>\n",
       "      <td>-0.159690</td>\n",
       "      <td>-0.001988</td>\n",
       "    </tr>\n",
       "    <tr>\n",
       "      <th>Month</th>\n",
       "      <td>0.002848</td>\n",
       "      <td>-0.006612</td>\n",
       "      <td>1.000000</td>\n",
       "      <td>0.204002</td>\n",
       "      <td>0.194423</td>\n",
       "      <td>0.124974</td>\n",
       "      <td>-0.248433</td>\n",
       "      <td>0.040837</td>\n",
       "    </tr>\n",
       "    <tr>\n",
       "      <th>Tmax</th>\n",
       "      <td>0.174059</td>\n",
       "      <td>0.067320</td>\n",
       "      <td>0.204002</td>\n",
       "      <td>1.000000</td>\n",
       "      <td>0.857997</td>\n",
       "      <td>0.356817</td>\n",
       "      <td>-0.254937</td>\n",
       "      <td>0.400750</td>\n",
       "    </tr>\n",
       "    <tr>\n",
       "      <th>Tmin</th>\n",
       "      <td>0.046888</td>\n",
       "      <td>-0.033254</td>\n",
       "      <td>0.194423</td>\n",
       "      <td>0.857997</td>\n",
       "      <td>1.000000</td>\n",
       "      <td>0.522614</td>\n",
       "      <td>-0.284197</td>\n",
       "      <td>0.509565</td>\n",
       "    </tr>\n",
       "    <tr>\n",
       "      <th>RH</th>\n",
       "      <td>-0.065953</td>\n",
       "      <td>-0.152562</td>\n",
       "      <td>0.124974</td>\n",
       "      <td>0.356817</td>\n",
       "      <td>0.522614</td>\n",
       "      <td>1.000000</td>\n",
       "      <td>-0.314215</td>\n",
       "      <td>0.510760</td>\n",
       "    </tr>\n",
       "    <tr>\n",
       "      <th>Wind Speed</th>\n",
       "      <td>-0.150936</td>\n",
       "      <td>-0.159690</td>\n",
       "      <td>-0.248433</td>\n",
       "      <td>-0.254937</td>\n",
       "      <td>-0.284197</td>\n",
       "      <td>-0.314215</td>\n",
       "      <td>1.000000</td>\n",
       "      <td>-0.224458</td>\n",
       "    </tr>\n",
       "    <tr>\n",
       "      <th>Rainfall</th>\n",
       "      <td>-0.167469</td>\n",
       "      <td>-0.001988</td>\n",
       "      <td>0.040837</td>\n",
       "      <td>0.400750</td>\n",
       "      <td>0.509565</td>\n",
       "      <td>0.510760</td>\n",
       "      <td>-0.224458</td>\n",
       "      <td>1.000000</td>\n",
       "    </tr>\n",
       "  </tbody>\n",
       "</table>\n",
       "</div>"
      ],
      "text/plain": [
       "            location      Year     Month      Tmax      Tmin        RH  \\\n",
       "location    1.000000 -0.008170  0.002848  0.174059  0.046888 -0.065953   \n",
       "Year       -0.008170  1.000000 -0.006612  0.067320 -0.033254 -0.152562   \n",
       "Month       0.002848 -0.006612  1.000000  0.204002  0.194423  0.124974   \n",
       "Tmax        0.174059  0.067320  0.204002  1.000000  0.857997  0.356817   \n",
       "Tmin        0.046888 -0.033254  0.194423  0.857997  1.000000  0.522614   \n",
       "RH         -0.065953 -0.152562  0.124974  0.356817  0.522614  1.000000   \n",
       "Wind Speed -0.150936 -0.159690 -0.248433 -0.254937 -0.284197 -0.314215   \n",
       "Rainfall   -0.167469 -0.001988  0.040837  0.400750  0.509565  0.510760   \n",
       "\n",
       "            Wind Speed  Rainfall  \n",
       "location     -0.150936 -0.167469  \n",
       "Year         -0.159690 -0.001988  \n",
       "Month        -0.248433  0.040837  \n",
       "Tmax         -0.254937  0.400750  \n",
       "Tmin         -0.284197  0.509565  \n",
       "RH           -0.314215  0.510760  \n",
       "Wind Speed    1.000000 -0.224458  \n",
       "Rainfall     -0.224458  1.000000  "
      ]
     },
     "execution_count": 25,
     "metadata": {},
     "output_type": "execute_result"
    }
   ],
   "source": [
    "df3.corr()"
   ]
  },
  {
   "cell_type": "code",
   "execution_count": 26,
   "id": "8cdf9525",
   "metadata": {},
   "outputs": [
    {
     "data": {
      "text/plain": [
       "<AxesSubplot:>"
      ]
     },
     "execution_count": 26,
     "metadata": {},
     "output_type": "execute_result"
    },
    {
     "data": {
      "image/png": "[encoded data removed]",
      "text/plain": [
       "<Figure size 432x288 with 2 Axes>"
      ]
     },
     "metadata": {
      "needs_background": "light"
     },
     "output_type": "display_data"
    }
   ],
   "source": [
    "sns.heatmap(df3.corr(), annot=True)"
   ]
  },
  {
   "cell_type": "markdown",
   "id": "c2129726",
   "metadata": {},
   "source": [
    "### Feature Engineering "
   ]
  },
  {
   "cell_type": "markdown",
   "id": "e26df298",
   "metadata": {},
   "source": [
    "#### Feature Scaling "
   ]
  },
  {
   "cell_type": "code",
   "execution_count": 27,
   "id": "b1139880",
   "metadata": {},
   "outputs": [],
   "source": [
    "from sklearn.preprocessing import StandardScaler"
   ]
  },
  {
   "cell_type": "code",
   "execution_count": 28,
   "id": "e5b7d0a3",
   "metadata": {},
   "outputs": [],
   "source": [
    "# sc = StandardScaler()\n",
    "# scaled_data = sc.fit_transform(df3)\n",
    "# df4 = pd.DataFrame(data=scaled_data,columns=df3.columns)\n",
    "# df4.head()\n",
    "df4=df3"
   ]
  },
  {
   "cell_type": "markdown",
   "id": "14197dea",
   "metadata": {},
   "source": [
    "### Model Training and Testing"
   ]
  },
  {
   "cell_type": "markdown",
   "id": "542c2517",
   "metadata": {},
   "source": [
    "#### Splitting Data "
   ]
  },
  {
   "cell_type": "code",
   "execution_count": 29,
   "id": "583012d1",
   "metadata": {},
   "outputs": [],
   "source": [
    "from sklearn.model_selection import train_test_split"
   ]
  },
  {
   "cell_type": "code",
   "execution_count": 30,
   "id": "b399842d",
   "metadata": {},
   "outputs": [],
   "source": [
    "x = df4[['location', 'Year', 'Month', 'Tmax', 'Tmin','RH', 'Wind Speed']]\n",
    "y = df4['Rainfall']"
   ]
  },
  {
   "cell_type": "code",
   "execution_count": 31,
   "id": "3453e10f",
   "metadata": {},
   "outputs": [],
   "source": [
    "x_train, x_test, y_train, y_test = train_test_split(x, y, test_size = 0.2, random_state = 0)"
   ]
  },
  {
   "cell_type": "code",
   "execution_count": 32,
   "id": "896ec886",
   "metadata": {},
   "outputs": [
    {
     "data": {
      "text/plain": [
       "location      2065\n",
       "Year          2065\n",
       "Month         2065\n",
       "Tmax          2065\n",
       "Tmin          2065\n",
       "RH            2065\n",
       "Wind Speed    2065\n",
       "dtype: int64"
      ]
     },
     "execution_count": 32,
     "metadata": {},
     "output_type": "execute_result"
    }
   ],
   "source": [
    "x_train.count()"
   ]
  },
  {
   "cell_type": "code",
   "execution_count": 33,
   "id": "202e5f0f",
   "metadata": {},
   "outputs": [
    {
     "data": {
      "text/plain": [
       "location      517\n",
       "Year          517\n",
       "Month         517\n",
       "Tmax          517\n",
       "Tmin          517\n",
       "RH            517\n",
       "Wind Speed    517\n",
       "dtype: int64"
      ]
     },
     "execution_count": 33,
     "metadata": {},
     "output_type": "execute_result"
    }
   ],
   "source": [
    "x_test.count()"
   ]
  },
  {
   "cell_type": "markdown",
   "id": "bbf48a74",
   "metadata": {},
   "source": [
    "### Random Forest Algorithm"
   ]
  },
  {
   "cell_type": "code",
   "execution_count": 34,
   "id": "84b3b9df",
   "metadata": {},
   "outputs": [
    {
     "data": {
      "text/plain": [
       "RandomForestRegressor(n_estimators=10)"
      ]
     },
     "execution_count": 34,
     "metadata": {},
     "output_type": "execute_result"
    }
   ],
   "source": [
    "from sklearn.ensemble import RandomForestRegressor\n",
    "model_random = RandomForestRegressor(n_estimators=10)\n",
    "model_random.fit(x_train,y_train)"
   ]
  },
  {
   "cell_type": "code",
   "execution_count": 35,
   "id": "0b9ac4f4",
   "metadata": {},
   "outputs": [
    {
     "data": {
      "text/plain": [
       "array([ 6.35, 27.38, 56.35, ..., 46.21,  2.26, 76.37])"
      ]
     },
     "execution_count": 35,
     "metadata": {},
     "output_type": "execute_result"
    }
   ],
   "source": [
    "r_pred = model_random.predict(x_train)\n",
    "r_pred"
   ]
  },
  {
   "cell_type": "markdown",
   "id": "4548afdd",
   "metadata": {},
   "source": [
    "### Model Evaluation (Random Forest Algorithm)"
   ]
  },
  {
   "cell_type": "code",
   "execution_count": 36,
   "id": "b1a45e3f",
   "metadata": {},
   "outputs": [],
   "source": [
    "from sklearn.metrics import mean_absolute_error, r2_score, mean_squared_error\n",
    "import numpy as np"
   ]
  },
  {
   "cell_type": "code",
   "execution_count": 37,
   "id": "486303b9",
   "metadata": {},
   "outputs": [
    {
     "name": "stdout",
     "output_type": "stream",
     "text": [
      "Train set accuracy:  0.9415155609212447\n",
      "Test set accuracy :  0.6676558631115705\n",
      "MSE: 8751.854847642166\n",
      "root_mean_squared error:  93.55134872166283\n"
     ]
    }
   ],
   "source": [
    "y_train_predicted = model_random.predict(x_train)\n",
    "y_test_predicted = model_random.predict(x_test)\n",
    "\n",
    "print(\"Train set accuracy: \",r2_score(y_train,y_train_predicted))\n",
    "\n",
    "print(\"Test set accuracy : \",r2_score(y_test,y_test_predicted))\n",
    "\n",
    "print(\"MSE:\",mean_squared_error(y_test,y_test_predicted))\n",
    "\n",
    "print('root_mean_squared error: ',np.sqrt(mean_squared_error(y_test,y_test_predicted)))  "
   ]
  },
  {
   "cell_type": "code",
   "execution_count": 38,
   "id": "dfb1fc94",
   "metadata": {},
   "outputs": [],
   "source": [
    "#actual vs predict\n",
    "# result = pd.concat([x_test['Rainfall'], pd.Series(y_test_predicted, index=x_test.index)], axis=1)\n",
    "# result.columns = ['Actual', 'Predict']\n",
    "# result.head(10)"
   ]
  },
  {
   "cell_type": "markdown",
   "id": "ab707416",
   "metadata": {},
   "source": [
    "### Decision Tree Algorithm"
   ]
  },
  {
   "cell_type": "code",
   "execution_count": 39,
   "id": "5c45bcce",
   "metadata": {},
   "outputs": [
    {
     "data": {
      "text/plain": [
       "DecisionTreeRegressor(max_depth=5)"
      ]
     },
     "execution_count": 39,
     "metadata": {},
     "output_type": "execute_result"
    }
   ],
   "source": [
    "from sklearn.tree import DecisionTreeRegressor\n",
    "model_decision = DecisionTreeRegressor(max_depth=5)\n",
    "model_decision.fit(x_train, y_train)"
   ]
  },
  {
   "cell_type": "code",
   "execution_count": 40,
   "id": "01c3059e",
   "metadata": {},
   "outputs": [],
   "source": [
    "K_pred=model_decision.predict(x_test)"
   ]
  },
  {
   "cell_type": "code",
   "execution_count": 41,
   "id": "3104cc55",
   "metadata": {},
   "outputs": [
    {
     "name": "stdout",
     "output_type": "stream",
     "text": [
      "Train set accuracy:  0.7405856802722365\n",
      "Test set accuracy :  0.6153424785592014\n",
      "MSE: 10129.460459938318\n",
      "RMSE:  100.64522075060653\n"
     ]
    }
   ],
   "source": [
    "y_train_predicted = model_decision.predict(x_train)\n",
    "y_test_predicted = model_decision.predict(x_test)\n",
    "print(\"Train set accuracy: \",r2_score(y_train,y_train_predicted))\n",
    "print(\"Test set accuracy : \",r2_score(y_test,y_test_predicted))\n",
    "print(\"MSE:\",mean_squared_error(y_test,y_test_predicted))\n",
    "print('RMSE: ',np.sqrt(mean_squared_error(y_test,y_test_predicted))) "
   ]
  },
  {
   "cell_type": "markdown",
   "id": "38fc9cd0",
   "metadata": {},
   "source": [
    "### Model Evaluation (Decision Tree Algorithm)"
   ]
  },
  {
   "cell_type": "code",
   "execution_count": 42,
   "id": "c8fed053",
   "metadata": {},
   "outputs": [
    {
     "name": "stdout",
     "output_type": "stream",
     "text": [
      "Train set accuracy:  0.7405856802722365\n",
      "Test set accuracy :  0.6153424785592014\n",
      "MSE: 10129.460459938318\n",
      "RMSE:  100.64522075060653\n"
     ]
    }
   ],
   "source": [
    "y_train_predicted = model_decision.predict(x_train)\n",
    "y_test_predicted = model_decision.predict(x_test)\n",
    "print(\"Train set accuracy: \",r2_score(y_train,y_train_predicted))\n",
    "print(\"Test set accuracy : \",r2_score(y_test,y_test_predicted))\n",
    "print(\"MSE:\",mean_squared_error(y_test,y_test_predicted))\n",
    "print('RMSE: ',np.sqrt(mean_squared_error(y_test, y_test_predicted))) "
   ]
  },
  {
   "cell_type": "code",
   "execution_count": 43,
   "id": "9ad9c152",
   "metadata": {},
   "outputs": [
    {
     "data": {
      "text/html": [
       "<div>\n",
       "<style scoped>\n",
       "    .dataframe tbody tr th:only-of-type {\n",
       "        vertical-align: middle;\n",
       "    }\n",
       "\n",
       "    .dataframe tbody tr th {\n",
       "        vertical-align: top;\n",
       "    }\n",
       "\n",
       "    .dataframe thead th {\n",
       "        text-align: right;\n",
       "    }\n",
       "</style>\n",
       "<table border=\"1\" class=\"dataframe\">\n",
       "  <thead>\n",
       "    <tr style=\"text-align: right;\">\n",
       "      <th></th>\n",
       "      <th>Actual</th>\n",
       "      <th>Predicted</th>\n",
       "    </tr>\n",
       "  </thead>\n",
       "  <tbody>\n",
       "    <tr>\n",
       "      <th>2447</th>\n",
       "      <td>0.0</td>\n",
       "      <td>11.420906</td>\n",
       "    </tr>\n",
       "    <tr>\n",
       "      <th>1952</th>\n",
       "      <td>168.1</td>\n",
       "      <td>87.899070</td>\n",
       "    </tr>\n",
       "    <tr>\n",
       "      <th>1426</th>\n",
       "      <td>7.4</td>\n",
       "      <td>5.066667</td>\n",
       "    </tr>\n",
       "    <tr>\n",
       "      <th>447</th>\n",
       "      <td>222.0</td>\n",
       "      <td>219.838462</td>\n",
       "    </tr>\n",
       "    <tr>\n",
       "      <th>2327</th>\n",
       "      <td>0.0</td>\n",
       "      <td>11.420906</td>\n",
       "    </tr>\n",
       "    <tr>\n",
       "      <th>1326</th>\n",
       "      <td>818.9</td>\n",
       "      <td>820.240000</td>\n",
       "    </tr>\n",
       "    <tr>\n",
       "      <th>2313</th>\n",
       "      <td>0.0</td>\n",
       "      <td>4.604167</td>\n",
       "    </tr>\n",
       "    <tr>\n",
       "      <th>1288</th>\n",
       "      <td>101.8</td>\n",
       "      <td>87.899070</td>\n",
       "    </tr>\n",
       "    <tr>\n",
       "      <th>985</th>\n",
       "      <td>0.0</td>\n",
       "      <td>11.420906</td>\n",
       "    </tr>\n",
       "    <tr>\n",
       "      <th>216</th>\n",
       "      <td>2.0</td>\n",
       "      <td>11.420906</td>\n",
       "    </tr>\n",
       "  </tbody>\n",
       "</table>\n",
       "</div>"
      ],
      "text/plain": [
       "      Actual   Predicted\n",
       "2447     0.0   11.420906\n",
       "1952   168.1   87.899070\n",
       "1426     7.4    5.066667\n",
       "447    222.0  219.838462\n",
       "2327     0.0   11.420906\n",
       "1326   818.9  820.240000\n",
       "2313     0.0    4.604167\n",
       "1288   101.8   87.899070\n",
       "985      0.0   11.420906\n",
       "216      2.0   11.420906"
      ]
     },
     "execution_count": 43,
     "metadata": {},
     "output_type": "execute_result"
    }
   ],
   "source": [
    "#actual vs predict\n",
    "result = pd.DataFrame({'Actual':y_test,'Predicted':K_pred})\n",
    "result.head(10)"
   ]
  },
  {
   "cell_type": "markdown",
   "id": "fbbfde00",
   "metadata": {},
   "source": [
    "### KNN Algorithm"
   ]
  },
  {
   "cell_type": "code",
   "execution_count": 44,
   "id": "c5e3695a",
   "metadata": {},
   "outputs": [],
   "source": [
    "from sklearn.neighbors import KNeighborsRegressor"
   ]
  },
  {
   "cell_type": "code",
   "execution_count": 45,
   "id": "ad4419d2",
   "metadata": {},
   "outputs": [
    {
     "data": {
      "text/plain": [
       "KNeighborsRegressor(n_neighbors=10)"
      ]
     },
     "execution_count": 45,
     "metadata": {},
     "output_type": "execute_result"
    }
   ],
   "source": [
    "model_KNNR = KNeighborsRegressor(10)\n",
    "model_KNNR.fit(x_train,y_train)"
   ]
  },
  {
   "cell_type": "code",
   "execution_count": 46,
   "id": "bce53899",
   "metadata": {},
   "outputs": [],
   "source": [
    "K_pred = model_KNNR.predict(x_test)"
   ]
  },
  {
   "cell_type": "markdown",
   "id": "3514af05",
   "metadata": {},
   "source": [
    "### Model Evaluation (KNN Algorithm)"
   ]
  },
  {
   "cell_type": "code",
   "execution_count": 47,
   "id": "37ec71cc",
   "metadata": {},
   "outputs": [
    {
     "name": "stdout",
     "output_type": "stream",
     "text": [
      "Train set accuracy:  0.7174174183444046\n",
      "Test set accuracy :  0.6733871860940812\n",
      "MSE: 8600.927837773692\n",
      "RMSE:  92.74118738604597\n"
     ]
    }
   ],
   "source": [
    "y_train_predicted = model_KNNR.predict(x_train)\n",
    "y_test_predicted = model_KNNR.predict(x_test)\n",
    "\n",
    "print(\"Train set accuracy: \",r2_score(y_train,y_train_predicted))\n",
    "\n",
    "print(\"Test set accuracy : \",r2_score(y_test,y_test_predicted))\n",
    "\n",
    "print(\"MSE:\",mean_squared_error(y_test,y_test_predicted))\n",
    "\n",
    "print('RMSE: ',np.sqrt(mean_squared_error(y_test,y_test_predicted))) "
   ]
  },
  {
   "cell_type": "code",
   "execution_count": 48,
   "id": "3f0ba36e",
   "metadata": {},
   "outputs": [
    {
     "data": {
      "text/html": [
       "<div>\n",
       "<style scoped>\n",
       "    .dataframe tbody tr th:only-of-type {\n",
       "        vertical-align: middle;\n",
       "    }\n",
       "\n",
       "    .dataframe tbody tr th {\n",
       "        vertical-align: top;\n",
       "    }\n",
       "\n",
       "    .dataframe thead th {\n",
       "        text-align: right;\n",
       "    }\n",
       "</style>\n",
       "<table border=\"1\" class=\"dataframe\">\n",
       "  <thead>\n",
       "    <tr style=\"text-align: right;\">\n",
       "      <th></th>\n",
       "      <th>Actual</th>\n",
       "      <th>Predicted</th>\n",
       "    </tr>\n",
       "  </thead>\n",
       "  <tbody>\n",
       "    <tr>\n",
       "      <th>2447</th>\n",
       "      <td>0.0</td>\n",
       "      <td>11.480</td>\n",
       "    </tr>\n",
       "    <tr>\n",
       "      <th>1952</th>\n",
       "      <td>168.1</td>\n",
       "      <td>106.310</td>\n",
       "    </tr>\n",
       "    <tr>\n",
       "      <th>1426</th>\n",
       "      <td>7.4</td>\n",
       "      <td>4.310</td>\n",
       "    </tr>\n",
       "    <tr>\n",
       "      <th>447</th>\n",
       "      <td>222.0</td>\n",
       "      <td>161.650</td>\n",
       "    </tr>\n",
       "    <tr>\n",
       "      <th>2327</th>\n",
       "      <td>0.0</td>\n",
       "      <td>26.980</td>\n",
       "    </tr>\n",
       "    <tr>\n",
       "      <th>1326</th>\n",
       "      <td>818.9</td>\n",
       "      <td>793.152</td>\n",
       "    </tr>\n",
       "    <tr>\n",
       "      <th>2313</th>\n",
       "      <td>0.0</td>\n",
       "      <td>12.300</td>\n",
       "    </tr>\n",
       "    <tr>\n",
       "      <th>1288</th>\n",
       "      <td>101.8</td>\n",
       "      <td>84.400</td>\n",
       "    </tr>\n",
       "    <tr>\n",
       "      <th>985</th>\n",
       "      <td>0.0</td>\n",
       "      <td>14.100</td>\n",
       "    </tr>\n",
       "    <tr>\n",
       "      <th>216</th>\n",
       "      <td>2.0</td>\n",
       "      <td>4.210</td>\n",
       "    </tr>\n",
       "  </tbody>\n",
       "</table>\n",
       "</div>"
      ],
      "text/plain": [
       "      Actual  Predicted\n",
       "2447     0.0     11.480\n",
       "1952   168.1    106.310\n",
       "1426     7.4      4.310\n",
       "447    222.0    161.650\n",
       "2327     0.0     26.980\n",
       "1326   818.9    793.152\n",
       "2313     0.0     12.300\n",
       "1288   101.8     84.400\n",
       "985      0.0     14.100\n",
       "216      2.0      4.210"
      ]
     },
     "execution_count": 48,
     "metadata": {},
     "output_type": "execute_result"
    }
   ],
   "source": [
    "#actual vs predict\n",
    "result = pd.DataFrame({'Actual':y_test,'Predicted':K_pred})\n",
    "result.head(10)"
   ]
  },
  {
   "cell_type": "markdown",
   "id": "7607ccf1",
   "metadata": {},
   "source": [
    "### Using  Pipeline"
   ]
  },
  {
   "cell_type": "code",
   "execution_count": 49,
   "id": "205c5887",
   "metadata": {},
   "outputs": [],
   "source": [
    "x = df4.drop('Rainfall',axis=1)\n",
    "y = df4['Rainfall']"
   ]
  },
  {
   "cell_type": "code",
   "execution_count": 50,
   "id": "b8770e18",
   "metadata": {},
   "outputs": [],
   "source": [
    "x_train, x_test, y_train, y_test = train_test_split(x, y , test_size = 0.20, shuffle=True, random_state=50)"
   ]
  },
  {
   "cell_type": "code",
   "execution_count": 51,
   "id": "c6288a9e",
   "metadata": {},
   "outputs": [],
   "source": [
    "from sklearn.pipeline import Pipeline\n",
    "from sklearn.impute import SimpleImputer\n",
    "from sklearn.preprocessing import StandardScaler,OneHotEncoder"
   ]
  },
  {
   "cell_type": "code",
   "execution_count": 52,
   "id": "c931c9ef",
   "metadata": {},
   "outputs": [
    {
     "data": {
      "text/plain": [
       "Index(['Year', 'Month', 'Tmax', 'Tmin', 'RH', 'Wind Speed'], dtype='object')"
      ]
     },
     "execution_count": 52,
     "metadata": {},
     "output_type": "execute_result"
    }
   ],
   "source": [
    "numeric_col = x.select_dtypes(include=['int64','float64']).columns\n",
    "numeric_col"
   ]
  },
  {
   "cell_type": "code",
   "execution_count": 53,
   "id": "c5e06601",
   "metadata": {},
   "outputs": [
    {
     "data": {
      "text/plain": [
       "Index([], dtype='object')"
      ]
     },
     "execution_count": 53,
     "metadata": {},
     "output_type": "execute_result"
    }
   ],
   "source": [
    "categorical_col = x.select_dtypes(include=['object']).columns\n",
    "categorical_col"
   ]
  },
  {
   "cell_type": "code",
   "execution_count": 54,
   "id": "be7a1aad",
   "metadata": {},
   "outputs": [
    {
     "data": {
      "text/plain": [
       "[1, 2, 3, 4, 5, 6]"
      ]
     },
     "execution_count": 54,
     "metadata": {},
     "output_type": "execute_result"
    }
   ],
   "source": [
    "numeric_index = [x.columns.get_loc(col) for col in numeric_col]\n",
    "numeric_index"
   ]
  },
  {
   "cell_type": "code",
   "execution_count": 55,
   "id": "e99ba661",
   "metadata": {},
   "outputs": [
    {
     "data": {
      "text/plain": [
       "[]"
      ]
     },
     "execution_count": 55,
     "metadata": {},
     "output_type": "execute_result"
    }
   ],
   "source": [
    "categorical_index = [x.columns.get_loc(col) for col in categorical_col]\n",
    "categorical_index"
   ]
  },
  {
   "cell_type": "code",
   "execution_count": 56,
   "id": "21277b77",
   "metadata": {},
   "outputs": [],
   "source": [
    "#Building the Numeric Transformation Pipeline\n",
    "numeric_transformer = Pipeline(steps = [\n",
    "    ('imputer',SimpleImputer(strategy='mean')),\n",
    "    ('scaler',StandardScaler())\n",
    "] )"
   ]
  },
  {
   "cell_type": "code",
   "execution_count": 57,
   "id": "49ec01ca",
   "metadata": {},
   "outputs": [],
   "source": [
    "#Building the Categorical Transformation Pipeline\n",
    "categorical_transformer = Pipeline(steps=[\n",
    "    ('imputer',SimpleImputer(strategy = 'most_frequent',fill_value='missing')),\n",
    "    ('le',OneHotEncoder(handle_unknown='ignore'))\n",
    "])"
   ]
  },
  {
   "cell_type": "code",
   "execution_count": 58,
   "id": "022ff692",
   "metadata": {},
   "outputs": [],
   "source": [
    "from sklearn.compose import ColumnTransformer\n",
    "preprocessor = ColumnTransformer(\n",
    "    transformers = [('num',numeric_transformer,numeric_index),\n",
    "                ('label',categorical_transformer,categorical_index)]\n",
    ")"
   ]
  },
  {
   "cell_type": "code",
   "execution_count": 59,
   "id": "1115176b",
   "metadata": {},
   "outputs": [],
   "source": [
    "from sklearn import svm\n",
    "model = svm.SVR(kernel='rbf',C=5000,gamma='scale')"
   ]
  },
  {
   "cell_type": "code",
   "execution_count": 60,
   "id": "794da4ae",
   "metadata": {},
   "outputs": [],
   "source": [
    "#Assemble the individual blocks to form the main pipeline\n",
    "my_pipeline = Pipeline(steps=[\n",
    "    ('preprocessor', preprocessor),\n",
    "    ('model', model)\n",
    "])"
   ]
  },
  {
   "cell_type": "code",
   "execution_count": 61,
   "id": "c2a7be90",
   "metadata": {},
   "outputs": [
    {
     "data": {
      "text/html": [
       "<style>#sk-d95c6033-cb7e-4682-bb6a-76394052e59a {color: black;background-color: white;}#sk-d95c6033-cb7e-4682-bb6a-76394052e59a pre{padding: 0;}#sk-d95c6033-cb7e-4682-bb6a-76394052e59a div.sk-toggleable {background-color: white;}#sk-d95c6033-cb7e-4682-bb6a-76394052e59a label.sk-toggleable__label {cursor: pointer;display: block;width: 100%;margin-bottom: 0;padding: 0.2em 0.3em;box-sizing: border-box;text-align: center;}#sk-d95c6033-cb7e-4682-bb6a-76394052e59a div.sk-toggleable__content {max-height: 0;max-width: 0;overflow: hidden;text-align: left;background-color: #f0f8ff;}#sk-d95c6033-cb7e-4682-bb6a-76394052e59a div.sk-toggleable__content pre {margin: 0.2em;color: black;border-radius: 0.25em;background-color: #f0f8ff;}#sk-d95c6033-cb7e-4682-bb6a-76394052e59a input.sk-toggleable__control:checked~div.sk-toggleable__content {max-height: 200px;max-width: 100%;overflow: auto;}#sk-d95c6033-cb7e-4682-bb6a-76394052e59a div.sk-estimator input.sk-toggleable__control:checked~label.sk-toggleable__label {background-color: #d4ebff;}#sk-d95c6033-cb7e-4682-bb6a-76394052e59a div.sk-label input.sk-toggleable__control:checked~label.sk-toggleable__label {background-color: #d4ebff;}#sk-d95c6033-cb7e-4682-bb6a-76394052e59a input.sk-hidden--visually {border: 0;clip: rect(1px 1px 1px 1px);clip: rect(1px, 1px, 1px, 1px);height: 1px;margin: -1px;overflow: hidden;padding: 0;position: absolute;width: 1px;}#sk-d95c6033-cb7e-4682-bb6a-76394052e59a div.sk-estimator {font-family: monospace;background-color: #f0f8ff;margin: 0.25em 0.25em;border: 1px dotted black;border-radius: 0.25em;box-sizing: border-box;}#sk-d95c6033-cb7e-4682-bb6a-76394052e59a div.sk-estimator:hover {background-color: #d4ebff;}#sk-d95c6033-cb7e-4682-bb6a-76394052e59a div.sk-parallel-item::after {content: \"\";width: 100%;border-bottom: 1px solid gray;flex-grow: 1;}#sk-d95c6033-cb7e-4682-bb6a-76394052e59a div.sk-label:hover label.sk-toggleable__label {background-color: #d4ebff;}#sk-d95c6033-cb7e-4682-bb6a-76394052e59a div.sk-serial::before {content: \"\";position: absolute;border-left: 1px solid gray;box-sizing: border-box;top: 2em;bottom: 0;left: 50%;}#sk-d95c6033-cb7e-4682-bb6a-76394052e59a div.sk-serial {display: flex;flex-direction: column;align-items: center;background-color: white;}#sk-d95c6033-cb7e-4682-bb6a-76394052e59a div.sk-item {z-index: 1;}#sk-d95c6033-cb7e-4682-bb6a-76394052e59a div.sk-parallel {display: flex;align-items: stretch;justify-content: center;background-color: white;}#sk-d95c6033-cb7e-4682-bb6a-76394052e59a div.sk-parallel-item {display: flex;flex-direction: column;position: relative;background-color: white;}#sk-d95c6033-cb7e-4682-bb6a-76394052e59a div.sk-parallel-item:first-child::after {align-self: flex-end;width: 50%;}#sk-d95c6033-cb7e-4682-bb6a-76394052e59a div.sk-parallel-item:last-child::after {align-self: flex-start;width: 50%;}#sk-d95c6033-cb7e-4682-bb6a-76394052e59a div.sk-parallel-item:only-child::after {width: 0;}#sk-d95c6033-cb7e-4682-bb6a-76394052e59a div.sk-dashed-wrapped {border: 1px dashed gray;margin: 0.2em;box-sizing: border-box;padding-bottom: 0.1em;background-color: white;position: relative;}#sk-d95c6033-cb7e-4682-bb6a-76394052e59a div.sk-label label {font-family: monospace;font-weight: bold;background-color: white;display: inline-block;line-height: 1.2em;}#sk-d95c6033-cb7e-4682-bb6a-76394052e59a div.sk-label-container {position: relative;z-index: 2;text-align: center;}#sk-d95c6033-cb7e-4682-bb6a-76394052e59a div.sk-container {display: inline-block;position: relative;}</style><div id=\"sk-d95c6033-cb7e-4682-bb6a-76394052e59a\" class\"sk-top-container\"><div class=\"sk-container\"><div class=\"sk-item sk-dashed-wrapped\"><div class=\"sk-label-container\"><div class=\"sk-label sk-toggleable\"><input class=\"sk-toggleable__control sk-hidden--visually\" id=\"270e64a5-a9b4-4cd5-90c7-875b06ef1196\" type=\"checkbox\" ><label class=\"sk-toggleable__label\" for=\"270e64a5-a9b4-4cd5-90c7-875b06ef1196\">Pipeline</label><div class=\"sk-toggleable__content\"><pre>Pipeline(steps=[('preprocessor',\n",
       "                 ColumnTransformer(transformers=[('num',\n",
       "                                                  Pipeline(steps=[('imputer',\n",
       "                                                                   SimpleImputer()),\n",
       "                                                                  ('scaler',\n",
       "                                                                   StandardScaler())]),\n",
       "                                                  [1, 2, 3, 4, 5, 6]),\n",
       "                                                 ('label',\n",
       "                                                  Pipeline(steps=[('imputer',\n",
       "                                                                   SimpleImputer(fill_value='missing',\n",
       "                                                                                 strategy='most_frequent')),\n",
       "                                                                  ('le',\n",
       "                                                                   OneHotEncoder(handle_unknown='ignore'))]),\n",
       "                                                  [])])),\n",
       "                ('model', SVR(C=5000))])</pre></div></div></div><div class=\"sk-serial\"><div class=\"sk-item sk-dashed-wrapped\"><div class=\"sk-label-container\"><div class=\"sk-label sk-toggleable\"><input class=\"sk-toggleable__control sk-hidden--visually\" id=\"5b870a87-736c-46b5-aafa-dc23715e8b6b\" type=\"checkbox\" ><label class=\"sk-toggleable__label\" for=\"5b870a87-736c-46b5-aafa-dc23715e8b6b\">preprocessor: ColumnTransformer</label><div class=\"sk-toggleable__content\"><pre>ColumnTransformer(transformers=[('num',\n",
       "                                 Pipeline(steps=[('imputer', SimpleImputer()),\n",
       "                                                 ('scaler', StandardScaler())]),\n",
       "                                 [1, 2, 3, 4, 5, 6]),\n",
       "                                ('label',\n",
       "                                 Pipeline(steps=[('imputer',\n",
       "                                                  SimpleImputer(fill_value='missing',\n",
       "                                                                strategy='most_frequent')),\n",
       "                                                 ('le',\n",
       "                                                  OneHotEncoder(handle_unknown='ignore'))]),\n",
       "                                 [])])</pre></div></div></div><div class=\"sk-parallel\"><div class=\"sk-parallel-item\"><div class=\"sk-item\"><div class=\"sk-label-container\"><div class=\"sk-label sk-toggleable\"><input class=\"sk-toggleable__control sk-hidden--visually\" id=\"7e274136-3c24-4260-a788-afcb829bddfd\" type=\"checkbox\" ><label class=\"sk-toggleable__label\" for=\"7e274136-3c24-4260-a788-afcb829bddfd\">num</label><div class=\"sk-toggleable__content\"><pre>[1, 2, 3, 4, 5, 6]</pre></div></div></div><div class=\"sk-serial\"><div class=\"sk-item\"><div class=\"sk-serial\"><div class=\"sk-item\"><div class=\"sk-estimator sk-toggleable\"><input class=\"sk-toggleable__control sk-hidden--visually\" id=\"e34f843a-29dc-4163-96e7-26a5a22f8451\" type=\"checkbox\" ><label class=\"sk-toggleable__label\" for=\"e34f843a-29dc-4163-96e7-26a5a22f8451\">SimpleImputer</label><div class=\"sk-toggleable__content\"><pre>SimpleImputer()</pre></div></div></div><div class=\"sk-item\"><div class=\"sk-estimator sk-toggleable\"><input class=\"sk-toggleable__control sk-hidden--visually\" id=\"5eebff30-c17f-4ae3-8b0a-f40dfc03c56f\" type=\"checkbox\" ><label class=\"sk-toggleable__label\" for=\"5eebff30-c17f-4ae3-8b0a-f40dfc03c56f\">StandardScaler</label><div class=\"sk-toggleable__content\"><pre>StandardScaler()</pre></div></div></div></div></div></div></div></div><div class=\"sk-parallel-item\"><div class=\"sk-item\"><div class=\"sk-label-container\"><div class=\"sk-label sk-toggleable\"><input class=\"sk-toggleable__control sk-hidden--visually\" id=\"efc481a1-4a3a-4944-8b0d-cc7df6c96ec6\" type=\"checkbox\" ><label class=\"sk-toggleable__label\" for=\"efc481a1-4a3a-4944-8b0d-cc7df6c96ec6\">label</label><div class=\"sk-toggleable__content\"><pre>[]</pre></div></div></div><div class=\"sk-serial\"><div class=\"sk-item\"><div class=\"sk-serial\"><div class=\"sk-item\"><div class=\"sk-estimator sk-toggleable\"><input class=\"sk-toggleable__control sk-hidden--visually\" id=\"c1c4e938-f5bf-4ba5-9145-d07fee579b90\" type=\"checkbox\" ><label class=\"sk-toggleable__label\" for=\"c1c4e938-f5bf-4ba5-9145-d07fee579b90\">SimpleImputer</label><div class=\"sk-toggleable__content\"><pre>SimpleImputer(fill_value='missing', strategy='most_frequent')</pre></div></div></div><div class=\"sk-item\"><div class=\"sk-estimator sk-toggleable\"><input class=\"sk-toggleable__control sk-hidden--visually\" id=\"57971e14-c85b-4d5f-9020-55b2510aa76b\" type=\"checkbox\" ><label class=\"sk-toggleable__label\" for=\"57971e14-c85b-4d5f-9020-55b2510aa76b\">OneHotEncoder</label><div class=\"sk-toggleable__content\"><pre>OneHotEncoder(handle_unknown='ignore')</pre></div></div></div></div></div></div></div></div></div></div><div class=\"sk-item\"><div class=\"sk-estimator sk-toggleable\"><input class=\"sk-toggleable__control sk-hidden--visually\" id=\"9dd1a9e5-5cfb-4a00-aa4e-276c8f57d997\" type=\"checkbox\" ><label class=\"sk-toggleable__label\" for=\"9dd1a9e5-5cfb-4a00-aa4e-276c8f57d997\">SVR</label><div class=\"sk-toggleable__content\"><pre>SVR(C=5000)</pre></div></div></div></div></div></div></div>"
      ],
      "text/plain": [
       "Pipeline(steps=[('preprocessor',\n",
       "                 ColumnTransformer(transformers=[('num',\n",
       "                                                  Pipeline(steps=[('imputer',\n",
       "                                                                   SimpleImputer()),\n",
       "                                                                  ('scaler',\n",
       "                                                                   StandardScaler())]),\n",
       "                                                  [1, 2, 3, 4, 5, 6]),\n",
       "                                                 ('label',\n",
       "                                                  Pipeline(steps=[('imputer',\n",
       "                                                                   SimpleImputer(fill_value='missing',\n",
       "                                                                                 strategy='most_frequent')),\n",
       "                                                                  ('le',\n",
       "                                                                   OneHotEncoder(handle_unknown='ignore'))]),\n",
       "                                                  [])])),\n",
       "                ('model', SVR(C=5000))])"
      ]
     },
     "execution_count": 61,
     "metadata": {},
     "output_type": "execute_result"
    }
   ],
   "source": [
    "from sklearn import set_config\n",
    "set_config(display='diagram')\n",
    "my_pipeline.fit(x_train, y_train)"
   ]
  },
  {
   "cell_type": "code",
   "execution_count": 62,
   "id": "68e1db8f",
   "metadata": {},
   "outputs": [],
   "source": [
    "# from joblib import load, dump\n",
    "# dump(my_pipeline,'model.joblib')"
   ]
  },
  {
   "cell_type": "code",
   "execution_count": 63,
   "id": "2d427fc3",
   "metadata": {},
   "outputs": [
    {
     "data": {
      "text/plain": [
       "0.6753139217086712"
      ]
     },
     "execution_count": 63,
     "metadata": {},
     "output_type": "execute_result"
    }
   ],
   "source": [
    "my_pipeline.score(x_train,y_train)"
   ]
  },
  {
   "cell_type": "code",
   "execution_count": 64,
   "id": "a09b94d1",
   "metadata": {},
   "outputs": [
    {
     "data": {
      "text/plain": [
       "0.7172089853513128"
      ]
     },
     "execution_count": 64,
     "metadata": {},
     "output_type": "execute_result"
    }
   ],
   "source": [
    "my_pipeline.score(x_test,y_test)"
   ]
  },
  {
   "cell_type": "code",
   "execution_count": 65,
   "id": "b4a9d720",
   "metadata": {},
   "outputs": [],
   "source": [
    "y_pred = my_pipeline.predict(x_test)"
   ]
  },
  {
   "cell_type": "code",
   "execution_count": 66,
   "id": "cf503053",
   "metadata": {},
   "outputs": [
    {
     "name": "stdout",
     "output_type": "stream",
     "text": [
      "MSE: 7373.612484276599\n",
      "RMSE:  85.86974137772047\n"
     ]
    }
   ],
   "source": [
    "print(\"MSE:\", mean_squared_error(y_test,y_pred))\n",
    "\n",
    "print('RMSE: ', np.sqrt(mean_squared_error(y_test,y_pred)))                                                                                                                                          "
   ]
  },
  {
   "cell_type": "code",
   "execution_count": 67,
   "id": "e0397250",
   "metadata": {},
   "outputs": [
    {
     "data": {
      "text/plain": [
       "array([ 1.21785634e+02,  3.99071920e+00,  8.14830322e+00,  1.59915297e+01,\n",
       "        3.49008315e+01,  1.26891849e+02,  1.63019392e+02,  1.24557401e+01,\n",
       "        1.82857576e+02,  1.28338735e+02, -1.11613970e+00,  1.30683013e+02,\n",
       "        1.00915144e+02,  6.15850436e+01,  1.03407077e+02,  2.11570675e+02,\n",
       "        6.61065697e+00,  8.73722826e+01,  1.25068208e+02,  1.86263069e+01,\n",
       "        2.37863606e+02,  9.44388515e-01,  1.00477070e+02, -1.56455787e+01,\n",
       "        1.63265285e+02,  1.43386767e+02,  6.75091918e+02,  1.12725020e+02,\n",
       "        9.34445741e+00,  6.17284775e+01,  4.41527021e+02,  8.35600233e+01,\n",
       "        1.69140476e+01,  1.19020331e+02,  4.47662758e+02,  1.69823207e+01,\n",
       "        8.91183050e+01,  6.55766064e+02,  5.86591023e+00,  1.74134099e+02,\n",
       "        2.81800775e+01,  6.40159266e+00,  2.11126188e+02,  2.36740303e+01,\n",
       "        7.43502840e+01,  7.66190456e+00,  1.31020774e+01,  3.62408505e+02,\n",
       "        4.60049663e+01,  9.33627019e+01,  2.61368643e+01,  9.56340350e+00,\n",
       "        4.58613911e+01,  4.05843410e+02,  2.36009240e+01,  1.61725206e+01,\n",
       "        1.24720291e+00,  3.02901510e+01,  1.42235368e+02,  1.42147536e+02,\n",
       "        1.09735998e+02,  5.29756632e+01,  1.54519866e+02,  6.44687104e+01,\n",
       "       -3.36480413e+00,  1.26715239e+02,  1.03367985e+02,  8.70409365e+01,\n",
       "        4.10677738e+01, -3.40894912e+00,  5.65616979e+02,  6.09582374e+01,\n",
       "        8.00949398e+01,  7.16789452e+00,  1.42997128e+01,  8.13842824e+01,\n",
       "        1.28132931e+01,  4.38358534e+01,  1.66141018e+02,  8.74226360e+01,\n",
       "        1.89492854e+00,  5.04624824e+00,  1.89275812e+01,  2.38587011e+00,\n",
       "        1.18032369e+02,  7.91320861e+00,  1.13311601e+02,  7.76558588e+01,\n",
       "        3.91077765e+01,  2.53249326e+01,  2.84195003e+01,  5.23927756e+01,\n",
       "        9.78298842e+00,  2.63655999e+02,  4.17090330e+01,  1.89681690e+02,\n",
       "        9.33211953e+01,  1.43416936e+02,  8.40076590e+01,  4.04379946e+01,\n",
       "       -2.69035625e+00,  8.02892210e+00,  1.29890397e+02,  1.08571800e+02,\n",
       "        1.97568828e+01,  2.78539952e+02,  1.30497537e+02,  1.88129019e+01,\n",
       "        3.13144091e+01,  1.17983784e+00, -5.51829965e+00,  3.04097749e+01,\n",
       "        1.37611087e+01,  9.04174268e+01,  5.59172135e+01,  1.07249687e+02,\n",
       "        1.36724891e+01,  9.00903360e+01,  1.72463397e+01,  6.70060964e-01,\n",
       "        2.34638371e+02,  6.99659685e+01,  6.77978498e+01,  6.97694061e+01,\n",
       "        1.54402087e+02, -1.27557785e+01,  7.78671886e+00,  1.92759309e+01,\n",
       "        1.14901767e+02,  9.93342275e+01,  4.66581517e+01,  1.16862678e+01,\n",
       "        1.54622308e+02,  2.98891260e+01,  6.53254679e+02,  4.49022371e+01,\n",
       "       -7.69500968e+00,  1.32255923e+02, -3.58390819e+01,  3.32857019e+02,\n",
       "       -3.30016537e+00,  1.14036317e+02,  5.41394436e+01,  1.83158279e+02,\n",
       "        6.70134497e+00,  5.65055745e+01,  1.43453828e+02,  1.68982301e+02,\n",
       "        8.00683207e+00,  4.63810407e+01,  1.12929329e+02,  7.09263196e+01,\n",
       "       -4.34802086e-01,  1.58419459e+02,  5.73165655e+00,  6.89479564e+01,\n",
       "        1.18790894e+02,  1.02010193e+02, -9.76147769e+01,  1.18194543e+02,\n",
       "        8.78659449e+01,  9.14743001e+01,  6.52483592e+00,  2.59130325e+02,\n",
       "        1.09921702e+02,  1.33531597e+01,  7.55880952e+01,  1.73568877e+00,\n",
       "        4.79357828e-01,  1.27515071e+02,  6.39000556e+01,  1.67167405e+01,\n",
       "        3.78265713e+01, -1.48069996e+01,  1.50925930e+02,  6.40695482e+01,\n",
       "        3.79649944e+01,  3.53768476e+01,  7.57604391e+01,  4.88244558e+01,\n",
       "        1.05626666e+01,  2.35985313e+01, -1.94983001e+01,  2.46828919e+02,\n",
       "        1.35387402e+02,  7.74748019e+00,  1.25492350e+01,  8.39403403e+01,\n",
       "        6.14872730e+01,  3.45477460e+00,  9.77887308e+01,  5.11218441e-02,\n",
       "        3.53219690e+01,  1.38099790e+02,  9.37742773e+01,  1.17565288e+02,\n",
       "        9.20985612e+01,  3.18777561e+01,  1.08333959e+02,  1.71938548e+01,\n",
       "        4.75303994e+00,  1.22780480e+02,  1.52038859e+01,  1.46930028e+02,\n",
       "       -1.27675395e+01,  8.30634790e+01,  1.02622940e+01,  3.78615416e+01,\n",
       "        1.44965407e+02,  1.77975041e+02,  8.62013878e+01,  3.32678760e+01,\n",
       "        1.45500186e+02,  2.45002467e+01,  1.82063904e+01, -5.35047931e+00,\n",
       "        1.05698256e+02,  4.96878496e+01,  3.12649542e+01,  1.27669560e+02,\n",
       "        8.37959876e+01, -2.14869868e+01,  6.18954069e+01,  2.21118834e+00,\n",
       "        1.66419510e+02,  1.33857403e+02,  1.74986382e-03,  6.76155564e+00,\n",
       "        5.42595143e+00,  3.02168087e+02,  1.17361962e+02,  1.47130218e+02,\n",
       "        2.41514257e+02, -2.35535210e+01,  4.67077358e+01,  1.18702731e+02,\n",
       "        2.26481594e+01,  8.26730010e-01,  1.90365932e-01,  2.34901627e+01,\n",
       "       -6.71189131e+00,  8.53408535e+01,  1.26598734e+02,  1.21368246e+02,\n",
       "        1.62142063e+02,  9.58827577e+01,  5.77408964e+01,  2.09729551e+01,\n",
       "        8.18679668e+01,  2.01168601e+02,  4.52064948e+01, -1.91352004e+01,\n",
       "       -1.71964137e+01,  1.76180339e+02, -6.92795992e+00,  1.07399707e+01,\n",
       "        2.13764263e+02,  3.12034281e+01,  5.54294072e+02, -5.56263776e+00,\n",
       "        6.50226853e+00,  4.63951181e+01,  7.20559062e+02,  2.82311225e+01,\n",
       "        7.38307925e+01,  2.96067637e+01,  7.55192319e+01,  1.01884794e+01,\n",
       "        6.19903312e+02,  5.45678597e+01,  1.13452110e+02,  1.62813963e+02,\n",
       "        5.78301364e+00,  9.75906486e-01,  2.86806061e+01,  9.72015953e+01,\n",
       "        3.36397815e+01,  2.20462730e+02,  2.32313114e+02,  6.99723545e+02,\n",
       "        1.30324206e+02,  2.22912365e+00,  2.06935442e+00,  5.85384042e+01,\n",
       "        5.78917290e+02,  7.86477992e+02,  5.47722899e+01, -1.53494047e+00,\n",
       "       -1.26827464e+01,  9.65458843e+01,  7.15527513e+01,  2.81677311e+01,\n",
       "        8.33218358e+01,  2.85818868e+02, -5.88319374e+00,  2.23243814e+01,\n",
       "        1.47082271e+01,  1.62856537e+02, -7.60990581e+00,  2.12312414e+02,\n",
       "        2.00525377e+02,  2.36206099e+01,  2.42591269e+00,  2.20073733e+01,\n",
       "        3.83883824e+02,  7.89571306e+00,  1.62072216e+01,  2.33823622e+02,\n",
       "        8.15311568e+01,  4.96899825e+01,  1.37147439e+00,  6.11809584e+01,\n",
       "        2.18388825e+00,  1.39844675e+02,  1.43175232e+02,  3.86533782e+01,\n",
       "        6.10712497e+01,  3.01655404e+01,  2.43004310e+00,  8.71117326e+01,\n",
       "        1.47403458e+02,  2.02825288e+02,  8.17139630e+00,  1.95304841e+00,\n",
       "        1.42162764e+02,  1.44792652e+02,  5.69634401e+00,  8.60943086e+01,\n",
       "        4.76899092e+01,  1.42759731e+02,  3.95090174e+01,  1.25382098e+01,\n",
       "       -4.32403064e+01,  1.69967030e+02,  3.66086067e+01,  6.84742544e-02,\n",
       "       -1.52615691e+01,  2.09926455e+01, -1.58364918e+01,  1.00283682e+01,\n",
       "        2.93645709e+00,  5.18720970e+00,  4.36351210e+01,  1.18258344e+02,\n",
       "        2.28778939e+02, -2.05286646e+00,  1.00020799e+01,  9.75852040e+01,\n",
       "        6.24983019e-01,  5.90062568e+00,  3.52407647e+01,  1.15757189e+02,\n",
       "        2.00984226e+01,  2.61288265e+02,  2.42868161e+01,  2.69456181e+02,\n",
       "        7.08925230e+01,  1.33841856e+01,  6.05014441e+01,  4.77813913e+01,\n",
       "        2.56014383e+00, -8.55464882e+00,  4.99104049e+01,  1.23513774e+01,\n",
       "        1.23485092e+02,  2.17221640e+02,  8.81703988e+01,  8.82741095e+01,\n",
       "        9.40239034e+01,  1.07464478e+02,  1.35349922e+02, -2.18229221e+01,\n",
       "        2.82304146e+00,  1.50953083e+02,  2.70285254e+02,  1.77327781e+02,\n",
       "        1.12118371e+02,  1.11941728e+02,  1.06479847e+02,  1.04386643e+02,\n",
       "        2.67353751e+02,  7.51068730e+02,  1.35396636e+01,  1.06298538e+01,\n",
       "        1.61469143e+01,  9.77449341e+00,  1.59522352e+02,  1.78250303e+00,\n",
       "        1.90530405e+02,  1.84195025e+02,  1.12040242e+02,  9.54971346e+01,\n",
       "        1.89558992e+02,  5.39874391e+01,  2.92328520e+02,  2.29233976e+01,\n",
       "       -1.67896609e+00, -3.66206546e+01,  4.85239316e+01,  2.30379350e+02,\n",
       "        7.89170381e+01,  1.89754446e+02,  9.58299990e+01,  1.23099713e+02,\n",
       "        4.80610419e+00,  7.40236446e+01,  4.73928852e+00,  2.24857788e+02,\n",
       "        6.86436865e+01,  1.42286680e+01, -3.55375864e+00,  1.19131228e+02,\n",
       "        4.79803735e+01,  1.93867835e+02,  9.97317209e+01,  4.35790254e+01,\n",
       "        3.52906917e+01, -1.04494641e+01,  5.95088520e+00,  1.31295099e+02,\n",
       "        4.14597954e+02,  1.60013103e+00,  1.20485592e+01, -1.63633253e+01,\n",
       "        1.66163319e+01,  1.01228108e+02,  2.23333222e+02,  1.33159564e+02,\n",
       "        1.40150426e+02,  6.84999234e+00,  7.67445912e+01, -4.18929040e-01,\n",
       "        9.53360367e+00,  1.95838212e+02,  5.35328642e+02,  1.56397105e+02,\n",
       "        5.17688559e+01,  4.04803361e+01,  1.17292191e+02,  2.23486994e+01,\n",
       "        6.04686064e+01,  5.98401958e+01,  1.51430163e+01,  1.08132348e+02,\n",
       "        1.22397968e+02,  1.50565206e+01,  1.29370822e+01,  1.66840821e+02,\n",
       "        1.72172960e+00,  1.11043299e+01,  2.12015223e+01,  1.46614899e+01,\n",
       "        1.14992137e+01,  1.80871326e+02,  2.17847013e+02,  3.76317773e+02,\n",
       "        2.35276275e+01,  5.98044008e+02,  3.04523799e+02,  3.55490546e+02,\n",
       "        2.51768990e+01,  7.09565978e+00,  1.02924067e+01,  3.94342237e+01,\n",
       "        1.98444029e+02, -1.68718155e+01,  9.82141129e-01,  2.66517209e+01,\n",
       "        1.01990812e+02,  6.41507335e+00,  1.44558928e+02,  3.33362227e+01,\n",
       "        1.10506009e+02,  1.69327175e+01,  1.13134230e+01,  1.87088589e+01,\n",
       "        1.05275386e+02,  1.27115763e+02,  1.25763468e+02, -3.93695953e+00,\n",
       "       -8.96703530e-01,  1.35473151e+01,  1.20679864e+01,  1.28680895e+02,\n",
       "        1.99819724e+02,  1.70386563e+02,  2.24628396e+02,  1.33952297e+02,\n",
       "        2.25974107e+02,  6.81375863e+01,  1.23174726e+01,  1.90586423e+02,\n",
       "        1.14026577e+02, -4.15478572e+00,  3.76304856e+02,  7.91772968e+01,\n",
       "        8.74673406e+00,  2.66448577e+02, -4.86974525e+00,  8.04345640e+00,\n",
       "        3.91178895e+00,  1.50526404e+02,  1.22110924e+02,  1.23991917e+02,\n",
       "        4.40335838e+01,  1.72068158e+02, -2.10835137e+00,  1.58587502e+02,\n",
       "        6.99245405e+01,  3.55878261e+01,  1.09404226e+01,  1.11914059e+00,\n",
       "        6.38365943e+01,  1.76875181e+01, -9.81681387e+00,  7.49597684e+01,\n",
       "        2.20487511e+01])"
      ]
     },
     "execution_count": 67,
     "metadata": {},
     "output_type": "execute_result"
    }
   ],
   "source": [
    "import pickle\n",
    "pickle.dump(my_pipeline, open('model.pkl', 'wb'))\n",
    "pickled_model = pickle.load(open('model.pkl', 'rb'))\n",
    "pickled_model.predict(x_test)"
   ]
  }
 ],
 "metadata": {
  "kernelspec": {
   "display_name": "Python 3 (ipykernel)",
   "language": "python",
   "name": "python3"
  },
  "language_info": {
   "codemirror_mode": {
    "name": "ipython",
    "version": 3
   },
   "file_extension": ".py",
   "mimetype": "text/x-python",
   "name": "python",
   "nbconvert_exporter": "python",
   "pygments_lexer": "ipython3",
   "version": "3.9.7"
  },
  "vscode": {
   "interpreter": {
    "hash": "e174d50920948a59d8328aff62777acc678189663d82d03b78d317c3cbdbbc88"
   }
  }
 },
 "nbformat": 4,
 "nbformat_minor": 5
}
