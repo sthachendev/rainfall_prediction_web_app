{
 "cells": [
  {
   "cell_type": "markdown",
   "id": "3b828302",
   "metadata": {},
   "source": [
    "### Data Exploration and Discovery"
   ]
  },
  {
   "cell_type": "code",
   "execution_count": 1,
   "id": "c7020abd",
   "metadata": {},
   "outputs": [],
   "source": [
    "import pandas as pd"
   ]
  },
  {
   "cell_type": "code",
   "execution_count": 2,
   "id": "87491b31",
   "metadata": {
    "scrolled": true
   },
   "outputs": [
    {
     "data": {
      "text/html": [
       "<div>\n",
       "<style scoped>\n",
       "    .dataframe tbody tr th:only-of-type {\n",
       "        vertical-align: middle;\n",
       "    }\n",
       "\n",
       "    .dataframe tbody tr th {\n",
       "        vertical-align: top;\n",
       "    }\n",
       "\n",
       "    .dataframe thead th {\n",
       "        text-align: right;\n",
       "    }\n",
       "</style>\n",
       "<table border=\"1\" class=\"dataframe\">\n",
       "  <thead>\n",
       "    <tr style=\"text-align: right;\">\n",
       "      <th></th>\n",
       "      <th>location</th>\n",
       "      <th>Year</th>\n",
       "      <th>Month</th>\n",
       "      <th>Tmax</th>\n",
       "      <th>Tmin</th>\n",
       "      <th>RH</th>\n",
       "      <th>Wind Speed</th>\n",
       "      <th>Rainfall</th>\n",
       "    </tr>\n",
       "  </thead>\n",
       "  <tbody>\n",
       "    <tr>\n",
       "      <th>0</th>\n",
       "      <td>Paro</td>\n",
       "      <td>2000</td>\n",
       "      <td>1</td>\n",
       "      <td>9.5</td>\n",
       "      <td>-0.4</td>\n",
       "      <td>65.0</td>\n",
       "      <td>0.26</td>\n",
       "      <td>0.0</td>\n",
       "    </tr>\n",
       "    <tr>\n",
       "      <th>1</th>\n",
       "      <td>Paro</td>\n",
       "      <td>2000</td>\n",
       "      <td>2</td>\n",
       "      <td>10.6</td>\n",
       "      <td>2.0</td>\n",
       "      <td>65.0</td>\n",
       "      <td>0.52</td>\n",
       "      <td>0.0</td>\n",
       "    </tr>\n",
       "    <tr>\n",
       "      <th>2</th>\n",
       "      <td>Paro</td>\n",
       "      <td>2000</td>\n",
       "      <td>3</td>\n",
       "      <td>14.5</td>\n",
       "      <td>4.0</td>\n",
       "      <td>69.0</td>\n",
       "      <td>0.52</td>\n",
       "      <td>11.0</td>\n",
       "    </tr>\n",
       "    <tr>\n",
       "      <th>3</th>\n",
       "      <td>Paro</td>\n",
       "      <td>2000</td>\n",
       "      <td>4</td>\n",
       "      <td>19.6</td>\n",
       "      <td>8.7</td>\n",
       "      <td>77.0</td>\n",
       "      <td>0.42</td>\n",
       "      <td>23.4</td>\n",
       "    </tr>\n",
       "    <tr>\n",
       "      <th>4</th>\n",
       "      <td>Paro</td>\n",
       "      <td>2000</td>\n",
       "      <td>5</td>\n",
       "      <td>22.5</td>\n",
       "      <td>10.2</td>\n",
       "      <td>77.0</td>\n",
       "      <td>0.24</td>\n",
       "      <td>98.4</td>\n",
       "    </tr>\n",
       "  </tbody>\n",
       "</table>\n",
       "</div>"
      ],
      "text/plain": [
       "  location  Year  Month  Tmax  Tmin    RH  Wind Speed  Rainfall\n",
       "0     Paro  2000      1   9.5  -0.4  65.0        0.26       0.0\n",
       "1     Paro  2000      2  10.6   2.0  65.0        0.52       0.0\n",
       "2     Paro  2000      3  14.5   4.0  69.0        0.52      11.0\n",
       "3     Paro  2000      4  19.6   8.7  77.0        0.42      23.4\n",
       "4     Paro  2000      5  22.5  10.2  77.0        0.24      98.4"
      ]
     },
     "execution_count": 2,
     "metadata": {},
     "output_type": "execute_result"
    }
   ],
   "source": [
    "df = pd.read_csv('Data/rainfall.csv')\n",
    "df.head()"
   ]
  },
  {
   "cell_type": "code",
   "execution_count": 3,
   "id": "08a4adb9",
   "metadata": {},
   "outputs": [
    {
     "data": {
      "text/html": [
       "<div>\n",
       "<style scoped>\n",
       "    .dataframe tbody tr th:only-of-type {\n",
       "        vertical-align: middle;\n",
       "    }\n",
       "\n",
       "    .dataframe tbody tr th {\n",
       "        vertical-align: top;\n",
       "    }\n",
       "\n",
       "    .dataframe thead th {\n",
       "        text-align: right;\n",
       "    }\n",
       "</style>\n",
       "<table border=\"1\" class=\"dataframe\">\n",
       "  <thead>\n",
       "    <tr style=\"text-align: right;\">\n",
       "      <th></th>\n",
       "      <th>location</th>\n",
       "      <th>Year</th>\n",
       "      <th>Month</th>\n",
       "      <th>Tmax</th>\n",
       "      <th>Tmin</th>\n",
       "      <th>RH</th>\n",
       "      <th>Wind Speed</th>\n",
       "      <th>Rainfall</th>\n",
       "    </tr>\n",
       "  </thead>\n",
       "  <tbody>\n",
       "    <tr>\n",
       "      <th>2634</th>\n",
       "      <td>Tashiyangtse</td>\n",
       "      <td>2021</td>\n",
       "      <td>8</td>\n",
       "      <td>25.306452</td>\n",
       "      <td>19.322581</td>\n",
       "      <td>86.129032</td>\n",
       "      <td>0.283226</td>\n",
       "      <td>192.3</td>\n",
       "    </tr>\n",
       "    <tr>\n",
       "      <th>2635</th>\n",
       "      <td>Tashiyangtse</td>\n",
       "      <td>2021</td>\n",
       "      <td>9</td>\n",
       "      <td>27.500000</td>\n",
       "      <td>16.816667</td>\n",
       "      <td>78.966667</td>\n",
       "      <td>0.283000</td>\n",
       "      <td>139.8</td>\n",
       "    </tr>\n",
       "    <tr>\n",
       "      <th>2636</th>\n",
       "      <td>Tashiyangtse</td>\n",
       "      <td>2021</td>\n",
       "      <td>10</td>\n",
       "      <td>24.951613</td>\n",
       "      <td>12.790323</td>\n",
       "      <td>78.838710</td>\n",
       "      <td>0.286129</td>\n",
       "      <td>94.6</td>\n",
       "    </tr>\n",
       "    <tr>\n",
       "      <th>2637</th>\n",
       "      <td>Tashiyangtse</td>\n",
       "      <td>2021</td>\n",
       "      <td>11</td>\n",
       "      <td>20.050000</td>\n",
       "      <td>6.266667</td>\n",
       "      <td>75.666667</td>\n",
       "      <td>0.328333</td>\n",
       "      <td>9.0</td>\n",
       "    </tr>\n",
       "    <tr>\n",
       "      <th>2638</th>\n",
       "      <td>Tashiyangtse</td>\n",
       "      <td>2021</td>\n",
       "      <td>12</td>\n",
       "      <td>16.854839</td>\n",
       "      <td>1.935484</td>\n",
       "      <td>74.483871</td>\n",
       "      <td>0.321290</td>\n",
       "      <td>21.0</td>\n",
       "    </tr>\n",
       "  </tbody>\n",
       "</table>\n",
       "</div>"
      ],
      "text/plain": [
       "          location  Year  Month       Tmax       Tmin         RH  Wind Speed  \\\n",
       "2634  Tashiyangtse  2021      8  25.306452  19.322581  86.129032    0.283226   \n",
       "2635  Tashiyangtse  2021      9  27.500000  16.816667  78.966667    0.283000   \n",
       "2636  Tashiyangtse  2021     10  24.951613  12.790323  78.838710    0.286129   \n",
       "2637  Tashiyangtse  2021     11  20.050000   6.266667  75.666667    0.328333   \n",
       "2638  Tashiyangtse  2021     12  16.854839   1.935484  74.483871    0.321290   \n",
       "\n",
       "      Rainfall  \n",
       "2634     192.3  \n",
       "2635     139.8  \n",
       "2636      94.6  \n",
       "2637       9.0  \n",
       "2638      21.0  "
      ]
     },
     "execution_count": 3,
     "metadata": {},
     "output_type": "execute_result"
    }
   ],
   "source": [
    "df.tail()"
   ]
  },
  {
   "cell_type": "code",
   "execution_count": 4,
   "id": "cac53cf8",
   "metadata": {},
   "outputs": [
    {
     "data": {
      "text/plain": [
       "(2639, 8)"
      ]
     },
     "execution_count": 4,
     "metadata": {},
     "output_type": "execute_result"
    }
   ],
   "source": [
    "df.shape"
   ]
  },
  {
   "cell_type": "code",
   "execution_count": 5,
   "id": "8cdd4057",
   "metadata": {},
   "outputs": [
    {
     "data": {
      "text/plain": [
       "Index(['location', 'Year', 'Month', 'Tmax', 'Tmin', 'RH', 'Wind Speed',\n",
       "       'Rainfall'],\n",
       "      dtype='object')"
      ]
     },
     "execution_count": 5,
     "metadata": {},
     "output_type": "execute_result"
    }
   ],
   "source": [
    "df.columns"
   ]
  },
  {
   "cell_type": "code",
   "execution_count": 6,
   "id": "2522c803",
   "metadata": {},
   "outputs": [
    {
     "data": {
      "text/plain": [
       "location       object\n",
       "Year            int64\n",
       "Month           int64\n",
       "Tmax          float64\n",
       "Tmin          float64\n",
       "RH            float64\n",
       "Wind Speed    float64\n",
       "Rainfall      float64\n",
       "dtype: object"
      ]
     },
     "execution_count": 6,
     "metadata": {},
     "output_type": "execute_result"
    }
   ],
   "source": [
    "df.dtypes"
   ]
  },
  {
   "cell_type": "code",
   "execution_count": 7,
   "id": "26a3882f",
   "metadata": {},
   "outputs": [
    {
     "data": {
      "text/html": [
       "<div>\n",
       "<style scoped>\n",
       "    .dataframe tbody tr th:only-of-type {\n",
       "        vertical-align: middle;\n",
       "    }\n",
       "\n",
       "    .dataframe tbody tr th {\n",
       "        vertical-align: top;\n",
       "    }\n",
       "\n",
       "    .dataframe thead th {\n",
       "        text-align: right;\n",
       "    }\n",
       "</style>\n",
       "<table border=\"1\" class=\"dataframe\">\n",
       "  <thead>\n",
       "    <tr style=\"text-align: right;\">\n",
       "      <th></th>\n",
       "      <th>Year</th>\n",
       "      <th>Month</th>\n",
       "      <th>Tmax</th>\n",
       "      <th>Tmin</th>\n",
       "      <th>RH</th>\n",
       "      <th>Wind Speed</th>\n",
       "      <th>Rainfall</th>\n",
       "    </tr>\n",
       "  </thead>\n",
       "  <tbody>\n",
       "    <tr>\n",
       "      <th>count</th>\n",
       "      <td>2639.000000</td>\n",
       "      <td>2639.000000</td>\n",
       "      <td>2638.000000</td>\n",
       "      <td>2638.000000</td>\n",
       "      <td>2637.000000</td>\n",
       "      <td>2632.000000</td>\n",
       "      <td>2638.000000</td>\n",
       "    </tr>\n",
       "    <tr>\n",
       "      <th>mean</th>\n",
       "      <td>2010.498295</td>\n",
       "      <td>6.498674</td>\n",
       "      <td>21.468284</td>\n",
       "      <td>10.279984</td>\n",
       "      <td>72.616870</td>\n",
       "      <td>0.824214</td>\n",
       "      <td>99.919894</td>\n",
       "    </tr>\n",
       "    <tr>\n",
       "      <th>std</th>\n",
       "      <td>6.346088</td>\n",
       "      <td>3.453457</td>\n",
       "      <td>5.040461</td>\n",
       "      <td>7.010512</td>\n",
       "      <td>9.919349</td>\n",
       "      <td>0.427144</td>\n",
       "      <td>160.770207</td>\n",
       "    </tr>\n",
       "    <tr>\n",
       "      <th>min</th>\n",
       "      <td>2000.000000</td>\n",
       "      <td>1.000000</td>\n",
       "      <td>7.300000</td>\n",
       "      <td>-70.774194</td>\n",
       "      <td>36.000000</td>\n",
       "      <td>0.003226</td>\n",
       "      <td>0.000000</td>\n",
       "    </tr>\n",
       "    <tr>\n",
       "      <th>25%</th>\n",
       "      <td>2005.000000</td>\n",
       "      <td>3.500000</td>\n",
       "      <td>17.900000</td>\n",
       "      <td>5.596774</td>\n",
       "      <td>66.225806</td>\n",
       "      <td>0.525572</td>\n",
       "      <td>7.900000</td>\n",
       "    </tr>\n",
       "    <tr>\n",
       "      <th>50%</th>\n",
       "      <td>2010.000000</td>\n",
       "      <td>6.000000</td>\n",
       "      <td>21.967742</td>\n",
       "      <td>11.303226</td>\n",
       "      <td>73.000000</td>\n",
       "      <td>0.793333</td>\n",
       "      <td>51.000000</td>\n",
       "    </tr>\n",
       "    <tr>\n",
       "      <th>75%</th>\n",
       "      <td>2016.000000</td>\n",
       "      <td>9.500000</td>\n",
       "      <td>25.100000</td>\n",
       "      <td>15.642204</td>\n",
       "      <td>79.741935</td>\n",
       "      <td>1.090000</td>\n",
       "      <td>129.900000</td>\n",
       "    </tr>\n",
       "    <tr>\n",
       "      <th>max</th>\n",
       "      <td>2021.000000</td>\n",
       "      <td>12.000000</td>\n",
       "      <td>34.354839</td>\n",
       "      <td>24.033333</td>\n",
       "      <td>98.967742</td>\n",
       "      <td>4.470000</td>\n",
       "      <td>2125.900000</td>\n",
       "    </tr>\n",
       "  </tbody>\n",
       "</table>\n",
       "</div>"
      ],
      "text/plain": [
       "              Year        Month         Tmax         Tmin           RH  \\\n",
       "count  2639.000000  2639.000000  2638.000000  2638.000000  2637.000000   \n",
       "mean   2010.498295     6.498674    21.468284    10.279984    72.616870   \n",
       "std       6.346088     3.453457     5.040461     7.010512     9.919349   \n",
       "min    2000.000000     1.000000     7.300000   -70.774194    36.000000   \n",
       "25%    2005.000000     3.500000    17.900000     5.596774    66.225806   \n",
       "50%    2010.000000     6.000000    21.967742    11.303226    73.000000   \n",
       "75%    2016.000000     9.500000    25.100000    15.642204    79.741935   \n",
       "max    2021.000000    12.000000    34.354839    24.033333    98.967742   \n",
       "\n",
       "        Wind Speed     Rainfall  \n",
       "count  2632.000000  2638.000000  \n",
       "mean      0.824214    99.919894  \n",
       "std       0.427144   160.770207  \n",
       "min       0.003226     0.000000  \n",
       "25%       0.525572     7.900000  \n",
       "50%       0.793333    51.000000  \n",
       "75%       1.090000   129.900000  \n",
       "max       4.470000  2125.900000  "
      ]
     },
     "execution_count": 7,
     "metadata": {},
     "output_type": "execute_result"
    }
   ],
   "source": [
    "df.describe()"
   ]
  },
  {
   "cell_type": "markdown",
   "id": "32148e4e",
   "metadata": {},
   "source": [
    "### Handle Missing Value"
   ]
  },
  {
   "cell_type": "code",
   "execution_count": 8,
   "id": "02ee45da",
   "metadata": {},
   "outputs": [
    {
     "data": {
      "text/plain": [
       "location      0\n",
       "Year          0\n",
       "Month         0\n",
       "Tmax          1\n",
       "Tmin          1\n",
       "RH            2\n",
       "Wind Speed    7\n",
       "Rainfall      1\n",
       "dtype: int64"
      ]
     },
     "execution_count": 8,
     "metadata": {},
     "output_type": "execute_result"
    }
   ],
   "source": [
    "df.isnull().sum()"
   ]
  },
  {
   "cell_type": "code",
   "execution_count": 9,
   "id": "ef32cc6a",
   "metadata": {},
   "outputs": [
    {
     "data": {
      "text/plain": [
       "location      0\n",
       "Year          0\n",
       "Month         0\n",
       "Tmax          0\n",
       "Tmin          0\n",
       "RH            0\n",
       "Wind Speed    0\n",
       "Rainfall      0\n",
       "dtype: int64"
      ]
     },
     "execution_count": 9,
     "metadata": {},
     "output_type": "execute_result"
    }
   ],
   "source": [
    "# df = df.dropna()\n",
    "df[['Tmax','Tmin','RH','Wind Speed','Rainfall']]=df[['Tmax','Tmin','RH','Wind Speed','Rainfall']].fillna(df[['Tmax','Tmin','RH','Wind Speed','Rainfall']].mean())\n",
    "df.isnull().sum()"
   ]
  },
  {
   "cell_type": "markdown",
   "id": "e7cadc96",
   "metadata": {},
   "source": [
    "#### Label encoding location "
   ]
  },
  {
   "cell_type": "code",
   "execution_count": 10,
   "id": "78060ab6",
   "metadata": {},
   "outputs": [
    {
     "data": {
      "text/plain": [
       "Paro            264\n",
       "Pemagatshel     264\n",
       "Punakha         264\n",
       "simkotha        264\n",
       "Chamkhar        264\n",
       "Haa             264\n",
       "Kanglung        264\n",
       "Mongar          264\n",
       "Tashiyangtse    264\n",
       "Deothang        263\n",
       "Name: location, dtype: int64"
      ]
     },
     "execution_count": 10,
     "metadata": {},
     "output_type": "execute_result"
    }
   ],
   "source": [
    "df['location'].value_counts()"
   ]
  },
  {
   "cell_type": "code",
   "execution_count": 11,
   "id": "c93fdac9",
   "metadata": {},
   "outputs": [
    {
     "data": {
      "text/html": [
       "<div>\n",
       "<style scoped>\n",
       "    .dataframe tbody tr th:only-of-type {\n",
       "        vertical-align: middle;\n",
       "    }\n",
       "\n",
       "    .dataframe tbody tr th {\n",
       "        vertical-align: top;\n",
       "    }\n",
       "\n",
       "    .dataframe thead th {\n",
       "        text-align: right;\n",
       "    }\n",
       "</style>\n",
       "<table border=\"1\" class=\"dataframe\">\n",
       "  <thead>\n",
       "    <tr style=\"text-align: right;\">\n",
       "      <th></th>\n",
       "      <th>location</th>\n",
       "      <th>Year</th>\n",
       "      <th>Month</th>\n",
       "      <th>Tmax</th>\n",
       "      <th>Tmin</th>\n",
       "      <th>RH</th>\n",
       "      <th>Wind Speed</th>\n",
       "      <th>Rainfall</th>\n",
       "    </tr>\n",
       "  </thead>\n",
       "  <tbody>\n",
       "    <tr>\n",
       "      <th>0</th>\n",
       "      <td>5</td>\n",
       "      <td>2000</td>\n",
       "      <td>1</td>\n",
       "      <td>9.5</td>\n",
       "      <td>-0.4</td>\n",
       "      <td>65.0</td>\n",
       "      <td>0.26</td>\n",
       "      <td>0.0</td>\n",
       "    </tr>\n",
       "    <tr>\n",
       "      <th>1</th>\n",
       "      <td>5</td>\n",
       "      <td>2000</td>\n",
       "      <td>2</td>\n",
       "      <td>10.6</td>\n",
       "      <td>2.0</td>\n",
       "      <td>65.0</td>\n",
       "      <td>0.52</td>\n",
       "      <td>0.0</td>\n",
       "    </tr>\n",
       "    <tr>\n",
       "      <th>2</th>\n",
       "      <td>5</td>\n",
       "      <td>2000</td>\n",
       "      <td>3</td>\n",
       "      <td>14.5</td>\n",
       "      <td>4.0</td>\n",
       "      <td>69.0</td>\n",
       "      <td>0.52</td>\n",
       "      <td>11.0</td>\n",
       "    </tr>\n",
       "    <tr>\n",
       "      <th>3</th>\n",
       "      <td>5</td>\n",
       "      <td>2000</td>\n",
       "      <td>4</td>\n",
       "      <td>19.6</td>\n",
       "      <td>8.7</td>\n",
       "      <td>77.0</td>\n",
       "      <td>0.42</td>\n",
       "      <td>23.4</td>\n",
       "    </tr>\n",
       "    <tr>\n",
       "      <th>4</th>\n",
       "      <td>5</td>\n",
       "      <td>2000</td>\n",
       "      <td>5</td>\n",
       "      <td>22.5</td>\n",
       "      <td>10.2</td>\n",
       "      <td>77.0</td>\n",
       "      <td>0.24</td>\n",
       "      <td>98.4</td>\n",
       "    </tr>\n",
       "  </tbody>\n",
       "</table>\n",
       "</div>"
      ],
      "text/plain": [
       "   location  Year  Month  Tmax  Tmin    RH  Wind Speed  Rainfall\n",
       "0         5  2000      1   9.5  -0.4  65.0        0.26       0.0\n",
       "1         5  2000      2  10.6   2.0  65.0        0.52       0.0\n",
       "2         5  2000      3  14.5   4.0  69.0        0.52      11.0\n",
       "3         5  2000      4  19.6   8.7  77.0        0.42      23.4\n",
       "4         5  2000      5  22.5  10.2  77.0        0.24      98.4"
      ]
     },
     "execution_count": 11,
     "metadata": {},
     "output_type": "execute_result"
    }
   ],
   "source": [
    "from sklearn import preprocessing \n",
    "\n",
    "label_encoder = preprocessing.LabelEncoder()\n",
    "df['location'] = label_encoder.fit_transform(df['location'])\n",
    "df.head()"
   ]
  },
  {
   "cell_type": "code",
   "execution_count": 12,
   "id": "c0a1ab8d",
   "metadata": {},
   "outputs": [
    {
     "data": {
      "text/plain": [
       "array([5, 6, 7, 9, 0, 1, 2, 3, 4, 8])"
      ]
     },
     "execution_count": 12,
     "metadata": {},
     "output_type": "execute_result"
    }
   ],
   "source": [
    "df.location.unique()"
   ]
  },
  {
   "cell_type": "markdown",
   "id": "f279ed9b",
   "metadata": {},
   "source": [
    "### Visualization"
   ]
  },
  {
   "cell_type": "code",
   "execution_count": 13,
   "id": "3149966e",
   "metadata": {},
   "outputs": [],
   "source": [
    "import matplotlib.pyplot as plt"
   ]
  },
  {
   "cell_type": "code",
   "execution_count": 14,
   "id": "98f95020",
   "metadata": {},
   "outputs": [
    {
     "data": {
      "image/png": "[encoded data removed]",
      "text/plain": [
       "<Figure size 432x288 with 1 Axes>"
      ]
     },
     "metadata": {
      "needs_background": "light"
     },
     "output_type": "display_data"
    }
   ],
   "source": [
    "x = df.Tmax\n",
    "y = df.Rainfall\n",
    "plt.scatter(x,y)\n",
    "plt.xlabel('Tmax (c)')\n",
    "plt.ylabel('Rainfall (ml)')\n",
    "plt.show()"
   ]
  },
  {
   "cell_type": "code",
   "execution_count": 15,
   "id": "feaa2d47",
   "metadata": {},
   "outputs": [
    {
     "data": {
      "image/png": "[encoded data removed]",
      "text/plain": [
       "<Figure size 432x288 with 1 Axes>"
      ]
     },
     "metadata": {
      "needs_background": "light"
     },
     "output_type": "display_data"
    }
   ],
   "source": [
    "x = df.Tmin\n",
    "y = df.Rainfall\n",
    "plt.scatter(x,y)\n",
    "plt.xlabel('Tmin (c)')\n",
    "plt.ylabel('Rainfall (ml)')\n",
    "plt.show()"
   ]
  },
  {
   "cell_type": "code",
   "execution_count": 16,
   "id": "13a3450b",
   "metadata": {},
   "outputs": [
    {
     "data": {
      "image/png": "[encoded data removed]",
      "text/plain": [
       "<Figure size 432x288 with 1 Axes>"
      ]
     },
     "metadata": {
      "needs_background": "light"
     },
     "output_type": "display_data"
    }
   ],
   "source": [
    "x = df.RH\n",
    "y = df.Rainfall\n",
    "plt.scatter(x,y)\n",
    "plt.xlabel('Relative Humidity (RH) (%)')\n",
    "plt.ylabel('Rainfall (ml)')\n",
    "plt.show()"
   ]
  },
  {
   "cell_type": "code",
   "execution_count": 17,
   "id": "7c55cd20",
   "metadata": {},
   "outputs": [
    {
     "data": {
      "image/png": "[encoded data removed]",
      "text/plain": [
       "<Figure size 432x288 with 1 Axes>"
      ]
     },
     "metadata": {
      "needs_background": "light"
     },
     "output_type": "display_data"
    }
   ],
   "source": [
    "x = df['Wind Speed']\n",
    "y = df.Rainfall\n",
    "plt.scatter(x,y)\n",
    "plt.xlabel('Wind speed (m/s)')\n",
    "plt.ylabel('Rainfall (ml)')\n",
    "plt.show()"
   ]
  },
  {
   "cell_type": "markdown",
   "id": "a1e4510c",
   "metadata": {},
   "source": [
    "### Removing Outliers"
   ]
  },
  {
   "cell_type": "code",
   "execution_count": 18,
   "id": "105c8f71",
   "metadata": {},
   "outputs": [],
   "source": [
    "import seaborn as sns"
   ]
  },
  {
   "cell_type": "code",
   "execution_count": 19,
   "id": "b88eac2b",
   "metadata": {},
   "outputs": [
    {
     "data": {
      "image/png": "[encoded data removed]",
      "text/plain": [
       "<Figure size 432x288 with 1 Axes>"
      ]
     },
     "metadata": {
      "needs_background": "light"
     },
     "output_type": "display_data"
    }
   ],
   "source": [
    "#finding outliers\n",
    "sns.boxplot(x=df.RH)\n",
    "plt.show()"
   ]
  },
  {
   "cell_type": "code",
   "execution_count": 20,
   "id": "91203e54",
   "metadata": {},
   "outputs": [
    {
     "data": {
      "text/plain": [
       "(2620, 8)"
      ]
     },
     "execution_count": 20,
     "metadata": {},
     "output_type": "execute_result"
    }
   ],
   "source": [
    "#removing outliers\n",
    "Q1 = df.RH.quantile(0.25)\n",
    "Q3 = df.RH.quantile(0.75)\n",
    "\n",
    "IQR = Q3 - Q1\n",
    "\n",
    "upperlimit = Q3 + (IQR * 1.5)\n",
    "lowerlimit = Q1 - (IQR * 1.5)\n",
    "\n",
    "df2=df[(df.RH> lowerlimit)  & (df.RH < upperlimit)]\n",
    "df2.shape"
   ]
  },
  {
   "cell_type": "code",
   "execution_count": 21,
   "id": "71de006e",
   "metadata": {},
   "outputs": [
    {
     "data": {
      "image/png": "[encoded data removed]",
      "text/plain": [
       "<Figure size 432x288 with 1 Axes>"
      ]
     },
     "metadata": {
      "needs_background": "light"
     },
     "output_type": "display_data"
    }
   ],
   "source": [
    "#after removing outliers from RH\n",
    "sns.boxplot(x=df2.RH)\n",
    "plt.show()"
   ]
  },
  {
   "cell_type": "code",
   "execution_count": 22,
   "id": "e6552dcf",
   "metadata": {},
   "outputs": [
    {
     "data": {
      "image/png": "[encoded data removed]",
      "text/plain": [
       "<Figure size 432x288 with 1 Axes>"
      ]
     },
     "metadata": {
      "needs_background": "light"
     },
     "output_type": "display_data"
    }
   ],
   "source": [
    "#finding outliers\n",
    "sns.boxplot(x=df2['Wind Speed'])\n",
    "plt.show()"
   ]
  },
  {
   "cell_type": "code",
   "execution_count": 23,
   "id": "adde8c28",
   "metadata": {},
   "outputs": [
    {
     "data": {
      "text/plain": [
       "(2590, 8)"
      ]
     },
     "execution_count": 23,
     "metadata": {},
     "output_type": "execute_result"
    }
   ],
   "source": [
    "#removing outliers\n",
    "Q1 = df2['Wind Speed'].quantile(0.25)\n",
    "Q3 = df2['Wind Speed'].quantile(0.75)\n",
    "\n",
    "IQR = Q3 - Q1\n",
    "\n",
    "upperlimit = Q3 + (IQR * 1.5)\n",
    "lowerlimit = Q1 - (IQR * 1.5)\n",
    "\n",
    "df3=df2[(df2['Wind Speed']> lowerlimit) & (df2['Wind Speed'] < upperlimit)]\n",
    "df3.shape"
   ]
  },
  {
   "cell_type": "code",
   "execution_count": 24,
   "id": "dac763ba",
   "metadata": {},
   "outputs": [
    {
     "data": {
      "image/png": "[encoded data removed]",
      "text/plain": [
       "<Figure size 432x288 with 1 Axes>"
      ]
     },
     "metadata": {
      "needs_background": "light"
     },
     "output_type": "display_data"
    }
   ],
   "source": [
    "#after removing outliers from Wind Speed\n",
    "sns.boxplot(x=df3['Wind Speed'])\n",
    "plt.show()"
   ]
  },
  {
   "cell_type": "code",
   "execution_count": 25,
   "id": "779d04f7",
   "metadata": {},
   "outputs": [],
   "source": [
    "# df3['Rainfall'].max()"
   ]
  },
  {
   "cell_type": "code",
   "execution_count": 26,
   "id": "a8743b4d",
   "metadata": {
    "scrolled": true
   },
   "outputs": [],
   "source": [
    "# df3['Rainfall'].mean()"
   ]
  },
  {
   "cell_type": "markdown",
   "id": "c5d2782e",
   "metadata": {},
   "source": [
    "### Heatmap"
   ]
  },
  {
   "cell_type": "code",
   "execution_count": 27,
   "id": "5e79d3ae",
   "metadata": {},
   "outputs": [
    {
     "data": {
      "text/html": [
       "<div>\n",
       "<style scoped>\n",
       "    .dataframe tbody tr th:only-of-type {\n",
       "        vertical-align: middle;\n",
       "    }\n",
       "\n",
       "    .dataframe tbody tr th {\n",
       "        vertical-align: top;\n",
       "    }\n",
       "\n",
       "    .dataframe thead th {\n",
       "        text-align: right;\n",
       "    }\n",
       "</style>\n",
       "<table border=\"1\" class=\"dataframe\">\n",
       "  <thead>\n",
       "    <tr style=\"text-align: right;\">\n",
       "      <th></th>\n",
       "      <th>location</th>\n",
       "      <th>Year</th>\n",
       "      <th>Month</th>\n",
       "      <th>Tmax</th>\n",
       "      <th>Tmin</th>\n",
       "      <th>RH</th>\n",
       "      <th>Wind Speed</th>\n",
       "      <th>Rainfall</th>\n",
       "    </tr>\n",
       "  </thead>\n",
       "  <tbody>\n",
       "    <tr>\n",
       "      <th>location</th>\n",
       "      <td>1.000000</td>\n",
       "      <td>-0.007662</td>\n",
       "      <td>0.004582</td>\n",
       "      <td>0.174478</td>\n",
       "      <td>0.047520</td>\n",
       "      <td>-0.065942</td>\n",
       "      <td>-0.151575</td>\n",
       "      <td>-0.167665</td>\n",
       "    </tr>\n",
       "    <tr>\n",
       "      <th>Year</th>\n",
       "      <td>-0.007662</td>\n",
       "      <td>1.000000</td>\n",
       "      <td>-0.003955</td>\n",
       "      <td>0.067720</td>\n",
       "      <td>-0.033117</td>\n",
       "      <td>-0.153126</td>\n",
       "      <td>-0.159512</td>\n",
       "      <td>-0.002129</td>\n",
       "    </tr>\n",
       "    <tr>\n",
       "      <th>Month</th>\n",
       "      <td>0.004582</td>\n",
       "      <td>-0.003955</td>\n",
       "      <td>1.000000</td>\n",
       "      <td>0.206018</td>\n",
       "      <td>0.197137</td>\n",
       "      <td>0.125817</td>\n",
       "      <td>-0.248115</td>\n",
       "      <td>0.041607</td>\n",
       "    </tr>\n",
       "    <tr>\n",
       "      <th>Tmax</th>\n",
       "      <td>0.174478</td>\n",
       "      <td>0.067720</td>\n",
       "      <td>0.206018</td>\n",
       "      <td>1.000000</td>\n",
       "      <td>0.858437</td>\n",
       "      <td>0.356392</td>\n",
       "      <td>-0.255107</td>\n",
       "      <td>0.400836</td>\n",
       "    </tr>\n",
       "    <tr>\n",
       "      <th>Tmin</th>\n",
       "      <td>0.047520</td>\n",
       "      <td>-0.033117</td>\n",
       "      <td>0.197137</td>\n",
       "      <td>0.858437</td>\n",
       "      <td>1.000000</td>\n",
       "      <td>0.521202</td>\n",
       "      <td>-0.284667</td>\n",
       "      <td>0.509366</td>\n",
       "    </tr>\n",
       "    <tr>\n",
       "      <th>RH</th>\n",
       "      <td>-0.065942</td>\n",
       "      <td>-0.153126</td>\n",
       "      <td>0.125817</td>\n",
       "      <td>0.356392</td>\n",
       "      <td>0.521202</td>\n",
       "      <td>1.000000</td>\n",
       "      <td>-0.314941</td>\n",
       "      <td>0.510174</td>\n",
       "    </tr>\n",
       "    <tr>\n",
       "      <th>Wind Speed</th>\n",
       "      <td>-0.151575</td>\n",
       "      <td>-0.159512</td>\n",
       "      <td>-0.248115</td>\n",
       "      <td>-0.255107</td>\n",
       "      <td>-0.284667</td>\n",
       "      <td>-0.314941</td>\n",
       "      <td>1.000000</td>\n",
       "      <td>-0.224137</td>\n",
       "    </tr>\n",
       "    <tr>\n",
       "      <th>Rainfall</th>\n",
       "      <td>-0.167665</td>\n",
       "      <td>-0.002129</td>\n",
       "      <td>0.041607</td>\n",
       "      <td>0.400836</td>\n",
       "      <td>0.509366</td>\n",
       "      <td>0.510174</td>\n",
       "      <td>-0.224137</td>\n",
       "      <td>1.000000</td>\n",
       "    </tr>\n",
       "  </tbody>\n",
       "</table>\n",
       "</div>"
      ],
      "text/plain": [
       "            location      Year     Month      Tmax      Tmin        RH  \\\n",
       "location    1.000000 -0.007662  0.004582  0.174478  0.047520 -0.065942   \n",
       "Year       -0.007662  1.000000 -0.003955  0.067720 -0.033117 -0.153126   \n",
       "Month       0.004582 -0.003955  1.000000  0.206018  0.197137  0.125817   \n",
       "Tmax        0.174478  0.067720  0.206018  1.000000  0.858437  0.356392   \n",
       "Tmin        0.047520 -0.033117  0.197137  0.858437  1.000000  0.521202   \n",
       "RH         -0.065942 -0.153126  0.125817  0.356392  0.521202  1.000000   \n",
       "Wind Speed -0.151575 -0.159512 -0.248115 -0.255107 -0.284667 -0.314941   \n",
       "Rainfall   -0.167665 -0.002129  0.041607  0.400836  0.509366  0.510174   \n",
       "\n",
       "            Wind Speed  Rainfall  \n",
       "location     -0.151575 -0.167665  \n",
       "Year         -0.159512 -0.002129  \n",
       "Month        -0.248115  0.041607  \n",
       "Tmax         -0.255107  0.400836  \n",
       "Tmin         -0.284667  0.509366  \n",
       "RH           -0.314941  0.510174  \n",
       "Wind Speed    1.000000 -0.224137  \n",
       "Rainfall     -0.224137  1.000000  "
      ]
     },
     "execution_count": 27,
     "metadata": {},
     "output_type": "execute_result"
    }
   ],
   "source": [
    "df3.corr()"
   ]
  },
  {
   "cell_type": "code",
   "execution_count": 28,
   "id": "8cdf9525",
   "metadata": {},
   "outputs": [
    {
     "data": {
      "text/plain": [
       "<AxesSubplot:>"
      ]
     },
     "execution_count": 28,
     "metadata": {},
     "output_type": "execute_result"
    },
    {
     "data": {
      "image/png": "[encoded data removed]",
      "text/plain": [
       "<Figure size 432x288 with 2 Axes>"
      ]
     },
     "metadata": {
      "needs_background": "light"
     },
     "output_type": "display_data"
    }
   ],
   "source": [
    "sns.heatmap(df3.corr(), annot=True)"
   ]
  },
  {
   "cell_type": "markdown",
   "id": "c2129726",
   "metadata": {},
   "source": [
    "### Feature Engineering "
   ]
  },
  {
   "cell_type": "markdown",
   "id": "e26df298",
   "metadata": {},
   "source": [
    "#### Feature Scaling "
   ]
  },
  {
   "cell_type": "code",
   "execution_count": 29,
   "id": "b1139880",
   "metadata": {},
   "outputs": [],
   "source": [
    "from sklearn.preprocessing import RobustScaler"
   ]
  },
  {
   "cell_type": "code",
   "execution_count": 30,
   "id": "e5b7d0a3",
   "metadata": {},
   "outputs": [
    {
     "data": {
      "text/html": [
       "<div>\n",
       "<style scoped>\n",
       "    .dataframe tbody tr th:only-of-type {\n",
       "        vertical-align: middle;\n",
       "    }\n",
       "\n",
       "    .dataframe tbody tr th {\n",
       "        vertical-align: top;\n",
       "    }\n",
       "\n",
       "    .dataframe thead th {\n",
       "        text-align: right;\n",
       "    }\n",
       "</style>\n",
       "<table border=\"1\" class=\"dataframe\">\n",
       "  <thead>\n",
       "    <tr style=\"text-align: right;\">\n",
       "      <th></th>\n",
       "      <th>location</th>\n",
       "      <th>Year</th>\n",
       "      <th>Month</th>\n",
       "      <th>Tmax</th>\n",
       "      <th>Tmin</th>\n",
       "      <th>RH</th>\n",
       "      <th>Wind Speed</th>\n",
       "      <th>Rainfall</th>\n",
       "    </tr>\n",
       "  </thead>\n",
       "  <tbody>\n",
       "    <tr>\n",
       "      <th>0</th>\n",
       "      <td>0.174976</td>\n",
       "      <td>-1.648847</td>\n",
       "      <td>-1.603338</td>\n",
       "      <td>-2.378979</td>\n",
       "      <td>-1.540609</td>\n",
       "      <td>-0.815043</td>\n",
       "      <td>-1.387232</td>\n",
       "      <td>-0.624846</td>\n",
       "    </tr>\n",
       "    <tr>\n",
       "      <th>1</th>\n",
       "      <td>0.174976</td>\n",
       "      <td>-1.648847</td>\n",
       "      <td>-1.312780</td>\n",
       "      <td>-2.160757</td>\n",
       "      <td>-1.196736</td>\n",
       "      <td>-0.815043</td>\n",
       "      <td>-0.727820</td>\n",
       "      <td>-0.624846</td>\n",
       "    </tr>\n",
       "    <tr>\n",
       "      <th>2</th>\n",
       "      <td>0.174976</td>\n",
       "      <td>-1.648847</td>\n",
       "      <td>-1.022223</td>\n",
       "      <td>-1.387059</td>\n",
       "      <td>-0.910176</td>\n",
       "      <td>-0.400055</td>\n",
       "      <td>-0.727820</td>\n",
       "      <td>-0.556885</td>\n",
       "    </tr>\n",
       "    <tr>\n",
       "      <th>3</th>\n",
       "      <td>0.174976</td>\n",
       "      <td>-1.648847</td>\n",
       "      <td>-0.731666</td>\n",
       "      <td>-0.375301</td>\n",
       "      <td>-0.236758</td>\n",
       "      <td>0.429922</td>\n",
       "      <td>-0.981440</td>\n",
       "      <td>-0.480274</td>\n",
       "    </tr>\n",
       "    <tr>\n",
       "      <th>4</th>\n",
       "      <td>0.174976</td>\n",
       "      <td>-1.648847</td>\n",
       "      <td>-0.441109</td>\n",
       "      <td>0.200013</td>\n",
       "      <td>-0.021838</td>\n",
       "      <td>0.429922</td>\n",
       "      <td>-1.437956</td>\n",
       "      <td>-0.016902</td>\n",
       "    </tr>\n",
       "  </tbody>\n",
       "</table>\n",
       "</div>"
      ],
      "text/plain": [
       "   location      Year     Month      Tmax      Tmin        RH  Wind Speed  \\\n",
       "0  0.174976 -1.648847 -1.603338 -2.378979 -1.540609 -0.815043   -1.387232   \n",
       "1  0.174976 -1.648847 -1.312780 -2.160757 -1.196736 -0.815043   -0.727820   \n",
       "2  0.174976 -1.648847 -1.022223 -1.387059 -0.910176 -0.400055   -0.727820   \n",
       "3  0.174976 -1.648847 -0.731666 -0.375301 -0.236758  0.429922   -0.981440   \n",
       "4  0.174976 -1.648847 -0.441109  0.200013 -0.021838  0.429922   -1.437956   \n",
       "\n",
       "   Rainfall  \n",
       "0 -0.624846  \n",
       "1 -0.624846  \n",
       "2 -0.556885  \n",
       "3 -0.480274  \n",
       "4 -0.016902  "
      ]
     },
     "execution_count": 30,
     "metadata": {},
     "output_type": "execute_result"
    }
   ],
   "source": [
    "from sklearn.preprocessing import StandardScaler\n",
    "sc=StandardScaler()\n",
    "scaled_data=sc.fit_transform(df3)\n",
    "final_df=pd.DataFrame(data=scaled_data,columns=df3.columns)\n",
    "final_df.head()"
   ]
  },
  {
   "cell_type": "markdown",
   "id": "14197dea",
   "metadata": {},
   "source": [
    "### Model Training and Testing"
   ]
  },
  {
   "cell_type": "markdown",
   "id": "542c2517",
   "metadata": {},
   "source": [
    "#### Splitting Data "
   ]
  },
  {
   "cell_type": "code",
   "execution_count": 31,
   "id": "583012d1",
   "metadata": {},
   "outputs": [],
   "source": [
    "from sklearn.model_selection import train_test_split"
   ]
  },
  {
   "cell_type": "code",
   "execution_count": 32,
   "id": "b399842d",
   "metadata": {},
   "outputs": [],
   "source": [
    "x = final_df[['location', 'Year', 'Month', 'Tmax', 'Tmin','RH', 'Wind Speed']]\n",
    "y = final_df['Rainfall']"
   ]
  },
  {
   "cell_type": "code",
   "execution_count": 33,
   "id": "3453e10f",
   "metadata": {},
   "outputs": [],
   "source": [
    "x_train, x_test, y_train, y_test = train_test_split(x, y, test_size = 0.2, random_state = 0)"
   ]
  },
  {
   "cell_type": "code",
   "execution_count": 34,
   "id": "896ec886",
   "metadata": {},
   "outputs": [
    {
     "data": {
      "text/plain": [
       "2072"
      ]
     },
     "execution_count": 34,
     "metadata": {},
     "output_type": "execute_result"
    }
   ],
   "source": [
    "len(x_train)"
   ]
  },
  {
   "cell_type": "code",
   "execution_count": 35,
   "id": "202e5f0f",
   "metadata": {},
   "outputs": [
    {
     "data": {
      "text/plain": [
       "518"
      ]
     },
     "execution_count": 35,
     "metadata": {},
     "output_type": "execute_result"
    }
   ],
   "source": [
    "len(x_test)"
   ]
  },
  {
   "cell_type": "markdown",
   "id": "bbf48a74",
   "metadata": {},
   "source": [
    "### Random Forest Algorithm"
   ]
  },
  {
   "cell_type": "code",
   "execution_count": 36,
   "id": "84b3b9df",
   "metadata": {},
   "outputs": [
    {
     "data": {
      "text/plain": [
       "RandomForestRegressor(n_estimators=10)"
      ]
     },
     "execution_count": 36,
     "metadata": {},
     "output_type": "execute_result"
    }
   ],
   "source": [
    "from sklearn.ensemble import RandomForestRegressor\n",
    "model_random = RandomForestRegressor(n_estimators=10)\n",
    "model_random.fit(x_train,y_train)"
   ]
  },
  {
   "cell_type": "code",
   "execution_count": 37,
   "id": "b1a45e3f",
   "metadata": {},
   "outputs": [],
   "source": [
    "from sklearn.metrics import mean_absolute_error, r2_score, mean_squared_error\n",
    "import numpy as np"
   ]
  },
  {
   "cell_type": "code",
   "execution_count": 38,
   "id": "486303b9",
   "metadata": {},
   "outputs": [
    {
     "name": "stdout",
     "output_type": "stream",
     "text": [
      "Train set accuracy:  0.953368391458904\n",
      "Test set accuracy:  0.5319701826071788\n",
      "MSE:  0.605106883991352\n",
      "RMSE:  0.7778861639027603\n"
     ]
    }
   ],
   "source": [
    "y_train_predicted = model_random.predict(x_train)\n",
    "y_test_predicted = model_random.predict(x_test)\n",
    "\n",
    "print(\"Train set accuracy: \",r2_score(y_train,y_train_predicted))\n",
    "\n",
    "print(\"Test set accuracy: \",r2_score(y_test,y_test_predicted))\n",
    "\n",
    "print(\"MSE: \",mean_squared_error(y_test,y_test_predicted))\n",
    "\n",
    "print('RMSE: ',np.sqrt(mean_squared_error(y_test,y_test_predicted)))  "
   ]
  },
  {
   "cell_type": "markdown",
   "id": "ab707416",
   "metadata": {},
   "source": [
    "### Decision Tree Algorithm"
   ]
  },
  {
   "cell_type": "code",
   "execution_count": 39,
   "id": "5c45bcce",
   "metadata": {},
   "outputs": [
    {
     "data": {
      "text/plain": [
       "DecisionTreeRegressor(max_depth=5)"
      ]
     },
     "execution_count": 39,
     "metadata": {},
     "output_type": "execute_result"
    }
   ],
   "source": [
    "from sklearn.tree import DecisionTreeRegressor\n",
    "model_decision = DecisionTreeRegressor(max_depth=5)\n",
    "model_decision.fit(x_train, y_train)"
   ]
  },
  {
   "cell_type": "code",
   "execution_count": 40,
   "id": "c8fed053",
   "metadata": {},
   "outputs": [
    {
     "name": "stdout",
     "output_type": "stream",
     "text": [
      "Train set accuracy:  0.7753034839843185\n",
      "Test set accuracy :  0.4473627280061374\n",
      "MSE: 0.7144942591403721\n",
      "RMSE:  0.8452776225243231\n"
     ]
    }
   ],
   "source": [
    "y_train_predicted = model_decision.predict(x_train)\n",
    "y_test_predicted = model_decision.predict(x_test)\n",
    "print(\"Train set accuracy: \",r2_score(y_train,y_train_predicted))\n",
    "print(\"Test set accuracy : \",r2_score(y_test,y_test_predicted))\n",
    "print(\"MSE:\",mean_squared_error(y_test,y_test_predicted))\n",
    "print('RMSE: ',np.sqrt(mean_squared_error(y_test, y_test_predicted))) "
   ]
  },
  {
   "cell_type": "markdown",
   "id": "fbbfde00",
   "metadata": {},
   "source": [
    "### KNN Algorithm"
   ]
  },
  {
   "cell_type": "code",
   "execution_count": 41,
   "id": "c5e3695a",
   "metadata": {},
   "outputs": [],
   "source": [
    "from sklearn.neighbors import KNeighborsRegressor"
   ]
  },
  {
   "cell_type": "code",
   "execution_count": 42,
   "id": "ad4419d2",
   "metadata": {},
   "outputs": [
    {
     "data": {
      "text/plain": [
       "KNeighborsRegressor(n_neighbors=10)"
      ]
     },
     "execution_count": 42,
     "metadata": {},
     "output_type": "execute_result"
    }
   ],
   "source": [
    "model_KNNR = KNeighborsRegressor(10)\n",
    "model_KNNR.fit(x_train,y_train)"
   ]
  },
  {
   "cell_type": "code",
   "execution_count": 43,
   "id": "37ec71cc",
   "metadata": {},
   "outputs": [
    {
     "name": "stdout",
     "output_type": "stream",
     "text": [
      "Train set accuracy:  0.7598821335937477\n",
      "Test set accuracy :  0.5832601644309277\n",
      "MSE: 0.5387950381900981\n",
      "RMSE:  0.7340265922908367\n"
     ]
    }
   ],
   "source": [
    "y_train_predicted = model_KNNR.predict(x_train)\n",
    "y_test_predicted = model_KNNR.predict(x_test)\n",
    "\n",
    "print(\"Train set accuracy: \",r2_score(y_train,y_train_predicted))\n",
    "\n",
    "print(\"Test set accuracy : \",r2_score(y_test,y_test_predicted))\n",
    "\n",
    "print(\"MSE:\",mean_squared_error(y_test,y_test_predicted))\n",
    "\n",
    "print('RMSE: ',np.sqrt(mean_squared_error(y_test,y_test_predicted))) "
   ]
  },
  {
   "cell_type": "markdown",
   "id": "d47ca6b7",
   "metadata": {},
   "source": [
    "### SVM"
   ]
  },
  {
   "cell_type": "code",
   "execution_count": 44,
   "id": "c9fa81d6",
   "metadata": {},
   "outputs": [],
   "source": [
    "from sklearn import svm\n",
    "model_svm = svm.SVR(kernel='rbf',C=5000,gamma='scale')"
   ]
  },
  {
   "cell_type": "code",
   "execution_count": 45,
   "id": "917add1a",
   "metadata": {},
   "outputs": [
    {
     "data": {
      "text/plain": [
       "SVR(C=5000)"
      ]
     },
     "execution_count": 45,
     "metadata": {},
     "output_type": "execute_result"
    }
   ],
   "source": [
    "model_svm.fit(x_train,y_train)"
   ]
  },
  {
   "cell_type": "code",
   "execution_count": 46,
   "id": "9d06a900",
   "metadata": {},
   "outputs": [
    {
     "name": "stdout",
     "output_type": "stream",
     "text": [
      "Train set accuracy:  0.9128081867383407\n",
      "Test set accuracy :  0.3728282128882501\n",
      "MSE: 0.8108585216654182\n",
      "RMSE:  0.900476830165784\n"
     ]
    }
   ],
   "source": [
    "y_train_predicted = model_svm.predict(x_train)\n",
    "y_test_predicted = model_svm.predict(x_test)\n",
    "\n",
    "print(\"Train set accuracy: \",r2_score(y_train,y_train_predicted))\n",
    "\n",
    "print(\"Test set accuracy : \",r2_score(y_test,y_test_predicted))\n",
    "\n",
    "print(\"MSE:\",mean_squared_error(y_test,y_test_predicted))\n",
    "\n",
    "print('RMSE: ',np.sqrt(mean_squared_error(y_test,y_test_predicted))) "
   ]
  },
  {
   "cell_type": "markdown",
   "id": "7607ccf1",
   "metadata": {},
   "source": [
    "### Using  Pipeline"
   ]
  },
  {
   "cell_type": "code",
   "execution_count": 47,
   "id": "205c5887",
   "metadata": {},
   "outputs": [],
   "source": [
    "x = final_df.drop('Rainfall',axis=1)\n",
    "y = final_df['Rainfall']"
   ]
  },
  {
   "cell_type": "code",
   "execution_count": 48,
   "id": "b8770e18",
   "metadata": {},
   "outputs": [],
   "source": [
    "x_train, x_test, y_train, y_test = train_test_split(x, y , test_size = 0.20, shuffle=True, random_state=50)"
   ]
  },
  {
   "cell_type": "code",
   "execution_count": 49,
   "id": "c6288a9e",
   "metadata": {},
   "outputs": [],
   "source": [
    "from sklearn.pipeline import Pipeline\n",
    "from sklearn.impute import SimpleImputer\n",
    "from sklearn.preprocessing import StandardScaler,OneHotEncoder"
   ]
  },
  {
   "cell_type": "code",
   "execution_count": 50,
   "id": "c931c9ef",
   "metadata": {},
   "outputs": [
    {
     "data": {
      "text/plain": [
       "Index(['location', 'Year', 'Month', 'Tmax', 'Tmin', 'RH', 'Wind Speed'], dtype='object')"
      ]
     },
     "execution_count": 50,
     "metadata": {},
     "output_type": "execute_result"
    }
   ],
   "source": [
    "numeric_col = x.select_dtypes(include=['int64','float64']).columns\n",
    "numeric_col"
   ]
  },
  {
   "cell_type": "code",
   "execution_count": 51,
   "id": "c5e06601",
   "metadata": {},
   "outputs": [
    {
     "data": {
      "text/plain": [
       "Index([], dtype='object')"
      ]
     },
     "execution_count": 51,
     "metadata": {},
     "output_type": "execute_result"
    }
   ],
   "source": [
    "categorical_col = x.select_dtypes(include=['object']).columns\n",
    "categorical_col"
   ]
  },
  {
   "cell_type": "code",
   "execution_count": 52,
   "id": "be7a1aad",
   "metadata": {},
   "outputs": [
    {
     "data": {
      "text/plain": [
       "[0, 1, 2, 3, 4, 5, 6]"
      ]
     },
     "execution_count": 52,
     "metadata": {},
     "output_type": "execute_result"
    }
   ],
   "source": [
    "numeric_index = [x.columns.get_loc(col) for col in numeric_col]\n",
    "numeric_index"
   ]
  },
  {
   "cell_type": "code",
   "execution_count": 53,
   "id": "e99ba661",
   "metadata": {},
   "outputs": [
    {
     "data": {
      "text/plain": [
       "[]"
      ]
     },
     "execution_count": 53,
     "metadata": {},
     "output_type": "execute_result"
    }
   ],
   "source": [
    "categorical_index = [x.columns.get_loc(col) for col in categorical_col]\n",
    "categorical_index"
   ]
  },
  {
   "cell_type": "code",
   "execution_count": 54,
   "id": "21277b77",
   "metadata": {},
   "outputs": [],
   "source": [
    "#Building the Numeric Transformation Pipeline\n",
    "numeric_transformer = Pipeline(steps = [\n",
    "    ('imputer',SimpleImputer(strategy='mean')),\n",
    "    ('scaler',StandardScaler())\n",
    "] )"
   ]
  },
  {
   "cell_type": "code",
   "execution_count": 55,
   "id": "49ec01ca",
   "metadata": {},
   "outputs": [],
   "source": [
    "#Building the Categorical Transformation Pipeline\n",
    "categorical_transformer = Pipeline(steps=[\n",
    "    ('imputer',SimpleImputer(strategy = 'most_frequent',fill_value='missing')),\n",
    "    ('le',OneHotEncoder(handle_unknown='ignore'))\n",
    "])"
   ]
  },
  {
   "cell_type": "code",
   "execution_count": 56,
   "id": "022ff692",
   "metadata": {},
   "outputs": [],
   "source": [
    "from sklearn.compose import ColumnTransformer\n",
    "preprocessor = ColumnTransformer(\n",
    "    transformers = [('num',numeric_transformer,numeric_index),\n",
    "                ('label',categorical_transformer,categorical_index)]\n",
    ")"
   ]
  },
  {
   "cell_type": "markdown",
   "id": "18ef9482",
   "metadata": {},
   "source": [
    "### RANDOM FOREST"
   ]
  },
  {
   "cell_type": "code",
   "execution_count": 57,
   "id": "c5cf8c3d",
   "metadata": {
    "scrolled": true
   },
   "outputs": [
    {
     "data": {
      "text/html": [
       "<style>#sk-ed69b86d-f543-4622-a181-b2dd354d550e {color: black;background-color: white;}#sk-ed69b86d-f543-4622-a181-b2dd354d550e pre{padding: 0;}#sk-ed69b86d-f543-4622-a181-b2dd354d550e div.sk-toggleable {background-color: white;}#sk-ed69b86d-f543-4622-a181-b2dd354d550e label.sk-toggleable__label {cursor: pointer;display: block;width: 100%;margin-bottom: 0;padding: 0.2em 0.3em;box-sizing: border-box;text-align: center;}#sk-ed69b86d-f543-4622-a181-b2dd354d550e div.sk-toggleable__content {max-height: 0;max-width: 0;overflow: hidden;text-align: left;background-color: #f0f8ff;}#sk-ed69b86d-f543-4622-a181-b2dd354d550e div.sk-toggleable__content pre {margin: 0.2em;color: black;border-radius: 0.25em;background-color: #f0f8ff;}#sk-ed69b86d-f543-4622-a181-b2dd354d550e input.sk-toggleable__control:checked~div.sk-toggleable__content {max-height: 200px;max-width: 100%;overflow: auto;}#sk-ed69b86d-f543-4622-a181-b2dd354d550e div.sk-estimator input.sk-toggleable__control:checked~label.sk-toggleable__label {background-color: #d4ebff;}#sk-ed69b86d-f543-4622-a181-b2dd354d550e div.sk-label input.sk-toggleable__control:checked~label.sk-toggleable__label {background-color: #d4ebff;}#sk-ed69b86d-f543-4622-a181-b2dd354d550e input.sk-hidden--visually {border: 0;clip: rect(1px 1px 1px 1px);clip: rect(1px, 1px, 1px, 1px);height: 1px;margin: -1px;overflow: hidden;padding: 0;position: absolute;width: 1px;}#sk-ed69b86d-f543-4622-a181-b2dd354d550e div.sk-estimator {font-family: monospace;background-color: #f0f8ff;margin: 0.25em 0.25em;border: 1px dotted black;border-radius: 0.25em;box-sizing: border-box;}#sk-ed69b86d-f543-4622-a181-b2dd354d550e div.sk-estimator:hover {background-color: #d4ebff;}#sk-ed69b86d-f543-4622-a181-b2dd354d550e div.sk-parallel-item::after {content: \"\";width: 100%;border-bottom: 1px solid gray;flex-grow: 1;}#sk-ed69b86d-f543-4622-a181-b2dd354d550e div.sk-label:hover label.sk-toggleable__label {background-color: #d4ebff;}#sk-ed69b86d-f543-4622-a181-b2dd354d550e div.sk-serial::before {content: \"\";position: absolute;border-left: 1px solid gray;box-sizing: border-box;top: 2em;bottom: 0;left: 50%;}#sk-ed69b86d-f543-4622-a181-b2dd354d550e div.sk-serial {display: flex;flex-direction: column;align-items: center;background-color: white;}#sk-ed69b86d-f543-4622-a181-b2dd354d550e div.sk-item {z-index: 1;}#sk-ed69b86d-f543-4622-a181-b2dd354d550e div.sk-parallel {display: flex;align-items: stretch;justify-content: center;background-color: white;}#sk-ed69b86d-f543-4622-a181-b2dd354d550e div.sk-parallel-item {display: flex;flex-direction: column;position: relative;background-color: white;}#sk-ed69b86d-f543-4622-a181-b2dd354d550e div.sk-parallel-item:first-child::after {align-self: flex-end;width: 50%;}#sk-ed69b86d-f543-4622-a181-b2dd354d550e div.sk-parallel-item:last-child::after {align-self: flex-start;width: 50%;}#sk-ed69b86d-f543-4622-a181-b2dd354d550e div.sk-parallel-item:only-child::after {width: 0;}#sk-ed69b86d-f543-4622-a181-b2dd354d550e div.sk-dashed-wrapped {border: 1px dashed gray;margin: 0.2em;box-sizing: border-box;padding-bottom: 0.1em;background-color: white;position: relative;}#sk-ed69b86d-f543-4622-a181-b2dd354d550e div.sk-label label {font-family: monospace;font-weight: bold;background-color: white;display: inline-block;line-height: 1.2em;}#sk-ed69b86d-f543-4622-a181-b2dd354d550e div.sk-label-container {position: relative;z-index: 2;text-align: center;}#sk-ed69b86d-f543-4622-a181-b2dd354d550e div.sk-container {display: inline-block;position: relative;}</style><div id=\"sk-ed69b86d-f543-4622-a181-b2dd354d550e\" class\"sk-top-container\"><div class=\"sk-container\"><div class=\"sk-item sk-dashed-wrapped\"><div class=\"sk-label-container\"><div class=\"sk-label sk-toggleable\"><input class=\"sk-toggleable__control sk-hidden--visually\" id=\"f6f7ab69-6752-4157-b2dc-306823b0fb45\" type=\"checkbox\" ><label class=\"sk-toggleable__label\" for=\"f6f7ab69-6752-4157-b2dc-306823b0fb45\">Pipeline</label><div class=\"sk-toggleable__content\"><pre>Pipeline(steps=[('preprocessor',\n",
       "                 ColumnTransformer(transformers=[('num',\n",
       "                                                  Pipeline(steps=[('imputer',\n",
       "                                                                   SimpleImputer()),\n",
       "                                                                  ('scaler',\n",
       "                                                                   StandardScaler())]),\n",
       "                                                  [0, 1, 2, 3, 4, 5, 6]),\n",
       "                                                 ('label',\n",
       "                                                  Pipeline(steps=[('imputer',\n",
       "                                                                   SimpleImputer(fill_value='missing',\n",
       "                                                                                 strategy='most_frequent')),\n",
       "                                                                  ('le',\n",
       "                                                                   OneHotEncoder(handle_unknown='ignore'))]),\n",
       "                                                  [])])),\n",
       "                ('model', RandomForestRegressor(n_estimators=10))])</pre></div></div></div><div class=\"sk-serial\"><div class=\"sk-item sk-dashed-wrapped\"><div class=\"sk-label-container\"><div class=\"sk-label sk-toggleable\"><input class=\"sk-toggleable__control sk-hidden--visually\" id=\"3ad4d705-a355-4d5f-a422-2eb9cf1d52e1\" type=\"checkbox\" ><label class=\"sk-toggleable__label\" for=\"3ad4d705-a355-4d5f-a422-2eb9cf1d52e1\">preprocessor: ColumnTransformer</label><div class=\"sk-toggleable__content\"><pre>ColumnTransformer(transformers=[('num',\n",
       "                                 Pipeline(steps=[('imputer', SimpleImputer()),\n",
       "                                                 ('scaler', StandardScaler())]),\n",
       "                                 [0, 1, 2, 3, 4, 5, 6]),\n",
       "                                ('label',\n",
       "                                 Pipeline(steps=[('imputer',\n",
       "                                                  SimpleImputer(fill_value='missing',\n",
       "                                                                strategy='most_frequent')),\n",
       "                                                 ('le',\n",
       "                                                  OneHotEncoder(handle_unknown='ignore'))]),\n",
       "                                 [])])</pre></div></div></div><div class=\"sk-parallel\"><div class=\"sk-parallel-item\"><div class=\"sk-item\"><div class=\"sk-label-container\"><div class=\"sk-label sk-toggleable\"><input class=\"sk-toggleable__control sk-hidden--visually\" id=\"c53b3195-6d9a-4c4e-904e-26fc6c38ed31\" type=\"checkbox\" ><label class=\"sk-toggleable__label\" for=\"c53b3195-6d9a-4c4e-904e-26fc6c38ed31\">num</label><div class=\"sk-toggleable__content\"><pre>[0, 1, 2, 3, 4, 5, 6]</pre></div></div></div><div class=\"sk-serial\"><div class=\"sk-item\"><div class=\"sk-serial\"><div class=\"sk-item\"><div class=\"sk-estimator sk-toggleable\"><input class=\"sk-toggleable__control sk-hidden--visually\" id=\"ddd256d8-a138-4e58-a06e-a001377ed079\" type=\"checkbox\" ><label class=\"sk-toggleable__label\" for=\"ddd256d8-a138-4e58-a06e-a001377ed079\">SimpleImputer</label><div class=\"sk-toggleable__content\"><pre>SimpleImputer()</pre></div></div></div><div class=\"sk-item\"><div class=\"sk-estimator sk-toggleable\"><input class=\"sk-toggleable__control sk-hidden--visually\" id=\"21f8ccb6-e797-41f4-8dae-099575fafaa7\" type=\"checkbox\" ><label class=\"sk-toggleable__label\" for=\"21f8ccb6-e797-41f4-8dae-099575fafaa7\">StandardScaler</label><div class=\"sk-toggleable__content\"><pre>StandardScaler()</pre></div></div></div></div></div></div></div></div><div class=\"sk-parallel-item\"><div class=\"sk-item\"><div class=\"sk-label-container\"><div class=\"sk-label sk-toggleable\"><input class=\"sk-toggleable__control sk-hidden--visually\" id=\"a7f70c58-e7ad-4eb1-963c-022757abee58\" type=\"checkbox\" ><label class=\"sk-toggleable__label\" for=\"a7f70c58-e7ad-4eb1-963c-022757abee58\">label</label><div class=\"sk-toggleable__content\"><pre>[]</pre></div></div></div><div class=\"sk-serial\"><div class=\"sk-item\"><div class=\"sk-serial\"><div class=\"sk-item\"><div class=\"sk-estimator sk-toggleable\"><input class=\"sk-toggleable__control sk-hidden--visually\" id=\"85ff3532-ef56-44ee-b97e-17b1f7099623\" type=\"checkbox\" ><label class=\"sk-toggleable__label\" for=\"85ff3532-ef56-44ee-b97e-17b1f7099623\">SimpleImputer</label><div class=\"sk-toggleable__content\"><pre>SimpleImputer(fill_value='missing', strategy='most_frequent')</pre></div></div></div><div class=\"sk-item\"><div class=\"sk-estimator sk-toggleable\"><input class=\"sk-toggleable__control sk-hidden--visually\" id=\"ef3c9404-3722-478b-8556-4640a978f4e9\" type=\"checkbox\" ><label class=\"sk-toggleable__label\" for=\"ef3c9404-3722-478b-8556-4640a978f4e9\">OneHotEncoder</label><div class=\"sk-toggleable__content\"><pre>OneHotEncoder(handle_unknown='ignore')</pre></div></div></div></div></div></div></div></div></div></div><div class=\"sk-item\"><div class=\"sk-estimator sk-toggleable\"><input class=\"sk-toggleable__control sk-hidden--visually\" id=\"9207cb66-2fc7-46b4-83c1-7fb9337d8a3b\" type=\"checkbox\" ><label class=\"sk-toggleable__label\" for=\"9207cb66-2fc7-46b4-83c1-7fb9337d8a3b\">RandomForestRegressor</label><div class=\"sk-toggleable__content\"><pre>RandomForestRegressor(n_estimators=10)</pre></div></div></div></div></div></div></div>"
      ],
      "text/plain": [
       "Pipeline(steps=[('preprocessor',\n",
       "                 ColumnTransformer(transformers=[('num',\n",
       "                                                  Pipeline(steps=[('imputer',\n",
       "                                                                   SimpleImputer()),\n",
       "                                                                  ('scaler',\n",
       "                                                                   StandardScaler())]),\n",
       "                                                  [0, 1, 2, 3, 4, 5, 6]),\n",
       "                                                 ('label',\n",
       "                                                  Pipeline(steps=[('imputer',\n",
       "                                                                   SimpleImputer(fill_value='missing',\n",
       "                                                                                 strategy='most_frequent')),\n",
       "                                                                  ('le',\n",
       "                                                                   OneHotEncoder(handle_unknown='ignore'))]),\n",
       "                                                  [])])),\n",
       "                ('model', RandomForestRegressor(n_estimators=10))])"
      ]
     },
     "execution_count": 57,
     "metadata": {},
     "output_type": "execute_result"
    }
   ],
   "source": [
    "model_random_pipeline = Pipeline(steps=[\n",
    "    ('preprocessor', preprocessor),\n",
    "    ('model', model_random)\n",
    "])\n",
    "from sklearn import set_config\n",
    "set_config(display='diagram')\n",
    "model_random_pipeline.fit(x_train, y_train)"
   ]
  },
  {
   "cell_type": "code",
   "execution_count": 58,
   "id": "e45f5d68",
   "metadata": {},
   "outputs": [
    {
     "name": "stdout",
     "output_type": "stream",
     "text": [
      "Test Set Accuracy:  0.9305526950999825\n",
      "Test Set Accuracy:  0.7058332874454853\n",
      "MSE: 0.27635530995828034\n",
      "RMSE:  0.5256950731729186\n"
     ]
    }
   ],
   "source": [
    "print('Test Set Accuracy: ', model_random_pipeline.score(x_train,y_train))\n",
    "print('Test Set Accuracy: ', model_random_pipeline.score(x_test,y_test))\n",
    "y_pred = model_random_pipeline.predict(x_test)\n",
    "print(\"MSE:\", mean_squared_error(y_test,y_pred))\n",
    "print('RMSE: ', np.sqrt(mean_squared_error(y_test,y_pred)))  "
   ]
  },
  {
   "cell_type": "markdown",
   "id": "1eea5e7a",
   "metadata": {},
   "source": [
    "### DECISION TREE"
   ]
  },
  {
   "cell_type": "code",
   "execution_count": 59,
   "id": "bb5179e8",
   "metadata": {},
   "outputs": [
    {
     "data": {
      "text/html": [
       "<style>#sk-320cf45a-9ac6-4f29-a9a8-c955bcc9f6f8 {color: black;background-color: white;}#sk-320cf45a-9ac6-4f29-a9a8-c955bcc9f6f8 pre{padding: 0;}#sk-320cf45a-9ac6-4f29-a9a8-c955bcc9f6f8 div.sk-toggleable {background-color: white;}#sk-320cf45a-9ac6-4f29-a9a8-c955bcc9f6f8 label.sk-toggleable__label {cursor: pointer;display: block;width: 100%;margin-bottom: 0;padding: 0.2em 0.3em;box-sizing: border-box;text-align: center;}#sk-320cf45a-9ac6-4f29-a9a8-c955bcc9f6f8 div.sk-toggleable__content {max-height: 0;max-width: 0;overflow: hidden;text-align: left;background-color: #f0f8ff;}#sk-320cf45a-9ac6-4f29-a9a8-c955bcc9f6f8 div.sk-toggleable__content pre {margin: 0.2em;color: black;border-radius: 0.25em;background-color: #f0f8ff;}#sk-320cf45a-9ac6-4f29-a9a8-c955bcc9f6f8 input.sk-toggleable__control:checked~div.sk-toggleable__content {max-height: 200px;max-width: 100%;overflow: auto;}#sk-320cf45a-9ac6-4f29-a9a8-c955bcc9f6f8 div.sk-estimator input.sk-toggleable__control:checked~label.sk-toggleable__label {background-color: #d4ebff;}#sk-320cf45a-9ac6-4f29-a9a8-c955bcc9f6f8 div.sk-label input.sk-toggleable__control:checked~label.sk-toggleable__label {background-color: #d4ebff;}#sk-320cf45a-9ac6-4f29-a9a8-c955bcc9f6f8 input.sk-hidden--visually {border: 0;clip: rect(1px 1px 1px 1px);clip: rect(1px, 1px, 1px, 1px);height: 1px;margin: -1px;overflow: hidden;padding: 0;position: absolute;width: 1px;}#sk-320cf45a-9ac6-4f29-a9a8-c955bcc9f6f8 div.sk-estimator {font-family: monospace;background-color: #f0f8ff;margin: 0.25em 0.25em;border: 1px dotted black;border-radius: 0.25em;box-sizing: border-box;}#sk-320cf45a-9ac6-4f29-a9a8-c955bcc9f6f8 div.sk-estimator:hover {background-color: #d4ebff;}#sk-320cf45a-9ac6-4f29-a9a8-c955bcc9f6f8 div.sk-parallel-item::after {content: \"\";width: 100%;border-bottom: 1px solid gray;flex-grow: 1;}#sk-320cf45a-9ac6-4f29-a9a8-c955bcc9f6f8 div.sk-label:hover label.sk-toggleable__label {background-color: #d4ebff;}#sk-320cf45a-9ac6-4f29-a9a8-c955bcc9f6f8 div.sk-serial::before {content: \"\";position: absolute;border-left: 1px solid gray;box-sizing: border-box;top: 2em;bottom: 0;left: 50%;}#sk-320cf45a-9ac6-4f29-a9a8-c955bcc9f6f8 div.sk-serial {display: flex;flex-direction: column;align-items: center;background-color: white;}#sk-320cf45a-9ac6-4f29-a9a8-c955bcc9f6f8 div.sk-item {z-index: 1;}#sk-320cf45a-9ac6-4f29-a9a8-c955bcc9f6f8 div.sk-parallel {display: flex;align-items: stretch;justify-content: center;background-color: white;}#sk-320cf45a-9ac6-4f29-a9a8-c955bcc9f6f8 div.sk-parallel-item {display: flex;flex-direction: column;position: relative;background-color: white;}#sk-320cf45a-9ac6-4f29-a9a8-c955bcc9f6f8 div.sk-parallel-item:first-child::after {align-self: flex-end;width: 50%;}#sk-320cf45a-9ac6-4f29-a9a8-c955bcc9f6f8 div.sk-parallel-item:last-child::after {align-self: flex-start;width: 50%;}#sk-320cf45a-9ac6-4f29-a9a8-c955bcc9f6f8 div.sk-parallel-item:only-child::after {width: 0;}#sk-320cf45a-9ac6-4f29-a9a8-c955bcc9f6f8 div.sk-dashed-wrapped {border: 1px dashed gray;margin: 0.2em;box-sizing: border-box;padding-bottom: 0.1em;background-color: white;position: relative;}#sk-320cf45a-9ac6-4f29-a9a8-c955bcc9f6f8 div.sk-label label {font-family: monospace;font-weight: bold;background-color: white;display: inline-block;line-height: 1.2em;}#sk-320cf45a-9ac6-4f29-a9a8-c955bcc9f6f8 div.sk-label-container {position: relative;z-index: 2;text-align: center;}#sk-320cf45a-9ac6-4f29-a9a8-c955bcc9f6f8 div.sk-container {display: inline-block;position: relative;}</style><div id=\"sk-320cf45a-9ac6-4f29-a9a8-c955bcc9f6f8\" class\"sk-top-container\"><div class=\"sk-container\"><div class=\"sk-item sk-dashed-wrapped\"><div class=\"sk-label-container\"><div class=\"sk-label sk-toggleable\"><input class=\"sk-toggleable__control sk-hidden--visually\" id=\"c6f72e0d-1456-4d96-a7b0-cdbb178a1279\" type=\"checkbox\" ><label class=\"sk-toggleable__label\" for=\"c6f72e0d-1456-4d96-a7b0-cdbb178a1279\">Pipeline</label><div class=\"sk-toggleable__content\"><pre>Pipeline(steps=[('preprocessor',\n",
       "                 ColumnTransformer(transformers=[('num',\n",
       "                                                  Pipeline(steps=[('imputer',\n",
       "                                                                   SimpleImputer()),\n",
       "                                                                  ('scaler',\n",
       "                                                                   StandardScaler())]),\n",
       "                                                  [0, 1, 2, 3, 4, 5, 6]),\n",
       "                                                 ('label',\n",
       "                                                  Pipeline(steps=[('imputer',\n",
       "                                                                   SimpleImputer(fill_value='missing',\n",
       "                                                                                 strategy='most_frequent')),\n",
       "                                                                  ('le',\n",
       "                                                                   OneHotEncoder(handle_unknown='ignore'))]),\n",
       "                                                  [])])),\n",
       "                ('model', DecisionTreeRegressor(max_depth=5))])</pre></div></div></div><div class=\"sk-serial\"><div class=\"sk-item sk-dashed-wrapped\"><div class=\"sk-label-container\"><div class=\"sk-label sk-toggleable\"><input class=\"sk-toggleable__control sk-hidden--visually\" id=\"3eb0f0c8-745b-4436-811e-d4b957768c73\" type=\"checkbox\" ><label class=\"sk-toggleable__label\" for=\"3eb0f0c8-745b-4436-811e-d4b957768c73\">preprocessor: ColumnTransformer</label><div class=\"sk-toggleable__content\"><pre>ColumnTransformer(transformers=[('num',\n",
       "                                 Pipeline(steps=[('imputer', SimpleImputer()),\n",
       "                                                 ('scaler', StandardScaler())]),\n",
       "                                 [0, 1, 2, 3, 4, 5, 6]),\n",
       "                                ('label',\n",
       "                                 Pipeline(steps=[('imputer',\n",
       "                                                  SimpleImputer(fill_value='missing',\n",
       "                                                                strategy='most_frequent')),\n",
       "                                                 ('le',\n",
       "                                                  OneHotEncoder(handle_unknown='ignore'))]),\n",
       "                                 [])])</pre></div></div></div><div class=\"sk-parallel\"><div class=\"sk-parallel-item\"><div class=\"sk-item\"><div class=\"sk-label-container\"><div class=\"sk-label sk-toggleable\"><input class=\"sk-toggleable__control sk-hidden--visually\" id=\"1282a3d9-9a47-4be8-aa1a-44df7e0387e7\" type=\"checkbox\" ><label class=\"sk-toggleable__label\" for=\"1282a3d9-9a47-4be8-aa1a-44df7e0387e7\">num</label><div class=\"sk-toggleable__content\"><pre>[0, 1, 2, 3, 4, 5, 6]</pre></div></div></div><div class=\"sk-serial\"><div class=\"sk-item\"><div class=\"sk-serial\"><div class=\"sk-item\"><div class=\"sk-estimator sk-toggleable\"><input class=\"sk-toggleable__control sk-hidden--visually\" id=\"e1f98b84-8773-4a37-b464-6992f0dfb4be\" type=\"checkbox\" ><label class=\"sk-toggleable__label\" for=\"e1f98b84-8773-4a37-b464-6992f0dfb4be\">SimpleImputer</label><div class=\"sk-toggleable__content\"><pre>SimpleImputer()</pre></div></div></div><div class=\"sk-item\"><div class=\"sk-estimator sk-toggleable\"><input class=\"sk-toggleable__control sk-hidden--visually\" id=\"25e03548-44ae-4f0d-991f-d68549813aeb\" type=\"checkbox\" ><label class=\"sk-toggleable__label\" for=\"25e03548-44ae-4f0d-991f-d68549813aeb\">StandardScaler</label><div class=\"sk-toggleable__content\"><pre>StandardScaler()</pre></div></div></div></div></div></div></div></div><div class=\"sk-parallel-item\"><div class=\"sk-item\"><div class=\"sk-label-container\"><div class=\"sk-label sk-toggleable\"><input class=\"sk-toggleable__control sk-hidden--visually\" id=\"165c5a8b-bbbb-4cc4-b773-fa639810b752\" type=\"checkbox\" ><label class=\"sk-toggleable__label\" for=\"165c5a8b-bbbb-4cc4-b773-fa639810b752\">label</label><div class=\"sk-toggleable__content\"><pre>[]</pre></div></div></div><div class=\"sk-serial\"><div class=\"sk-item\"><div class=\"sk-serial\"><div class=\"sk-item\"><div class=\"sk-estimator sk-toggleable\"><input class=\"sk-toggleable__control sk-hidden--visually\" id=\"1a4dcb40-dc41-4e16-80fe-446e7862e28d\" type=\"checkbox\" ><label class=\"sk-toggleable__label\" for=\"1a4dcb40-dc41-4e16-80fe-446e7862e28d\">SimpleImputer</label><div class=\"sk-toggleable__content\"><pre>SimpleImputer(fill_value='missing', strategy='most_frequent')</pre></div></div></div><div class=\"sk-item\"><div class=\"sk-estimator sk-toggleable\"><input class=\"sk-toggleable__control sk-hidden--visually\" id=\"1a8368a2-2a40-4e49-bd64-2fc0fc5fa357\" type=\"checkbox\" ><label class=\"sk-toggleable__label\" for=\"1a8368a2-2a40-4e49-bd64-2fc0fc5fa357\">OneHotEncoder</label><div class=\"sk-toggleable__content\"><pre>OneHotEncoder(handle_unknown='ignore')</pre></div></div></div></div></div></div></div></div></div></div><div class=\"sk-item\"><div class=\"sk-estimator sk-toggleable\"><input class=\"sk-toggleable__control sk-hidden--visually\" id=\"1f3cc551-cee7-4691-89c6-7e20c0717895\" type=\"checkbox\" ><label class=\"sk-toggleable__label\" for=\"1f3cc551-cee7-4691-89c6-7e20c0717895\">DecisionTreeRegressor</label><div class=\"sk-toggleable__content\"><pre>DecisionTreeRegressor(max_depth=5)</pre></div></div></div></div></div></div></div>"
      ],
      "text/plain": [
       "Pipeline(steps=[('preprocessor',\n",
       "                 ColumnTransformer(transformers=[('num',\n",
       "                                                  Pipeline(steps=[('imputer',\n",
       "                                                                   SimpleImputer()),\n",
       "                                                                  ('scaler',\n",
       "                                                                   StandardScaler())]),\n",
       "                                                  [0, 1, 2, 3, 4, 5, 6]),\n",
       "                                                 ('label',\n",
       "                                                  Pipeline(steps=[('imputer',\n",
       "                                                                   SimpleImputer(fill_value='missing',\n",
       "                                                                                 strategy='most_frequent')),\n",
       "                                                                  ('le',\n",
       "                                                                   OneHotEncoder(handle_unknown='ignore'))]),\n",
       "                                                  [])])),\n",
       "                ('model', DecisionTreeRegressor(max_depth=5))])"
      ]
     },
     "execution_count": 59,
     "metadata": {},
     "output_type": "execute_result"
    }
   ],
   "source": [
    "model_decision_pipeline = Pipeline(steps=[\n",
    "    ('preprocessor', preprocessor),\n",
    "    ('model', model_decision)\n",
    "])\n",
    "\n",
    "set_config(display='diagram')\n",
    "model_decision_pipeline.fit(x_train, y_train)"
   ]
  },
  {
   "cell_type": "code",
   "execution_count": 60,
   "id": "f0e34030",
   "metadata": {
    "scrolled": true
   },
   "outputs": [
    {
     "name": "stdout",
     "output_type": "stream",
     "text": [
      "Test Set Accuracy:  0.7235631156455713\n",
      "Test Set Accuracy:  0.6497181420819612\n",
      "MSE: 0.3290727580190184\n",
      "RMSE:  0.5736486363785923\n"
     ]
    }
   ],
   "source": [
    "print('Test Set Accuracy: ', model_decision_pipeline.score(x_train,y_train))\n",
    "print('Test Set Accuracy: ', model_decision_pipeline.score(x_test,y_test))\n",
    "y_pred = model_decision_pipeline.predict(x_test)\n",
    "print(\"MSE:\", mean_squared_error(y_test,y_pred))\n",
    "print('RMSE: ', np.sqrt(mean_squared_error(y_test,y_pred)))  "
   ]
  },
  {
   "cell_type": "markdown",
   "id": "820ec55e",
   "metadata": {},
   "source": [
    "### KNN"
   ]
  },
  {
   "cell_type": "code",
   "execution_count": 61,
   "id": "794da4ae",
   "metadata": {},
   "outputs": [
    {
     "data": {
      "text/html": [
       "<style>#sk-e5151a78-c5b9-45a9-9c58-d6127afd5708 {color: black;background-color: white;}#sk-e5151a78-c5b9-45a9-9c58-d6127afd5708 pre{padding: 0;}#sk-e5151a78-c5b9-45a9-9c58-d6127afd5708 div.sk-toggleable {background-color: white;}#sk-e5151a78-c5b9-45a9-9c58-d6127afd5708 label.sk-toggleable__label {cursor: pointer;display: block;width: 100%;margin-bottom: 0;padding: 0.2em 0.3em;box-sizing: border-box;text-align: center;}#sk-e5151a78-c5b9-45a9-9c58-d6127afd5708 div.sk-toggleable__content {max-height: 0;max-width: 0;overflow: hidden;text-align: left;background-color: #f0f8ff;}#sk-e5151a78-c5b9-45a9-9c58-d6127afd5708 div.sk-toggleable__content pre {margin: 0.2em;color: black;border-radius: 0.25em;background-color: #f0f8ff;}#sk-e5151a78-c5b9-45a9-9c58-d6127afd5708 input.sk-toggleable__control:checked~div.sk-toggleable__content {max-height: 200px;max-width: 100%;overflow: auto;}#sk-e5151a78-c5b9-45a9-9c58-d6127afd5708 div.sk-estimator input.sk-toggleable__control:checked~label.sk-toggleable__label {background-color: #d4ebff;}#sk-e5151a78-c5b9-45a9-9c58-d6127afd5708 div.sk-label input.sk-toggleable__control:checked~label.sk-toggleable__label {background-color: #d4ebff;}#sk-e5151a78-c5b9-45a9-9c58-d6127afd5708 input.sk-hidden--visually {border: 0;clip: rect(1px 1px 1px 1px);clip: rect(1px, 1px, 1px, 1px);height: 1px;margin: -1px;overflow: hidden;padding: 0;position: absolute;width: 1px;}#sk-e5151a78-c5b9-45a9-9c58-d6127afd5708 div.sk-estimator {font-family: monospace;background-color: #f0f8ff;margin: 0.25em 0.25em;border: 1px dotted black;border-radius: 0.25em;box-sizing: border-box;}#sk-e5151a78-c5b9-45a9-9c58-d6127afd5708 div.sk-estimator:hover {background-color: #d4ebff;}#sk-e5151a78-c5b9-45a9-9c58-d6127afd5708 div.sk-parallel-item::after {content: \"\";width: 100%;border-bottom: 1px solid gray;flex-grow: 1;}#sk-e5151a78-c5b9-45a9-9c58-d6127afd5708 div.sk-label:hover label.sk-toggleable__label {background-color: #d4ebff;}#sk-e5151a78-c5b9-45a9-9c58-d6127afd5708 div.sk-serial::before {content: \"\";position: absolute;border-left: 1px solid gray;box-sizing: border-box;top: 2em;bottom: 0;left: 50%;}#sk-e5151a78-c5b9-45a9-9c58-d6127afd5708 div.sk-serial {display: flex;flex-direction: column;align-items: center;background-color: white;}#sk-e5151a78-c5b9-45a9-9c58-d6127afd5708 div.sk-item {z-index: 1;}#sk-e5151a78-c5b9-45a9-9c58-d6127afd5708 div.sk-parallel {display: flex;align-items: stretch;justify-content: center;background-color: white;}#sk-e5151a78-c5b9-45a9-9c58-d6127afd5708 div.sk-parallel-item {display: flex;flex-direction: column;position: relative;background-color: white;}#sk-e5151a78-c5b9-45a9-9c58-d6127afd5708 div.sk-parallel-item:first-child::after {align-self: flex-end;width: 50%;}#sk-e5151a78-c5b9-45a9-9c58-d6127afd5708 div.sk-parallel-item:last-child::after {align-self: flex-start;width: 50%;}#sk-e5151a78-c5b9-45a9-9c58-d6127afd5708 div.sk-parallel-item:only-child::after {width: 0;}#sk-e5151a78-c5b9-45a9-9c58-d6127afd5708 div.sk-dashed-wrapped {border: 1px dashed gray;margin: 0.2em;box-sizing: border-box;padding-bottom: 0.1em;background-color: white;position: relative;}#sk-e5151a78-c5b9-45a9-9c58-d6127afd5708 div.sk-label label {font-family: monospace;font-weight: bold;background-color: white;display: inline-block;line-height: 1.2em;}#sk-e5151a78-c5b9-45a9-9c58-d6127afd5708 div.sk-label-container {position: relative;z-index: 2;text-align: center;}#sk-e5151a78-c5b9-45a9-9c58-d6127afd5708 div.sk-container {display: inline-block;position: relative;}</style><div id=\"sk-e5151a78-c5b9-45a9-9c58-d6127afd5708\" class\"sk-top-container\"><div class=\"sk-container\"><div class=\"sk-item sk-dashed-wrapped\"><div class=\"sk-label-container\"><div class=\"sk-label sk-toggleable\"><input class=\"sk-toggleable__control sk-hidden--visually\" id=\"8d8ecb5e-4feb-43b8-b9c9-74e7d6a178dd\" type=\"checkbox\" ><label class=\"sk-toggleable__label\" for=\"8d8ecb5e-4feb-43b8-b9c9-74e7d6a178dd\">Pipeline</label><div class=\"sk-toggleable__content\"><pre>Pipeline(steps=[('preprocessor',\n",
       "                 ColumnTransformer(transformers=[('num',\n",
       "                                                  Pipeline(steps=[('imputer',\n",
       "                                                                   SimpleImputer()),\n",
       "                                                                  ('scaler',\n",
       "                                                                   StandardScaler())]),\n",
       "                                                  [0, 1, 2, 3, 4, 5, 6]),\n",
       "                                                 ('label',\n",
       "                                                  Pipeline(steps=[('imputer',\n",
       "                                                                   SimpleImputer(fill_value='missing',\n",
       "                                                                                 strategy='most_frequent')),\n",
       "                                                                  ('le',\n",
       "                                                                   OneHotEncoder(handle_unknown='ignore'))]),\n",
       "                                                  [])])),\n",
       "                ('model', KNeighborsRegressor(n_neighbors=10))])</pre></div></div></div><div class=\"sk-serial\"><div class=\"sk-item sk-dashed-wrapped\"><div class=\"sk-label-container\"><div class=\"sk-label sk-toggleable\"><input class=\"sk-toggleable__control sk-hidden--visually\" id=\"b963acbe-8647-459a-ba99-e87007ecf676\" type=\"checkbox\" ><label class=\"sk-toggleable__label\" for=\"b963acbe-8647-459a-ba99-e87007ecf676\">preprocessor: ColumnTransformer</label><div class=\"sk-toggleable__content\"><pre>ColumnTransformer(transformers=[('num',\n",
       "                                 Pipeline(steps=[('imputer', SimpleImputer()),\n",
       "                                                 ('scaler', StandardScaler())]),\n",
       "                                 [0, 1, 2, 3, 4, 5, 6]),\n",
       "                                ('label',\n",
       "                                 Pipeline(steps=[('imputer',\n",
       "                                                  SimpleImputer(fill_value='missing',\n",
       "                                                                strategy='most_frequent')),\n",
       "                                                 ('le',\n",
       "                                                  OneHotEncoder(handle_unknown='ignore'))]),\n",
       "                                 [])])</pre></div></div></div><div class=\"sk-parallel\"><div class=\"sk-parallel-item\"><div class=\"sk-item\"><div class=\"sk-label-container\"><div class=\"sk-label sk-toggleable\"><input class=\"sk-toggleable__control sk-hidden--visually\" id=\"9887bdce-74a5-419e-87ca-c4a6d57cfbc7\" type=\"checkbox\" ><label class=\"sk-toggleable__label\" for=\"9887bdce-74a5-419e-87ca-c4a6d57cfbc7\">num</label><div class=\"sk-toggleable__content\"><pre>[0, 1, 2, 3, 4, 5, 6]</pre></div></div></div><div class=\"sk-serial\"><div class=\"sk-item\"><div class=\"sk-serial\"><div class=\"sk-item\"><div class=\"sk-estimator sk-toggleable\"><input class=\"sk-toggleable__control sk-hidden--visually\" id=\"b2dd96a7-e350-446d-b5e5-e3c31e46cc33\" type=\"checkbox\" ><label class=\"sk-toggleable__label\" for=\"b2dd96a7-e350-446d-b5e5-e3c31e46cc33\">SimpleImputer</label><div class=\"sk-toggleable__content\"><pre>SimpleImputer()</pre></div></div></div><div class=\"sk-item\"><div class=\"sk-estimator sk-toggleable\"><input class=\"sk-toggleable__control sk-hidden--visually\" id=\"6944b5ff-ee1c-4c34-8cea-af494168357d\" type=\"checkbox\" ><label class=\"sk-toggleable__label\" for=\"6944b5ff-ee1c-4c34-8cea-af494168357d\">StandardScaler</label><div class=\"sk-toggleable__content\"><pre>StandardScaler()</pre></div></div></div></div></div></div></div></div><div class=\"sk-parallel-item\"><div class=\"sk-item\"><div class=\"sk-label-container\"><div class=\"sk-label sk-toggleable\"><input class=\"sk-toggleable__control sk-hidden--visually\" id=\"3f6584c2-dbc4-44e9-a33f-9e058bcd5cbc\" type=\"checkbox\" ><label class=\"sk-toggleable__label\" for=\"3f6584c2-dbc4-44e9-a33f-9e058bcd5cbc\">label</label><div class=\"sk-toggleable__content\"><pre>[]</pre></div></div></div><div class=\"sk-serial\"><div class=\"sk-item\"><div class=\"sk-serial\"><div class=\"sk-item\"><div class=\"sk-estimator sk-toggleable\"><input class=\"sk-toggleable__control sk-hidden--visually\" id=\"258c27a0-dafa-4183-96a2-7c9fc75c7c62\" type=\"checkbox\" ><label class=\"sk-toggleable__label\" for=\"258c27a0-dafa-4183-96a2-7c9fc75c7c62\">SimpleImputer</label><div class=\"sk-toggleable__content\"><pre>SimpleImputer(fill_value='missing', strategy='most_frequent')</pre></div></div></div><div class=\"sk-item\"><div class=\"sk-estimator sk-toggleable\"><input class=\"sk-toggleable__control sk-hidden--visually\" id=\"b53ab764-db00-48e8-ae47-5f65f7245a86\" type=\"checkbox\" ><label class=\"sk-toggleable__label\" for=\"b53ab764-db00-48e8-ae47-5f65f7245a86\">OneHotEncoder</label><div class=\"sk-toggleable__content\"><pre>OneHotEncoder(handle_unknown='ignore')</pre></div></div></div></div></div></div></div></div></div></div><div class=\"sk-item\"><div class=\"sk-estimator sk-toggleable\"><input class=\"sk-toggleable__control sk-hidden--visually\" id=\"f66739a1-fcb0-41a2-9d78-fc42d90101ae\" type=\"checkbox\" ><label class=\"sk-toggleable__label\" for=\"f66739a1-fcb0-41a2-9d78-fc42d90101ae\">KNeighborsRegressor</label><div class=\"sk-toggleable__content\"><pre>KNeighborsRegressor(n_neighbors=10)</pre></div></div></div></div></div></div></div>"
      ],
      "text/plain": [
       "Pipeline(steps=[('preprocessor',\n",
       "                 ColumnTransformer(transformers=[('num',\n",
       "                                                  Pipeline(steps=[('imputer',\n",
       "                                                                   SimpleImputer()),\n",
       "                                                                  ('scaler',\n",
       "                                                                   StandardScaler())]),\n",
       "                                                  [0, 1, 2, 3, 4, 5, 6]),\n",
       "                                                 ('label',\n",
       "                                                  Pipeline(steps=[('imputer',\n",
       "                                                                   SimpleImputer(fill_value='missing',\n",
       "                                                                                 strategy='most_frequent')),\n",
       "                                                                  ('le',\n",
       "                                                                   OneHotEncoder(handle_unknown='ignore'))]),\n",
       "                                                  [])])),\n",
       "                ('model', KNeighborsRegressor(n_neighbors=10))])"
      ]
     },
     "execution_count": 61,
     "metadata": {},
     "output_type": "execute_result"
    }
   ],
   "source": [
    "#Assemble the individual blocks to form the main pipeline\n",
    "model_KNNR_pipeline = Pipeline(steps=[\n",
    "    ('preprocessor', preprocessor),\n",
    "    ('model', model_KNNR)\n",
    "])\n",
    "\n",
    "\n",
    "set_config(display='diagram')\n",
    "model_KNNR_pipeline.fit(x_train, y_train)"
   ]
  },
  {
   "cell_type": "code",
   "execution_count": 62,
   "id": "2d427fc3",
   "metadata": {},
   "outputs": [
    {
     "name": "stdout",
     "output_type": "stream",
     "text": [
      "Test Set Accuracy:  0.7289642367005986\n",
      "Test Set Accuracy:  0.7134379051742917\n",
      "MSE: 0.26921114170311433\n",
      "RMSE:  0.5188556077591475\n"
     ]
    }
   ],
   "source": [
    "print('Test Set Accuracy: ', model_KNNR_pipeline.score(x_train,y_train))\n",
    "print('Test Set Accuracy: ', model_KNNR_pipeline.score(x_test,y_test))\n",
    "y_pred = model_KNNR_pipeline.predict(x_test)\n",
    "print(\"MSE:\", mean_squared_error(y_test,y_pred))\n",
    "print('RMSE: ', np.sqrt(mean_squared_error(y_test,y_pred)))  "
   ]
  },
  {
   "cell_type": "markdown",
   "id": "2944cd36",
   "metadata": {},
   "source": [
    "### SVM"
   ]
  },
  {
   "cell_type": "code",
   "execution_count": 63,
   "id": "844cc24e",
   "metadata": {},
   "outputs": [
    {
     "data": {
      "text/html": [
       "<style>#sk-5b3e6e1e-36e6-43ee-a670-d920d0ac1020 {color: black;background-color: white;}#sk-5b3e6e1e-36e6-43ee-a670-d920d0ac1020 pre{padding: 0;}#sk-5b3e6e1e-36e6-43ee-a670-d920d0ac1020 div.sk-toggleable {background-color: white;}#sk-5b3e6e1e-36e6-43ee-a670-d920d0ac1020 label.sk-toggleable__label {cursor: pointer;display: block;width: 100%;margin-bottom: 0;padding: 0.2em 0.3em;box-sizing: border-box;text-align: center;}#sk-5b3e6e1e-36e6-43ee-a670-d920d0ac1020 div.sk-toggleable__content {max-height: 0;max-width: 0;overflow: hidden;text-align: left;background-color: #f0f8ff;}#sk-5b3e6e1e-36e6-43ee-a670-d920d0ac1020 div.sk-toggleable__content pre {margin: 0.2em;color: black;border-radius: 0.25em;background-color: #f0f8ff;}#sk-5b3e6e1e-36e6-43ee-a670-d920d0ac1020 input.sk-toggleable__control:checked~div.sk-toggleable__content {max-height: 200px;max-width: 100%;overflow: auto;}#sk-5b3e6e1e-36e6-43ee-a670-d920d0ac1020 div.sk-estimator input.sk-toggleable__control:checked~label.sk-toggleable__label {background-color: #d4ebff;}#sk-5b3e6e1e-36e6-43ee-a670-d920d0ac1020 div.sk-label input.sk-toggleable__control:checked~label.sk-toggleable__label {background-color: #d4ebff;}#sk-5b3e6e1e-36e6-43ee-a670-d920d0ac1020 input.sk-hidden--visually {border: 0;clip: rect(1px 1px 1px 1px);clip: rect(1px, 1px, 1px, 1px);height: 1px;margin: -1px;overflow: hidden;padding: 0;position: absolute;width: 1px;}#sk-5b3e6e1e-36e6-43ee-a670-d920d0ac1020 div.sk-estimator {font-family: monospace;background-color: #f0f8ff;margin: 0.25em 0.25em;border: 1px dotted black;border-radius: 0.25em;box-sizing: border-box;}#sk-5b3e6e1e-36e6-43ee-a670-d920d0ac1020 div.sk-estimator:hover {background-color: #d4ebff;}#sk-5b3e6e1e-36e6-43ee-a670-d920d0ac1020 div.sk-parallel-item::after {content: \"\";width: 100%;border-bottom: 1px solid gray;flex-grow: 1;}#sk-5b3e6e1e-36e6-43ee-a670-d920d0ac1020 div.sk-label:hover label.sk-toggleable__label {background-color: #d4ebff;}#sk-5b3e6e1e-36e6-43ee-a670-d920d0ac1020 div.sk-serial::before {content: \"\";position: absolute;border-left: 1px solid gray;box-sizing: border-box;top: 2em;bottom: 0;left: 50%;}#sk-5b3e6e1e-36e6-43ee-a670-d920d0ac1020 div.sk-serial {display: flex;flex-direction: column;align-items: center;background-color: white;}#sk-5b3e6e1e-36e6-43ee-a670-d920d0ac1020 div.sk-item {z-index: 1;}#sk-5b3e6e1e-36e6-43ee-a670-d920d0ac1020 div.sk-parallel {display: flex;align-items: stretch;justify-content: center;background-color: white;}#sk-5b3e6e1e-36e6-43ee-a670-d920d0ac1020 div.sk-parallel-item {display: flex;flex-direction: column;position: relative;background-color: white;}#sk-5b3e6e1e-36e6-43ee-a670-d920d0ac1020 div.sk-parallel-item:first-child::after {align-self: flex-end;width: 50%;}#sk-5b3e6e1e-36e6-43ee-a670-d920d0ac1020 div.sk-parallel-item:last-child::after {align-self: flex-start;width: 50%;}#sk-5b3e6e1e-36e6-43ee-a670-d920d0ac1020 div.sk-parallel-item:only-child::after {width: 0;}#sk-5b3e6e1e-36e6-43ee-a670-d920d0ac1020 div.sk-dashed-wrapped {border: 1px dashed gray;margin: 0.2em;box-sizing: border-box;padding-bottom: 0.1em;background-color: white;position: relative;}#sk-5b3e6e1e-36e6-43ee-a670-d920d0ac1020 div.sk-label label {font-family: monospace;font-weight: bold;background-color: white;display: inline-block;line-height: 1.2em;}#sk-5b3e6e1e-36e6-43ee-a670-d920d0ac1020 div.sk-label-container {position: relative;z-index: 2;text-align: center;}#sk-5b3e6e1e-36e6-43ee-a670-d920d0ac1020 div.sk-container {display: inline-block;position: relative;}</style><div id=\"sk-5b3e6e1e-36e6-43ee-a670-d920d0ac1020\" class\"sk-top-container\"><div class=\"sk-container\"><div class=\"sk-item\"><div class=\"sk-estimator sk-toggleable\"><input class=\"sk-toggleable__control sk-hidden--visually\" id=\"f10e21ad-6f87-467a-9fa9-4e77555c015e\" type=\"checkbox\" checked><label class=\"sk-toggleable__label\" for=\"f10e21ad-6f87-467a-9fa9-4e77555c015e\">SVR</label><div class=\"sk-toggleable__content\"><pre>SVR(C=5000)</pre></div></div></div></div></div>"
      ],
      "text/plain": [
       "SVR(C=5000)"
      ]
     },
     "execution_count": 63,
     "metadata": {},
     "output_type": "execute_result"
    }
   ],
   "source": [
    "model_svm_pipeline = Pipeline(steps=[\n",
    "    ('preprocessor', preprocessor),\n",
    "    ('model', model_svm)\n",
    "])\n",
    "\n",
    "set_config(display='diagram')\n",
    "model_svm.fit(x_train, y_train)"
   ]
  },
  {
   "cell_type": "code",
   "execution_count": 64,
   "id": "351d7b9c",
   "metadata": {},
   "outputs": [
    {
     "name": "stdout",
     "output_type": "stream",
     "text": [
      "Test Set Accuracy:  0.9099885429512892\n",
      "Test Set Accuracy:  0.4197057268322145\n",
      "MSE: 0.5451582279166929\n",
      "RMSE:  0.7383483107021326\n"
     ]
    }
   ],
   "source": [
    "print('Test Set Accuracy: ', model_svm_pipeline.score(x_train,y_train))\n",
    "print('Test Set Accuracy: ', model_svm_pipeline.score(x_test,y_test))\n",
    "y_pred = model_svm_pipeline.predict(x_test)\n",
    "print(\"MSE:\", mean_squared_error(y_test,y_pred))\n",
    "print('RMSE: ', np.sqrt(mean_squared_error(y_test,y_pred)))  "
   ]
  },
  {
   "cell_type": "markdown",
   "id": "48b95f21",
   "metadata": {},
   "source": [
    "Save model with best model to use"
   ]
  },
  {
   "cell_type": "code",
   "execution_count": 66,
   "id": "e0397250",
   "metadata": {
    "scrolled": true
   },
   "outputs": [
    {
     "data": {
      "text/plain": [
       "array([-1.49858693e-01,  8.66964758e-01, -5.43786651e-01, -8.67412526e-02,\n",
       "        5.43568192e-01,  4.33186811e-01, -5.65039978e-01, -3.09512674e-02,\n",
       "       -1.84271785e-01, -5.07520071e-01,  7.65517188e-01,  8.70788408e-02,\n",
       "       -6.20829964e-01, -1.33758062e-01, -5.93089428e-01, -4.97703477e-02,\n",
       "       -2.11765188e-01,  6.25331721e-01, -2.29565564e-02, -5.61271220e-01,\n",
       "        5.38526705e-01,  2.25559788e+00,  3.45084354e-01, -4.03230486e-01,\n",
       "       -5.52930524e-01, -4.65952516e-01,  3.77520392e-01, -4.14536762e-01,\n",
       "        7.05402398e-01, -2.90970904e-01, -4.94113175e-01, -5.93089428e-01,\n",
       "        7.56435097e-01,  4.27502781e-01, -6.21015312e-01, -4.27449395e-01,\n",
       "       -2.20600147e-01, -4.96399144e-01, -4.50988691e-01, -2.14236506e-01,\n",
       "       -5.92409816e-01,  1.74995949e-01,  5.17396944e-01, -6.16505158e-01,\n",
       "       -4.32392029e-01,  7.43028201e-01, -6.03716092e-01, -2.32153555e-01,\n",
       "       -5.25560686e-01, -3.57634685e-01,  7.41730760e-01, -1.33795132e-01,\n",
       "       -4.70079616e-01, -3.75991106e-02,  5.62498482e-01, -4.01562347e-01,\n",
       "       -4.67484733e-01, -5.22718672e-01, -4.88799844e-01, -4.35913656e-01,\n",
       "       -5.16911076e-01,  3.08508859e-01, -1.71853416e-01,  6.84087287e-01,\n",
       "        3.17590950e-01, -4.94916354e-01, -3.17915153e-02, -1.43433269e-01,\n",
       "        1.79278195e+00, -2.73424552e-01,  5.44574541e-02, -2.96346019e-01,\n",
       "       -1.32374124e-01, -3.46575540e-01,  4.44740219e-01, -5.52312695e-01,\n",
       "        9.87194338e-01, -4.67670082e-01,  4.53135805e-02, -3.85004522e-01,\n",
       "       -5.81227106e-01, -6.05569580e-01, -5.98773458e-01, -6.10265083e-01,\n",
       "        2.91827469e-01, -4.05578238e-01, -5.85057647e-01,  1.62577580e-01,\n",
       "       -2.13680459e-01,  2.70876164e-02,  2.79613673e+00, -2.76204784e-01,\n",
       "       -5.58799902e-01, -5.68252691e-01,  5.51810035e-01, -4.89911936e-01,\n",
       "        6.84087287e-01,  2.09285475e-01, -5.58305639e-01, -2.91032687e-01,\n",
       "        2.58773601e-01, -3.10308961e-01, -2.53043077e-02, -1.54121715e-01,\n",
       "        1.68527966e+00, -3.76602044e-01, -5.24819291e-01, -8.40598735e-02,\n",
       "        2.24978339e-01,  1.57573163e-01,  7.74969976e-01, -5.93583692e-01,\n",
       "        7.19420231e-02, -1.33733349e-01, -6.15949112e-01, -5.91730204e-01,\n",
       "        1.01685014e+00, -6.06743456e-01,  2.18909587e-03, -6.04828185e-01,\n",
       "        4.10327127e-01,  6.77407839e-02,  1.20503406e-01,  9.02242810e-01,\n",
       "        6.45211799e-03, -5.36249133e-01, -6.12921749e-01,  1.98658811e-01,\n",
       "       -6.03160046e-01, -1.19708624e-01, -5.73998503e-01, -4.88676278e-01,\n",
       "       -1.85631009e-01, -4.43821871e-01,  9.85086827e-02, -5.64298583e-01,\n",
       "        4.47026187e-01, -6.12489268e-01,  9.45422186e-02,  4.40119545e+00,\n",
       "       -4.56363806e-01, -4.44192569e-01, -5.95313614e-01, -4.92259688e-01,\n",
       "       -1.16681260e-01, -2.95172143e-01,  1.87204945e+00,  4.98491367e-01,\n",
       "        2.01686175e-01,  5.05534621e-01, -2.15904645e-01, -1.86681319e-01,\n",
       "       -4.09038082e-01,  4.09523949e-01, -1.66107604e-01, -5.58305639e-01,\n",
       "        4.41651072e-01,  6.65051253e-02, -4.95966663e-01, -4.05083974e-01,\n",
       "        3.92719681e+00, -5.45701921e-01,  5.30309576e-01, -3.37067861e-02,\n",
       "       -3.62515536e-01,  4.38067662e-01,  9.74583729e-02,  8.89824442e-01,\n",
       "        3.09806301e-01, -5.97043536e-01, -3.58005382e-01, -3.65851814e-01,\n",
       "       -1.94774883e-01,  2.71439102e-01, -1.53194971e-01,  4.67105639e-01,\n",
       "       -1.76054655e-01, -3.64252350e-02, -5.56946415e-01, -5.65472459e-01,\n",
       "        1.06478681e-01,  3.75666904e-01, -2.43157808e-02, -5.80856408e-01,\n",
       "        4.44184172e-01, -5.61889049e-01,  1.84201606e-01,  4.86567262e-01,\n",
       "       -5.99267721e-01, -5.16231464e-01, -3.78579098e-01,  1.00355279e-02,\n",
       "       -9.89495594e-02,  1.73636725e-01,  1.28918930e+00, -3.98919707e-03,\n",
       "        2.50865386e-01,  3.65349154e-01, -4.42956910e-01, -5.85675477e-01,\n",
       "       -4.50370861e-01, -6.13230663e-01,  3.47741020e-01,  1.19507987e-02,\n",
       "       -4.04046021e-01,  8.97355067e-02, -5.13883713e-01,  6.74016669e-01,\n",
       "       -5.49347114e-01, -2.92268345e-01,  1.55719675e-01, -3.06354853e-01,\n",
       "       -7.44835194e-02, -3.62021273e-01, -5.25189989e-01,  3.06062945e+00,\n",
       "       -3.34033606e-01, -5.18579215e-01, -3.37122752e-01,  2.09717955e-01,\n",
       "        8.82527164e-02,  1.61039875e+00, -5.35754870e-01,  2.61924531e-01,\n",
       "       -4.79655970e-01, -4.34554432e-01,  3.12030486e-01, -5.42242077e-01,\n",
       "        1.49628568e+00, -3.68446697e-01, -2.52912619e-01,  1.25910101e+00,\n",
       "        2.06004088e-02, -4.84289690e-01, -3.49911818e-01,  1.43950716e+00,\n",
       "       -5.32665723e-01, -4.21580016e-01, -5.30750453e-01,  5.08740442e-02,\n",
       "        4.89409277e-01, -6.14466322e-01,  1.50220995e-01,  5.03928265e-01,\n",
       "       -1.13097850e-01,  1.88737162e+00, -4.50988691e-01, -6.14157407e-01,\n",
       "       -5.11103481e-01,  9.99303792e-01,  3.65781635e-01,  2.58464687e-01,\n",
       "       -5.27908438e-01, -1.14889555e-01, -5.82771679e-01, -5.34766343e-01,\n",
       "        2.97943979e-01,  6.69924971e-03, -2.96284236e-01, -5.06593327e-01,\n",
       "        3.82401243e-01, -5.16911076e-01, -5.17590689e-01, -5.44157348e-01,\n",
       "       -3.77652354e-01,  5.39014077e-02,  8.23778490e-01,  1.32304634e+00,\n",
       "        3.77767523e-01,  9.41838776e-02, -5.45207658e-01, -1.65736906e-01,\n",
       "       -3.75551734e-01, -6.01059426e-01, -4.62171401e-01, -3.46822672e-01,\n",
       "       -4.90159068e-01, -1.99637199e-01, -6.07237719e-01,  3.89499388e-02,\n",
       "       -1.42074044e-01,  1.65865121e+00, -1.88171001e-02,  6.67776594e-01,\n",
       "       -5.83883772e-01,  7.50929525e-02, -5.38473319e-01,  7.71201217e-01,\n",
       "       -1.74757214e-01, -4.13610019e-01,  3.77026128e-01,  3.29435427e+00,\n",
       "       -5.69982613e-01, -5.67634861e-01,  2.42153993e-01, -2.96284236e-01,\n",
       "       -4.89046975e-01, -3.19267485e-01, -5.53301222e-01, -4.73477677e-01,\n",
       "       -5.50644556e-01, -3.91182815e-01,  2.23020509e+00, -2.09417437e-01,\n",
       "        4.63213315e-01,  1.25446040e-01,  4.06805500e-01,  2.15463768e-01,\n",
       "        3.91854031e-01,  2.26392455e-02, -3.71455526e-01,  1.32489294e-01,\n",
       "       -1.34419853e-02, -5.71341837e-01, -5.75913774e-01,  2.06072763e-01,\n",
       "        4.05631624e-01, -5.76964084e-01, -4.77431785e-01,  5.17520509e-01,\n",
       "       -5.95498962e-01,  2.77105286e+00,  5.21103919e-01, -6.09832602e-01,\n",
       "       -4.10211957e-01,  6.24404977e-01,  4.00002486e-02, -4.61121091e-01,\n",
       "        2.72111822e-02, -5.73874937e-01, -1.07537387e-01, -3.60909180e-01,\n",
       "        2.32392291e-01,  2.00018036e-01, -5.44219131e-01,  3.27908699e-01,\n",
       "       -5.07520071e-01, -5.55401841e-01,  4.52092387e-01, -2.60635486e-01,\n",
       "       -5.55278275e-01, -6.76256143e-02,  3.27846916e-01,  3.78231584e+00,\n",
       "       -5.68746954e-01, -2.29064409e-01,  1.40886283e+00, -7.65841390e-02,\n",
       "       -5.56452151e-01, -6.10821129e-01, -1.56043878e-02,  1.63875022e-01,\n",
       "        5.52817786e+00,  3.92286512e-01, -5.18826347e-01, -3.76416695e-01,\n",
       "       -3.80123671e-01, -2.03424493e-01,  2.30885476e+00, -5.72268581e-01,\n",
       "        1.32921774e-01,  3.02844054e+00,  4.34793167e-01,  6.04503982e-02,\n",
       "        1.38296889e-01,  4.48570760e-01,  1.94883161e-02, -3.89329327e-01,\n",
       "       -2.72868506e-01,  3.76964345e-01, -5.86046174e-01, -4.14907460e-01,\n",
       "        3.68994347e-01, -6.08040897e-01, -4.61182874e-01,  1.43376135e+00,\n",
       "        2.08173382e-01, -5.08632164e-01, -6.84905753e-02,  3.55896366e-01,\n",
       "       -5.33654250e-01, -4.99797205e-01,  8.15801601e-02, -1.12047540e-01,\n",
       "       -2.94121833e-01, -5.86787569e-01, -5.84316252e-01,  2.14413458e-01,\n",
       "       -4.58835123e-01,  6.32622107e-01,  7.99744931e-01,  2.02914942e-02,\n",
       "        6.94707059e-02,  4.87308657e-01,  1.64196982e+00, -6.03777875e-01,\n",
       "       -5.22718672e-01,  7.75958503e-01, -4.57970162e-01,  6.01963749e-03,\n",
       "       -4.08736059e-02, -1.71668067e-01,  3.82692312e+00, -6.07423068e-01,\n",
       "        2.45675620e-01,  2.49252139e-02, -2.22220529e-03,  1.29214799e-01,\n",
       "       -5.37361226e-01, -5.34889909e-01, -3.64492590e-01, -5.62197964e-01,\n",
       "       -4.46911017e-01, -5.61333003e-01, -1.01420877e-01,  3.72824889e-01,\n",
       "       -2.24368906e-01,  1.96743540e-01,  2.23680898e-01, -5.13767039e-02,\n",
       "       -9.56750642e-02,  2.88182276e-01, -5.96919970e-01, -1.75436826e-01,\n",
       "       -1.72038765e-01, -4.51977218e-01, -4.86946356e-01, -5.78508657e-01,\n",
       "       -5.93274777e-01, -4.68905740e-01, -5.72762844e-01, -5.56390368e-01,\n",
       "       -5.23089369e-01,  5.98826844e-01,  7.19056425e-01, -5.48365479e-02,\n",
       "       -1.36390015e-01, -1.58174676e-01, -4.69708918e-01,  3.00477079e-01,\n",
       "       -1.39170246e-01, -5.17343557e-01, -5.97290667e-01, -8.34420442e-02,\n",
       "        5.15605239e-01, -2.42471304e-01, -5.87034701e-01, -5.14384868e-02,\n",
       "        1.30939231e+00, -6.04025007e-01, -9.22770031e-02, -5.12339140e-01,\n",
       "       -6.06249192e-01,  1.41324253e-01, -2.37899368e-01, -9.02999493e-02,\n",
       "       -4.21332885e-01, -1.24651258e-01,  1.13454662e+00, -6.06743456e-01,\n",
       "        2.15495349e+00,  4.45797396e+00,  5.57988328e-01, -3.36072442e-01,\n",
       "       -5.52930524e-01, -5.52992307e-01,  4.39279297e+00,  4.51412775e-01,\n",
       "       -3.88526149e-01, -2.42780219e-01, -4.82127287e-01, -5.34086731e-01,\n",
       "       -6.01739038e-01,  4.57961766e-01,  2.93298591e+00,  7.23195881e-01,\n",
       "       -2.64713159e-01,  2.25287254e-01, -4.89541239e-01,  1.57314364e+00,\n",
       "        4.51900147e-02, -3.90256071e-01,  7.44133403e-02,  2.12943714e+00,\n",
       "       -5.47740758e-01, -5.25498904e-01,  3.15552113e-01,  2.40485854e-01,\n",
       "       -6.04587945e-02, -1.14765989e-01, -2.21279760e-01,  5.84307856e-01,\n",
       "       -3.86376103e-01,  2.36717096e-01, -2.39814638e-01,  9.95905731e-01,\n",
       "       -5.06160847e-01, -5.69735481e-01,  5.93877318e-02,  1.84695869e-01,\n",
       "       -5.50829905e-01,  3.23391654e-02, -3.09629348e-01, -2.35984097e-01,\n",
       "       -2.25666348e-01, -4.22321412e-01,  1.68324082e+00,  4.67290988e-01,\n",
       "       -3.79691190e-01,  3.70909618e-01, -3.10247178e-01, -8.22681685e-02,\n",
       "       -3.52692050e-01,  1.36116641e+00, -2.54024712e-01, -4.97943717e-01,\n",
       "       -3.15189812e-01, -6.23177715e-01])"
      ]
     },
     "execution_count": 66,
     "metadata": {},
     "output_type": "execute_result"
    }
   ],
   "source": [
    "import pickle\n",
    "pickle.dump(model_KNNR_pipeline, open('model.pkl', 'wb'))\n",
    "pickled_model = pickle.load(open('model.pkl', 'rb'))\n",
    "# pickled_model.predict(x_test)"
   ]
  }
 ],
 "metadata": {
  "kernelspec": {
   "display_name": "Python 3 (ipykernel)",
   "language": "python",
   "name": "python3"
  },
  "language_info": {
   "codemirror_mode": {
    "name": "ipython",
    "version": 3
   },
   "file_extension": ".py",
   "mimetype": "text/x-python",
   "name": "python",
   "nbconvert_exporter": "python",
   "pygments_lexer": "ipython3",
   "version": "3.9.7"
  },
  "vscode": {
   "interpreter": {
    "hash": "e174d50920948a59d8328aff62777acc678189663d82d03b78d317c3cbdbbc88"
   }
  }
 },
 "nbformat": 4,
 "nbformat_minor": 5
}
